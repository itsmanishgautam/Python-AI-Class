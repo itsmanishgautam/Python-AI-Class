{
 "cells": [
  {
   "cell_type": "code",
   "execution_count": 10,
   "metadata": {},
   "outputs": [
    {
     "name": "stdout",
     "output_type": "stream",
     "text": [
      "Request failed for 2024-05-23 with status code: 419\n",
      "Request failed for 2024-05-24 with status code: 419\n",
      "Request failed for 2024-05-25 with status code: 419\n",
      "Request failed for 2024-05-26 with status code: 419\n"
     ]
    }
   ],
   "source": [
    "import requests\n",
    "from datetime import datetime, timedelta\n",
    "\n",
    "# Function to format date string\n",
    "def format_date(date):\n",
    "    return date.strftime(\"%Y-%m-%d\")\n",
    "\n",
    "# Define the URL and headers\n",
    "url = \"https://www.sharesansar.com/ajaxtodayshareprice\"\n",
    "headers = {\n",
    "    \"accept\": \"*/*\",\n",
    "    \"accept-language\": \"en-GB,en-US;q=0.9,en;q=0.8\",\n",
    "    \"content-type\": \"application/x-www-form-urlencoded; charset=UTF-8\",\n",
    "    \"cookie\": \"_gid=GA1.2.317488179.1716993804; _ga_FPXFBP3MT9=GS1.1.1716997443.2.1.1717000661.60.0.0; _ga=GA1.2.1019898196.1716993802; XSRF-TOKEN=eyJpdiI6InhJVzg1NUcvYUhOY25HaThEQ0tSSGc9PSIsInZhbHVlIjoidzJIZVBpdExabEhqMHFZOGxQMTdXUHVpU0R6eklCVDFsZnAvOTVxaS94b0lDd0VhWHA3aGFYd1RleHhiRVNKVjEwZXZlaTF6RDB5aVJaSnE1WUU1eXNycFg3VVp3eDM0R0lNUnRwc2U1ZklBTU92QWk0bW9RRngyWTB5WmJyL2UiLCJtYWMiOiIxYjhhYTVkMTE1YzNjNzk4NDQ4NGJkMTU2Nzk5YWU1MGJlNGE5MTEzOWZhZDgxOGM1ODI3MTdkMjRlMjNmYmY0In0%3D; sharesansar_session=eyJpdiI6IjJBUmd0NHErMzBKcE9YMVhXUlYxTnc9PSIsInZhbHVlIjoiTytKeTV3dnZ2Tko0Q1ZLcDFNcGFJNEs1MXA3WUpXNUlibE5HaFhnUXR4OC9TdjQ5MGpwckpGb2ZMR0dCUlR6cVV1ZElUMUE4Q2taNnZDbWR5YlRrQk5rYWowSkI3VUJSZlQ5K1dkYnFRV3ZmYlhQMGVySC9pWjFPUzJ3Y2VIbEsiLCJtYWMiOiJmZDE1MjU5MDYzZDI5MjFjOTc0MDEwODM1NzhiMGU0NzI1Zjg2M2Y4ZWRkOTgzYjQ5NmVkM2FiZmYwMzgzOTk5In0%3D\",\n",
    "    \"dnt\": \"1\",\n",
    "    \"origin\": \"https://www.sharesansar.com\",\n",
    "    \"priority\": \"u=1, i\",\n",
    "    \"referer\": \"https://www.sharesansar.com/today-share-price\",\n",
    "    \"sec-ch-ua\": '\"Google Chrome\";v=\"125\", \"Chromium\";v=\"125\", \"Not.A/Brand\";v=\"24\"',\n",
    "    \"sec-ch-ua-mobile\": \"?1\",\n",
    "    \"sec-ch-ua-platform\": '\"Android\"',\n",
    "    \"sec-fetch-dest\": \"empty\",\n",
    "    \"sec-fetch-mode\": \"cors\",\n",
    "    \"sec-fetch-site\": \"same-origin\",\n",
    "    \"user-agent\": \"Mozilla/5.0 (Linux; Android 6.0; Nexus 5 Build/MRA58N) AppleWebKit/537.36 (KHTML, like Gecko) Chrome/125.0.0.0 Mobile Safari/537.36\",\n",
    "    \"x-requested-with\": \"XMLHttpRequest\"\n",
    "}\n",
    "\n",
    "# Start and end dates\n",
    "start_date = datetime.strptime(\"2024-05-23\", \"%Y-%m-%d\")\n",
    "end_date = datetime.strptime(\"2024-05-26\", \"%Y-%m-%d\")\n",
    "\n",
    "# Loop through dates and make requests\n",
    "current_date = start_date\n",
    "while current_date <= end_date:\n",
    "    data = {\n",
    "        \"_token\": \"4PHlXikMPQxZRmBz3Ded77w7FzmQCrovhiS4Sv00\",\n",
    "        \"sector\": \"all_sec\",\n",
    "        \"date\": format_date(current_date)\n",
    "    }\n",
    "    response = requests.post(url, headers=headers, data=data)\n",
    "    if response.status_code == 200:\n",
    "        response_html = response.text\n",
    "        print(\"Response for\", data['date'], \":\")\n",
    "        print(response_html)\n",
    "    else:\n",
    "        print(\"Request failed for\", format_date(current_date), \"with status code:\", response.status_code)\n",
    "    \n",
    "    # Move to the next date\n",
    "    current_date += timedelta(days=1)\n"
   ]
  },
  {
   "cell_type": "code",
   "execution_count": 11,
   "metadata": {},
   "outputs": [
    {
     "name": "stdout",
     "output_type": "stream",
     "text": [
      "['Date', 'S.No', 'Symbol', 'Conf.', 'Open', 'High', 'Low', 'Close', 'VWAP', 'Vol', 'Prev. Close', 'Turnover', 'Trans.', 'Diff', 'Range', 'Diff %', 'Range %', 'VWAP %', '52 Weeks High', '52 Weeks Low']\n"
     ]
    }
   ],
   "source": [
    "import re\n",
    "import csv\n",
    "\n",
    "# Define regex pattern to match the date\n",
    "date_pattern = r'<h5>As of : <span class=\"text-org\">(\\d{4}-\\d{2}-\\d{2})</span></h5>'\n",
    "date_matches = re.findall(date_pattern, response_html, re.DOTALL)\n",
    "\n",
    "# Define regex pattern to match each table section\n",
    "table_pattern = r'<h5>As of : <span class=\"text-org\">(\\d{4}-\\d{2}-\\d{2})</span></h5>(.*?)</table>'\n",
    "table_matches = re.findall(table_pattern, response_html, re.DOTALL)\n",
    "\n",
    "# Extract <thead> section to get headers\n",
    "thead_pattern = r'<thead>(.*?)</thead>'\n",
    "thead_matches = re.findall(thead_pattern, response_html, re.DOTALL)\n",
    "\n",
    "# Extract headers\n",
    "headers = []\n",
    "if thead_matches:\n",
    "    headers = re.findall(r'<th.*?>(.*?)</th>', thead_matches[0], re.DOTALL)\n",
    "    headers = [re.sub(r'<.*?>', '', header).strip() for header in headers]\n",
    "\n",
    "headers = ['Date'] + headers\n",
    "print(headers)\n"
   ]
  },
  {
   "cell_type": "code",
   "execution_count": 12,
   "metadata": {},
   "outputs": [],
   "source": [
    "# Extract <tbody> section to get data rows\n",
    "tbody_pattern = r'<tbody>(.*?)</tbody>'\n",
    "row_pattern = r'<tr>(.*?)</tr>'\n",
    "cell_pattern = r'<t[dh].*?>(.*?)</t[dh]>'\n",
    "\n",
    "data = []\n",
    "\n",
    "for date, table_content in table_matches:\n",
    "    # Check if the table has valid data\n",
    "    tbody_matches = re.findall(tbody_pattern, table_content, re.DOTALL)\n",
    "    if not tbody_matches or 'No Record Found.' in tbody_matches[0]:\n",
    "        continue\n",
    "    \n",
    "    for tbody in tbody_matches:\n",
    "        row_matches = re.findall(row_pattern, tbody, re.DOTALL)\n",
    "        for row in row_matches:\n",
    "            cells = re.findall(cell_pattern, row, re.DOTALL)\n",
    "            # Clean up cell values\n",
    "            cells = [re.sub(r'<.*?>', '', cell).strip() for cell in cells]\n",
    "            data.append([date] + cells)"
   ]
  },
  {
   "cell_type": "code",
   "execution_count": 13,
   "metadata": {},
   "outputs": [
    {
     "name": "stdout",
     "output_type": "stream",
     "text": [
      "Data has been written to 23_26_nepse_stock_data.csv\n"
     ]
    }
   ],
   "source": [
    "# Write to CSV\n",
    "csv_filename = \"23_26_nepse_stock_data.csv\"\n",
    "with open(csv_filename, mode='w', newline='') as file:\n",
    "    writer = csv.writer(file)\n",
    "    writer.writerow(headers)\n",
    "    writer.writerows(data)\n",
    "\n",
    "print(f\"Data has been written to {csv_filename}\")"
   ]
  }
 ],
 "metadata": {
  "kernelspec": {
   "display_name": "base",
   "language": "python",
   "name": "python3"
  },
  "language_info": {
   "codemirror_mode": {
    "name": "ipython",
    "version": 3
   },
   "file_extension": ".py",
   "mimetype": "text/x-python",
   "name": "python",
   "nbconvert_exporter": "python",
   "pygments_lexer": "ipython3",
   "version": "3.11.7"
  }
 },
 "nbformat": 4,
 "nbformat_minor": 2
}
