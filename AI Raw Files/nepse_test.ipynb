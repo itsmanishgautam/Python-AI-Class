{
 "cells": [
  {
   "cell_type": "code",
   "execution_count": 25,
   "metadata": {},
   "outputs": [],
   "source": [
    "import urllib.request\n",
    "import urllib.parse\n",
    "import re\n",
    "import datetime\n",
    "import csv\n",
    "import http.cookiejar\n",
    "import time\n",
    "\n",
    "# Function to fetch the CSRF token from the main page\n",
    "def get_csrf_token_and_cookies():\n",
    "    url = 'https://www.sharesansar.com/today-share-price'\n",
    "    headers = {\n",
    "        'User-Agent': 'Mozilla/5.0 (Linux; Android 6.0; Nexus 5 Build/MRA58N) AppleWebKit/537.36 (KHTML, like Gecko) Chrome/125.0.0.0 Mobile Safari/537.36',\n",
    "    }\n",
    "    req = urllib.request.Request(url, headers=headers)\n",
    "    \n",
    "    # Use a cookie jar to store cookies\n",
    "    cookie_jar = http.cookiejar.CookieJar()\n",
    "    opener = urllib.request.build_opener(urllib.request.HTTPCookieProcessor(cookie_jar))\n",
    "    response = opener.open(req)\n",
    "    html = response.read().decode('utf-8')\n",
    "    \n",
    "    # Extract CSRF token from the hidden input field\n",
    "    token_pattern = r'<input type=\"hidden\" name=\"_token\" value=\"([^\"]+)\"'\n",
    "    token = re.search(token_pattern, html).group(1)\n",
    "    \n",
    "    return token, cookie_jar\n"
   ]
  },
  {
   "cell_type": "code",
   "execution_count": 27,
   "metadata": {},
   "outputs": [],
   "source": [
    "# Function to perform a POST request and fetch HTML content\n",
    "def fetch_html(date, token, cookie_jar):\n",
    "    url = 'https://www.sharesansar.com/ajaxtodayshareprice'\n",
    "    headers = {\n",
    "        'User-Agent': 'Mozilla/5.0 (Linux; Android 6.0; Nexus 5 Build/MRA58N) AppleWebKit/537.36 (KHTML, like Gecko) Chrome/125.0.0.0 Mobile Safari/537.36',\n",
    "        'X-Requested-With': 'XMLHttpRequest',\n",
    "        'Content-Type': 'application/x-www-form-urlencoded; charset=UTF-8',\n",
    "    }\n",
    "    data = urllib.parse.urlencode({'date': date, '_token': token}).encode('utf-8')\n",
    "    req = urllib.request.Request(url, data=data, headers=headers)\n",
    "    time.sleep(2)\n",
    "    \n",
    "    # Use the same cookie jar for the request\n",
    "    opener = urllib.request.build_opener(urllib.request.HTTPCookieProcessor(cookie_jar))\n",
    "    time.sleep(2)\n",
    "\n",
    "    response = opener.open(req)\n",
    "    time.sleep(2)\n",
    "\n",
    "    return response.read().decode('utf-8')"
   ]
  },
  {
   "cell_type": "code",
   "execution_count": 28,
   "metadata": {},
   "outputs": [],
   "source": [
    "# Function to extract share prices from HTML content\n",
    "def parse_share_prices(html_content, date):\n",
    "    # Extract the table rows\n",
    "    tbody_pattern = r'<tbody>(.*?)</tbody>'\n",
    "    tbody_match = re.search(tbody_pattern, html_content, re.DOTALL)\n",
    "    \n",
    "    if not tbody_match:\n",
    "        return []\n",
    "    \n",
    "    tbody_content = tbody_match.group(1)\n",
    "    row_pattern = r'<tr>(.*?)</tr>'\n",
    "    rows = re.findall(row_pattern, tbody_content, re.DOTALL)\n",
    "    \n",
    "    data = []\n",
    "    for row in rows:\n",
    "        cols_pattern = r'<td.*?>(.*?)</td>'\n",
    "        cols = re.findall(cols_pattern, row, re.DOTALL)\n",
    "        cols = [re.sub(r'<.*?>', '', col).strip() for col in cols]  # Remove HTML tags and strip whitespace\n",
    "        if len(cols) == 21:\n",
    "            data.append([date] + cols)\n",
    "    \n",
    "    return data"
   ]
  },
  {
   "cell_type": "code",
   "execution_count": 29,
   "metadata": {},
   "outputs": [],
   "source": [
    "# Function to generate dates between two date ranges\n",
    "def date_range(start_date, end_date):\n",
    "    current_date = start_date\n",
    "    while current_date <= end_date:\n",
    "        yield current_date\n",
    "        current_date += datetime.timedelta(days=1)"
   ]
  },
  {
   "cell_type": "code",
   "execution_count": 30,
   "metadata": {},
   "outputs": [],
   "source": [
    "start_date = datetime.date(2024, 1, 1)\n",
    "end_date = datetime.date(2024, 1, 3)\n",
    "csv_filename = \"nepse.csv\"\n",
    "\n",
    "# Fetch CSRF token and initial cookies\n",
    "token, cookie_jar = get_csrf_token_and_cookies()"
   ]
  },
  {
   "cell_type": "code",
   "execution_count": 31,
   "metadata": {},
   "outputs": [
    {
     "name": "stdout",
     "output_type": "stream",
     "text": [
      "kvlfgqt21TQQBldd3xt1TtebP3mmJwpyX6Eum6HZ\n",
      "<CookieJar[<Cookie XSRF-TOKEN=eyJpdiI6IkNGaHp1NTdabEcxeVZ0aXM4VjVKSUE9PSIsInZhbHVlIjoiVThVbS9Dbkx4Z3p5bFFwTXdFZTFIK0R6dGdFQ1duOWxjSFRCQjNIOEJPcHNLUTVTVmt4cks2Nks0Ykd2cFkrNFFPZm85MkpKUFoxR2IxS1NENHNHRjkxcUJudmJBS2JLQ2kzZ3BCdzluR2djSnA4cEh0V2NYTnRCa0lpRHF6ZGwiLCJtYWMiOiI0YjM2ZGY4NTM3ZTU2M2Q5NThhOGM3ZGZmYzZlODQwMmMxY2UxYzIzZTM3ZDdlNTBhZmQ1MGJiYmM5Yjk4ZjA5In0%3D for www.sharesansar.com/>, <Cookie sharesansar_session=eyJpdiI6IjUwSmQrQU5GWC9hQjlDeDBjM2I5M1E9PSIsInZhbHVlIjoidDhOdWhvRS9pK3JQWXN0cExYYnd0Tmt0OUZnSUxOZUhNS0dEaGUvbWVGTWxVZXVhODhIK1EvTG5WWCt4bFJmOERUSHVUUUhHeUNyZUdmN09odXA3TndJYUpLaUJPbVNOeVpUQmRzSHBDczZrT01sS2RLdFVJU1plN2RCSWJRdFciLCJtYWMiOiI4ZmMwY2MxNTkyZjVjN2IyZDI3NzM3MmNmOGVmMjdkZTE2MGZhNmJmMzYyNDUyNzVlNzQ4YmQyMzUxN2E2MmMwIn0%3D for www.sharesansar.com/>]>\n"
     ]
    }
   ],
   "source": [
    "print(token)\n",
    "print(cookie_jar)"
   ]
  },
  {
   "cell_type": "code",
   "execution_count": 32,
   "metadata": {},
   "outputs": [],
   "source": [
    "# with open(csv_filename, 'w', newline='') as csvfile:\n",
    "#     writer = csv.writer(csvfile)\n",
    "#     writer.writerow(['Date', 'S.No', 'Symbol', 'Conf', 'Open', 'High', 'Low', 'Close', 'VWAP', 'Vol', 'Prev. Close', 'Turnover', 'Trans', 'Diff', 'Range', 'Diff %', 'Range %', 'VWAP %', '120 Days', '180 Days', '52 Weeks High', '52 Weeks Low'])\n",
    "\n",
    "#     for single_date in date_range(start_date, end_date):\n",
    "#         formatted_date = single_date.strftime('%Y-%m-%d')\n",
    "#         try:\n",
    "#             html_content = fetch_html(formatted_date, token, cookie_jar)\n",
    "#             share_prices = parse_share_prices(html_content, formatted_date)\n",
    "            \n",
    "#             if share_prices:\n",
    "#                 for row in share_prices:\n",
    "#                     writer.writerow(row)\n",
    "#                 print(f\"Data for {formatted_date} written to CSV.\")\n",
    "#             else:\n",
    "#                 print(f\"No data for {formatted_date}.\")\n",
    "            \n",
    "#         except Exception as e:\n",
    "#             print(f\"Error fetching data for {formatted_date}: {e}\")\n",
    "\n",
    "# print(\"CSV file exported successfully.\")"
   ]
  }
 ],
 "metadata": {
  "kernelspec": {
   "display_name": "base",
   "language": "python",
   "name": "python3"
  },
  "language_info": {
   "codemirror_mode": {
    "name": "ipython",
    "version": 3
   },
   "file_extension": ".py",
   "mimetype": "text/x-python",
   "name": "python",
   "nbconvert_exporter": "python",
   "pygments_lexer": "ipython3",
   "version": "3.11.7"
  }
 },
 "nbformat": 4,
 "nbformat_minor": 2
}
