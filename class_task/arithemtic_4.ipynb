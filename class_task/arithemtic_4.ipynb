{
 "cells": [
  {
   "cell_type": "code",
   "execution_count": 29,
   "metadata": {},
   "outputs": [],
   "source": [
    "import re\n",
    "\n",
    "keywords_set = {\n",
    "    'sum': ['sum', 'add', 'plus', 'total', 'increase', 'increment', 'augment'],\n",
    "    'difference': ['difference', 'subtract', 'minus', 'less', 'decrease', 'reduce', 'deduct', 'take away', 'diminish'],\n",
    "    'product': ['product', 'multiply', 'times', 'timesed', 'multiplied by', 'twice', 'double', 'triple', 'quadruple'],\n",
    "    'division': ['division', 'divide', 'over', 'divided by', 'fraction', 'split', 'partition', 'share', 'cut'],\n",
    "    'power': ['power', 'raised to the power of', 'to the exponent of', 'squared', 'cubed', 'to the nth power', 'to the power']\n",
    "}\n",
    "\n",
    "\n"
   ]
  },
  {
   "cell_type": "code",
   "execution_count": 30,
   "metadata": {},
   "outputs": [],
   "source": [
    "\n",
    "def extract_keyword(input_text):\n",
    "    for operation, synonyms in keywords_set.items():\n",
    "        if any(word in input_text for word in synonyms):\n",
    "            return operation\n",
    "    return None\n",
    "\n",
    "def extract_numbers(input_text):\n",
    "    number_pattern = r'\\d+'\n",
    "    numbers = re.findall(number_pattern, input_text)\n",
    "    return numbers"
   ]
  },
  {
   "cell_type": "code",
   "execution_count": 31,
   "metadata": {},
   "outputs": [
    {
     "name": "stdout",
     "output_type": "stream",
     "text": [
      "Operation: sum\n",
      "Operation Symbol: +\n",
      "Numbers: ['1', '4']\n"
     ]
    }
   ],
   "source": [
    "input_text = input(\"Enter Text: \")\n",
    "operation = extract_keyword(input_text)\n",
    "\n",
    "if operation:\n",
    "    operation_symbol = operations_set.get(operation)\n",
    "    if operation_symbol:\n",
    "        numbers = extract_numbers(input_text)\n",
    "        print(f\"Operation: {operation}\\nOperation Symbol: {operation_symbol}\\nNumbers: {numbers}\")\n",
    "    else:\n",
    "        print(\"No operation symbol defined for:\", operation)\n",
    "else:\n",
    "    print(\"No operation keyword found in the text.\")\n"
   ]
  },
  {
   "cell_type": "code",
   "execution_count": 32,
   "metadata": {},
   "outputs": [
    {
     "name": "stdout",
     "output_type": "stream",
     "text": [
      "The sum of 1 and 4 is 5\n"
     ]
    }
   ],
   "source": [
    "num1 = int(numbers[0])\n",
    "num2 = int(numbers[1])\n",
    "\n",
    "if operation_symbol == \"+\":\n",
    "    result = num1 + num2\n",
    "elif operation_symbol == \"-\":\n",
    "    result = num1 - num2\n",
    "elif operation_symbol == \"*\":\n",
    "    result = num1 * num2\n",
    "elif operation_symbol == \"/\":\n",
    "    if num2 != 0:\n",
    "        result = num1 / num2\n",
    "    else:\n",
    "        print(\"Cannot perform division by zero.\")\n",
    "        result = None\n",
    "else:\n",
    "    print(\"Invalid operation symbol\")\n",
    "    result = None\n",
    "\n",
    "print(f\"The {operation} of {numbers[0]} and {numbers[1]} is {result}\")\n"
   ]
  }
 ],
 "metadata": {
  "kernelspec": {
   "display_name": "base",
   "language": "python",
   "name": "python3"
  },
  "language_info": {
   "codemirror_mode": {
    "name": "ipython",
    "version": 3
   },
   "file_extension": ".py",
   "mimetype": "text/x-python",
   "name": "python",
   "nbconvert_exporter": "python",
   "pygments_lexer": "ipython3",
   "version": "3.11.7"
  }
 },
 "nbformat": 4,
 "nbformat_minor": 2
}
