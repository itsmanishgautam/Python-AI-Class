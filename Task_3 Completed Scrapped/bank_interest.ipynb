{
 "cells": [
  {
   "cell_type": "code",
   "execution_count": 313,
   "metadata": {},
   "outputs": [],
   "source": [
    "import re\n",
    "import urllib.request"
   ]
  },
  {
   "cell_type": "code",
   "execution_count": 314,
   "metadata": {},
   "outputs": [],
   "source": [
    "user_agent = 'Mozilla/5.0 (Windows NT 10.0; Win64; x64) AppleWebKit/537.36 (KHTML, like Gecko) Chrome/58.0.3029.110 Safari/537.3'"
   ]
  },
  {
   "cell_type": "code",
   "execution_count": 315,
   "metadata": {},
   "outputs": [],
   "source": [
    "url ='https://bankbyaj.com/deposite'\n",
    "request = urllib.request.Request(url, headers={'User-Agent': user_agent})\n",
    "response = urllib.request.urlopen(request)\n",
    "html_content = response.read().decode('utf-8')"
   ]
  },
  {
   "cell_type": "code",
   "execution_count": 316,
   "metadata": {},
   "outputs": [],
   "source": [
    "# print(html_content)"
   ]
  },
  {
   "cell_type": "code",
   "execution_count": 317,
   "metadata": {},
   "outputs": [
    {
     "name": "stdout",
     "output_type": "stream",
     "text": [
      "['Nepal Bank Ltd.', 'Rastriya Banijya Bank', 'Nabil Bank', 'Nepal Investment Mega Bank', 'Standard Chartered Bank', 'Himalayan Bank', 'Nepal SBI Bank', 'Everest Bank', 'NIC ASIA Bank', 'Machhapuchhre Bank', 'Kumari Bank', 'Laxmi Sunrise', 'Siddhartha Bank', 'Agriculture Dev. Bank', 'Global IME Bank', \"Citizens Bank Int'l\", 'Prime Commercial Bank', 'NMB Bank', 'Prabhu Bank', 'Sanima Bank', 'Narayani Bikas Bank', 'Karnali Bikas Bank', 'Excel Bikas Bank', 'Miteri Bikas Bank', 'Muktinath Bikas Bank', 'Corporate Bikas Bank', 'Sindhu Bikas Bank', 'Green Dev. Bank', 'Shangrila Bikas Bank', 'Shine Resunga BB', 'Jyoti Bikas Bank', 'Garima Bikas Bank', 'Mahalaxmi Bikas Bank', 'Lumbini Bikas Bank', 'Kamana Sewa B.Bank', 'Saptakoshi Bikas Bank', 'Gurkhas Finance Ltd', 'Goodwill Finance Co.', 'Shree Invest &amp;Finance', 'Nepal Finance Co.', 'Best Finance Co.', 'Progressive Fin. Co.', 'Janaki Finance Co.', 'Pokhara Finance', 'Central Finance Ltd', 'Multipurpose Finance', 'Samriddhi Finance Co.', 'Guheshwori Finance', 'ICFC Finance Ltd', 'Manjushree Finance', 'Reliance Finance Ltd.', 'Salapa Bikas Bank']\n"
     ]
    }
   ],
   "source": [
    "bank_name_pattern = r'<h3[^>]*>[^<]*<\\/h3><span[^>]*>([^<]*)<\\/span>'\n",
    "Bank_name=re.findall(bank_name_pattern,html_content)\n",
    "print(Bank_name)"
   ]
  },
  {
   "cell_type": "code",
   "execution_count": 318,
   "metadata": {},
   "outputs": [
    {
     "name": "stdout",
     "output_type": "stream",
     "text": [
      "52\n"
     ]
    }
   ],
   "source": [
    "print(len(Bank_name))"
   ]
  },
  {
   "cell_type": "code",
   "execution_count": 319,
   "metadata": {},
   "outputs": [
    {
     "name": "stdout",
     "output_type": "stream",
     "text": [
      "[('5.65%', '6.75%'), ('4.65%', '6.40%'), ('5.15%', '6.75%'), ('4.50%', '7.00%'), ('4.55%', '7.00%'), ('5.50%', '7.50%'), ('3.80%', '6.39%'), ('5.00%', '6.50%'), ('5.65%', '7.80%'), ('5.30%', '7.25%'), ('5.41%', '7.26%'), ('5.25%', '7.00%'), ('5.25%', '7.00%'), ('4.76%', '5.666%'), ('4.50%', '7.50%'), ('5.25%', '7.00%'), ('5.25%', '7.00%'), ('4.75%', '7.80%'), ('6.00%', '7.50%'), ('5.20%', '6.90%'), ('6.00%', '9.00%'), ('5.00%', '8.50%'), ('5.25%', '8.00%'), ('6.00%', '8.00%'), ('5.25%', '7.50%'), ('7.50%', '8.80%'), ('5.00%', '7.51%'), ('5.75%', '8.00%'), ('4.00%', '7.75%'), ('5.01%', '7.50%'), ('5.00%', '7.50%'), ('5.05%', '7.50%'), ('6.50%', '7.50%'), ('5.00%', '7.25%'), ('6.50%', '7.75%'), ('5.15%', '8.00%'), ('6.50%', '8.75%'), ('--', '8.00%'), ('6.50%', '8.10%'), ('--', '8.75%'), ('7.00%', '9.00%'), ('7.50%', '8.50%'), ('0.00%', '8.75%'), ('5.25%', '7.70%'), ('0.00%', '8.50%'), ('6.50%', '8.75%'), ('6.35%', '9.25%'), ('6.25%', '8.50%'), ('5.00%', '7.80%'), ('6.00%', '8.60%'), ('6.75%', '9.25%'), ('4.73%', '8.50%')]\n",
      "Savings Deposit Rates: ['5.65%', '4.65%', '5.15%', '4.50%', '4.55%', '5.50%', '3.80%', '5.00%', '5.65%', '5.30%', '5.41%', '5.25%', '5.25%', '4.76%', '4.50%', '5.25%', '5.25%', '4.75%', '6.00%', '5.20%', '6.00%', '5.00%', '5.25%', '6.00%', '5.25%', '7.50%', '5.00%', '5.75%', '4.00%', '5.01%', '5.00%', '5.05%', '6.50%', '5.00%', '6.50%', '5.15%', '6.50%', '--', '6.50%', '--', '7.00%', '7.50%', '0.00%', '5.25%', '0.00%', '6.50%', '6.35%', '6.25%', '5.00%', '6.00%', '6.75%', '4.73%']\n",
      "Fixed Deposit Rates: ['6.75%', '6.40%', '6.75%', '7.00%', '7.00%', '7.50%', '6.39%', '6.50%', '7.80%', '7.25%', '7.26%', '7.00%', '7.00%', '5.666%', '7.50%', '7.00%', '7.00%', '7.80%', '7.50%', '6.90%', '9.00%', '8.50%', '8.00%', '8.00%', '7.50%', '8.80%', '7.51%', '8.00%', '7.75%', '7.50%', '7.50%', '7.50%', '7.50%', '7.25%', '7.75%', '8.00%', '8.75%', '8.00%', '8.10%', '8.75%', '9.00%', '8.50%', '8.75%', '7.70%', '8.50%', '8.75%', '9.25%', '8.50%', '7.80%', '8.60%', '9.25%', '8.50%']\n"
     ]
    }
   ],
   "source": [
    "# Account_Intrest_Pattern = r'<h3[^>]*>(\\d+\\.\\d+%?)<\\/h3>'\n",
    "Account_Intrest_Pattern = r'<td _ngcontent-sc20=\"\"><h3 _ngcontent-sc20=\"\">(.*?)</h3></td><td _ngcontent-sc20=\"\"><h3 _ngcontent-sc20=\"\">(.*?)</h3></td>'\n",
    "Account_Data = re.findall(Account_Intrest_Pattern, html_content)\n",
    "print(Account_Data)\n",
    "\n",
    "Savings_Deposit =[item[0] for item in Account_Data]\n",
    "Fixed_Deposit = [item[1] for item in Account_Data]\n",
    "\n",
    "print(\"Savings Deposit Rates:\", Savings_Deposit)\n",
    "print(\"Fixed Deposit Rates:\", Fixed_Deposit)"
   ]
  },
  {
   "cell_type": "code",
   "execution_count": 320,
   "metadata": {},
   "outputs": [
    {
     "name": "stdout",
     "output_type": "stream",
     "text": [
      "Data exported to csv/bank_interest.csv\n"
     ]
    }
   ],
   "source": [
    "# Create a list of tuples containing job titles and companies\n",
    "data = list(zip(Bank_name,Savings_Deposit,Fixed_Deposit))\n",
    "import csv\n",
    "\n",
    "# Define the CSV file path\n",
    "csv_file = 'csv/bank_interest.csv'\n",
    "\n",
    "# Write the data to a CSV file\n",
    "with open(csv_file, 'w', newline='', encoding='utf-8') as file:\n",
    "    writer = csv.writer(file)\n",
    "    writer.writerow(['Bankn Name','Savings Rate','Fixed Rate'])  # Write header row\n",
    "    writer.writerows(data)  # Write data rows\n",
    "\n",
    "print(f'Data exported to {csv_file}')"
   ]
  },
  {
   "cell_type": "markdown",
   "metadata": {},
   "source": [
    "ASK QUESTION\n"
   ]
  },
  {
   "cell_type": "code",
   "execution_count": 321,
   "metadata": {},
   "outputs": [],
   "source": [
    "# import csv\n",
    "# import nltk\n",
    "# from nltk.tokenize import word_tokenize\n",
    "# from nltk.corpus import stopwords\n",
    "\n",
    "# # Load CSV data into a dictionary\n",
    "# bank_data = {}\n",
    "# with open('csv/bank_interest.csv', newline='') as csvfile:\n",
    "#     reader = csv.DictReader(csvfile)\n",
    "#     for row in reader:\n",
    "#         bank_data[row['Bank_Name']] = {'Savings_Rate': row['Savings_Rate'], 'Fixed_Rate': row['Fixed_Rate']}\n",
    "\n",
    "# # Function to extract bank name from user input\n",
    "# def extract_bank_name(user_input):\n",
    "#     tokens = word_tokenize(user_input)\n",
    "#     stop_words = set(stopwords.words('english'))\n",
    "#     filtered_tokens = [word for word in tokens if word.lower() not in stop_words]\n",
    "#     for token in filtered_tokens:\n",
    "#         if token in bank_data:\n",
    "#             return token\n",
    "#     return None\n",
    "\n",
    "# # Function to get interest rate based on user question\n",
    "# def get_interest_rate(user_question):\n",
    "#     bank_name = extract_bank_name(user_question)\n",
    "#     if bank_name:\n",
    "#         if 'savings' in user_question.lower():\n",
    "#             return bank_data[bank_name]['Savings_Rate']\n",
    "#         elif 'fixed deposit' in user_question.lower():\n",
    "#             return bank_data[bank_name]['Fixed_Rate']\n",
    "#     return None\n",
    "\n",
    "# # Example user questions\n",
    "# user_questions = input(\"Enter Question: \")\n",
    "\n",
    "# # Generate bot answers\n",
    "# for question in user_questions.split(\";\"):\n",
    "#     interest_rate = get_interest_rate(question)\n",
    "#     if interest_rate:\n",
    "#         print(f\"**User Question:** {question}\")\n",
    "#         print(f\"**Bot Answer:** The {'savings' if 'savings' in question.lower() else 'fixed deposit'} interest rate at {extract_bank_name(question)} is {interest_rate}.\")\n",
    "#         print()\n",
    "#     else:\n",
    "#         print(f\"**User Question:** {question}\")\n",
    "#         print(\"**Bot Answer:** Sorry, I couldn't find the information for your query.\")\n",
    "#         print()\n"
   ]
  },
  {
   "cell_type": "code",
   "execution_count": 322,
   "metadata": {},
   "outputs": [
    {
     "ename": "KeyError",
     "evalue": "'Bank_Name'",
     "output_type": "error",
     "traceback": [
      "\u001b[1;31m---------------------------------------------------------------------------\u001b[0m",
      "\u001b[1;31mKeyError\u001b[0m                                  Traceback (most recent call last)",
      "Cell \u001b[1;32mIn[322], line 11\u001b[0m\n\u001b[0;32m      9\u001b[0m reader \u001b[38;5;241m=\u001b[39m csv\u001b[38;5;241m.\u001b[39mDictReader(csvfile)\n\u001b[0;32m     10\u001b[0m \u001b[38;5;28;01mfor\u001b[39;00m row \u001b[38;5;129;01min\u001b[39;00m reader:\n\u001b[1;32m---> 11\u001b[0m     bank_name \u001b[38;5;241m=\u001b[39m row[\u001b[38;5;124m'\u001b[39m\u001b[38;5;124mBank_Name\u001b[39m\u001b[38;5;124m'\u001b[39m]\n\u001b[0;32m     12\u001b[0m     tokens \u001b[38;5;241m=\u001b[39m word_tokenize(bank_name)  \u001b[38;5;66;03m# Tokenize bank name\u001b[39;00m\n\u001b[0;32m     13\u001b[0m     bank_data[\u001b[38;5;28mtuple\u001b[39m(tokens)] \u001b[38;5;241m=\u001b[39m {\n\u001b[0;32m     14\u001b[0m         \u001b[38;5;124m'\u001b[39m\u001b[38;5;124mBank_Name\u001b[39m\u001b[38;5;124m'\u001b[39m: tokens,  \u001b[38;5;66;03m# Add bank name token\u001b[39;00m\n\u001b[0;32m     15\u001b[0m         \u001b[38;5;124m'\u001b[39m\u001b[38;5;124mSavings_Rate\u001b[39m\u001b[38;5;124m'\u001b[39m: row[\u001b[38;5;124m'\u001b[39m\u001b[38;5;124mSavings_Rate\u001b[39m\u001b[38;5;124m'\u001b[39m],\n\u001b[0;32m     16\u001b[0m         \u001b[38;5;124m'\u001b[39m\u001b[38;5;124mFixed_Rate\u001b[39m\u001b[38;5;124m'\u001b[39m: row[\u001b[38;5;124m'\u001b[39m\u001b[38;5;124mFixed_Rate\u001b[39m\u001b[38;5;124m'\u001b[39m]\n\u001b[0;32m     17\u001b[0m     }\n",
      "\u001b[1;31mKeyError\u001b[0m: 'Bank_Name'"
     ]
    }
   ],
   "source": [
    "import csv\n",
    "import nltk\n",
    "from nltk.tokenize import word_tokenize\n",
    "from nltk.corpus import stopwords\n",
    "\n",
    "# Load CSV data into a dictionary\n",
    "bank_data = {}\n",
    "with open('csv/bank_interest.csv', newline='') as csvfile:\n",
    "    reader = csv.DictReader(csvfile)\n",
    "    for row in reader:\n",
    "        bank_name = row['Bank_Name']\n",
    "        tokens = word_tokenize(bank_name)  # Tokenize bank name\n",
    "        bank_data[tuple(tokens)] = {\n",
    "            'Bank_Name': tokens,  # Add bank name token\n",
    "            'Savings_Rate': row['Savings_Rate'],\n",
    "            'Fixed_Rate': row['Fixed_Rate']\n",
    "        }\n",
    "\n",
    "print(bank_data)"
   ]
  },
  {
   "cell_type": "code",
   "execution_count": null,
   "metadata": {},
   "outputs": [
    {
     "name": "stdout",
     "output_type": "stream",
     "text": [
      "['banijya']\n"
     ]
    }
   ],
   "source": [
    "user_input = input(\"Enter your query (less KEYWORD): \")  # Example: \"Nepal Bank\"\n",
    "\n",
    "# Tokenize user input\n",
    "user_tokens = word_tokenize(user_input)\n",
    "\n",
    "# Convert tokens to lowercase\n",
    "user_tokens_lower = [token.lower() for token in user_tokens]\n",
    "\n",
    "print(user_tokens_lower)"
   ]
  },
  {
   "cell_type": "code",
   "execution_count": null,
   "metadata": {},
   "outputs": [
    {
     "name": "stdout",
     "output_type": "stream",
     "text": [
      "**Bot Response:** Here is the information for your query:\n",
      "Bank_Name: Rastriya Banijya Bank\n",
      "Savings_Rate: 4.65%\n",
      "Fixed_Rate: 6.40%\n"
     ]
    }
   ],
   "source": [
    "# user_tokens = [ 'Banijya']\n",
    "\n",
    "# # bank_data = {\n",
    "# #     ('Nepal', 'Bank', 'Ltd', '.'): {'Bank_Name': ['Nepal', 'Bank', 'Ltd', '.'], 'Savings_Rate': '5.65%', 'Fixed_Rate': '6.75%'},\n",
    "# #     ('Rastriya', 'Banijya', 'Bank'): {'Bank_Name': ['Rastriya', 'Banijya', 'Bank'], 'Savings_Rate': '4.65%', 'Fixed_Rate': '6.40%'}\n",
    "# # }\n",
    "\n",
    "# Function to get bank data based on user input tokens\n",
    "def get_bank_data(user_tokens_lower):\n",
    "    max_matches = 0\n",
    "    best_match = None\n",
    "    \n",
    "    for key in bank_data.keys():\n",
    "        key_lower = [k.lower() for k in key]\n",
    "        matches = sum(token in key_lower for token in user_tokens_lower)\n",
    "        \n",
    "        if matches > max_matches:\n",
    "            max_matches = matches\n",
    "            best_match = bank_data[key]\n",
    "    \n",
    "    return best_match\n",
    "\n",
    "# Get bank data based on user input tokens\n",
    "bank_info = get_bank_data(user_tokens)\n",
    "\n",
    "# Reply with bank data if available\n",
    "if bank_info:\n",
    "    print(\"**Bot Response:** Here is the information for your query:\")\n",
    "    for key, value in bank_info.items():\n",
    "        if key == 'Bank_Name':\n",
    "            print(f\"{key}: {' '.join(value)}\")\n",
    "        else:\n",
    "            print(f\"{key}: {value}\")\n",
    "else:\n",
    "    print(\"**Bot Response:** Sorry, I couldn't find any relevant information.\")\n",
    "\n",
    "\n",
    "\n"
   ]
  }
 ],
 "metadata": {
  "kernelspec": {
   "display_name": "base",
   "language": "python",
   "name": "python3"
  },
  "language_info": {
   "codemirror_mode": {
    "name": "ipython",
    "version": 3
   },
   "file_extension": ".py",
   "mimetype": "text/x-python",
   "name": "python",
   "nbconvert_exporter": "python",
   "pygments_lexer": "ipython3",
   "version": "3.11.7"
  }
 },
 "nbformat": 4,
 "nbformat_minor": 2
}
