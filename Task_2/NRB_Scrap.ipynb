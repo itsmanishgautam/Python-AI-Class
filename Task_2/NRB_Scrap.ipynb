{
 "cells": [
  {
   "cell_type": "code",
   "execution_count": 38,
   "metadata": {},
   "outputs": [],
   "source": [
    "import urllib.request\n",
    "import re"
   ]
  },
  {
   "cell_type": "code",
   "execution_count": 39,
   "metadata": {},
   "outputs": [],
   "source": [
    "user_agent = 'Mozilla/5.0 (Windows NT 10.0; Win64; x64) AppleWebKit/537.36 (KHTML, like Gecko) Chrome/58.0.3029.110 Safari/537.3'"
   ]
  },
  {
   "cell_type": "code",
   "execution_count": 40,
   "metadata": {},
   "outputs": [],
   "source": [
    "url ='https://www.nrb.org.np/forex/'\n",
    "request = urllib.request.Request(url, headers={'User-Agent': user_agent})\n",
    "response = urllib.request.urlopen(request)\n",
    "html_content = response.read().decode('utf-8')"
   ]
  },
  {
   "cell_type": "code",
   "execution_count": 41,
   "metadata": {},
   "outputs": [],
   "source": [
    "# print(html_content)"
   ]
  },
  {
   "cell_type": "code",
   "execution_count": 42,
   "metadata": {},
   "outputs": [],
   "source": [
    "# Define the regex pattern to match everything between <tbody> and </tbody> tags\n",
    "tbody_pattern = r'<tbody>(.*?)</tbody>'"
   ]
  },
  {
   "cell_type": "code",
   "execution_count": 43,
   "metadata": {},
   "outputs": [],
   "source": [
    "# Use re.findall to find all matches of the pattern in the HTML content\n",
    "body_matches = re.findall(tbody_pattern, html_content, re.DOTALL)"
   ]
  },
  {
   "cell_type": "code",
   "execution_count": 44,
   "metadata": {},
   "outputs": [
    {
     "name": "stdout",
     "output_type": "stream",
     "text": [
      "['\\n                  <tr>\\n                     <td>\\n                        <div class=\"d-flex align-items-center\">\\n                           <div class=\"flag flag--inr\"></div>\\n                           <div class=\"ml-2 text-uppercase\">INR <span\\n                              class=\"text-capitalize\">(Indian Rupee)</span>\\n                           </div>\\n                        </div>\\n                     </td>\\n                     <td>100</td>\\n                     <td>160.00</td>\\n                     <td>160.15</td>\\n                  </tr>\\n               ', '\\n                                    <tr>\\n                     <td>\\n                        <div class=\"d-flex align-items-center\">\\n                           <div class=\"flag flag--usd\"></div>\\n                           <div class=\"ml-2 text-uppercase\">usd <span\\n                              class=\"text-capitalize\">(U.S. Dollar)</span>\\n                           </div>\\n                        </div>\\n                     </td>\\n                     <td>1</td>\\n                     <td>133.32</td>\\n                     <td>133.92</td>\\n                  </tr>\\n                                    <tr>\\n                     <td>\\n                        <div class=\"d-flex align-items-center\">\\n                           <div class=\"flag flag--eur\"></div>\\n                           <div class=\"ml-2 text-uppercase\">eur <span\\n                              class=\"text-capitalize\">(European Euro)</span>\\n                           </div>\\n                        </div>\\n                     </td>\\n                     <td>1</td>\\n                     <td>143.56</td>\\n                     <td>144.21</td>\\n                  </tr>\\n                                    <tr>\\n                     <td>\\n                        <div class=\"d-flex align-items-center\">\\n                           <div class=\"flag flag--gbp\"></div>\\n                           <div class=\"ml-2 text-uppercase\">gbp <span\\n                              class=\"text-capitalize\">(UK Pound Sterling)</span>\\n                           </div>\\n                        </div>\\n                     </td>\\n                     <td>1</td>\\n                     <td>167.27</td>\\n                     <td>168.02</td>\\n                  </tr>\\n                                    <tr>\\n                     <td>\\n                        <div class=\"d-flex align-items-center\">\\n                           <div class=\"flag flag--chf\"></div>\\n                           <div class=\"ml-2 text-uppercase\">chf <span\\n                              class=\"text-capitalize\">(Swiss Franc)</span>\\n                           </div>\\n                        </div>\\n                     </td>\\n                     <td>1</td>\\n                     <td>147.00</td>\\n                     <td>147.66</td>\\n                  </tr>\\n                                    <tr>\\n                     <td>\\n                        <div class=\"d-flex align-items-center\">\\n                           <div class=\"flag flag--aud\"></div>\\n                           <div class=\"ml-2 text-uppercase\">aud <span\\n                              class=\"text-capitalize\">(Australian Dollar)</span>\\n                           </div>\\n                        </div>\\n                     </td>\\n                     <td>1</td>\\n                     <td>88.11</td>\\n                     <td>88.51</td>\\n                  </tr>\\n                                    <tr>\\n                     <td>\\n                        <div class=\"d-flex align-items-center\">\\n                           <div class=\"flag flag--cad\"></div>\\n                           <div class=\"ml-2 text-uppercase\">cad <span\\n                              class=\"text-capitalize\">(Canadian Dollar)</span>\\n                           </div>\\n                        </div>\\n                     </td>\\n                     <td>1</td>\\n                     <td>97.47</td>\\n                     <td>97.91</td>\\n                  </tr>\\n                                    <tr>\\n                     <td>\\n                        <div class=\"d-flex align-items-center\">\\n                           <div class=\"flag flag--sgd\"></div>\\n                           <div class=\"ml-2 text-uppercase\">sgd <span\\n                              class=\"text-capitalize\">(Singapore Dollar)</span>\\n                           </div>\\n                        </div>\\n                     </td>\\n                     <td>1</td>\\n                     <td>98.53</td>\\n                     <td>98.98</td>\\n                  </tr>\\n                                    <tr>\\n                     <td>\\n                        <div class=\"d-flex align-items-center\">\\n                           <div class=\"flag flag--jpy\"></div>\\n                           <div class=\"ml-2 text-uppercase\">jpy <span\\n                              class=\"text-capitalize\">(Japanese Yen)</span>\\n                           </div>\\n                        </div>\\n                     </td>\\n                     <td>10</td>\\n                     <td>8.63</td>\\n                     <td>8.67</td>\\n                  </tr>\\n                                    <tr>\\n                     <td>\\n                        <div class=\"d-flex align-items-center\">\\n                           <div class=\"flag flag--cny\"></div>\\n                           <div class=\"ml-2 text-uppercase\">cny <span\\n                              class=\"text-capitalize\">(Chinese Yuan)</span>\\n                           </div>\\n                        </div>\\n                     </td>\\n                     <td>1</td>\\n                     <td>18.47</td>\\n                     <td>18.55</td>\\n                  </tr>\\n                                    <tr>\\n                     <td>\\n                        <div class=\"d-flex align-items-center\">\\n                           <div class=\"flag flag--sar\"></div>\\n                           <div class=\"ml-2 text-uppercase\">sar <span\\n                              class=\"text-capitalize\">(Saudi Arabian Riyal)</span>\\n                           </div>\\n                        </div>\\n                     </td>\\n                     <td>1</td>\\n                     <td>35.55</td>\\n                     <td>35.71</td>\\n                  </tr>\\n                                    <tr>\\n                     <td>\\n                        <div class=\"d-flex align-items-center\">\\n                           <div class=\"flag flag--qar\"></div>\\n                           <div class=\"ml-2 text-uppercase\">qar <span\\n                              class=\"text-capitalize\">(Qatari Riyal)</span>\\n                           </div>\\n                        </div>\\n                     </td>\\n                     <td>1</td>\\n                     <td>36.57</td>\\n                     <td>36.73</td>\\n                  </tr>\\n                                    <tr>\\n                     <td>\\n                        <div class=\"d-flex align-items-center\">\\n                           <div class=\"flag flag--thb\"></div>\\n                           <div class=\"ml-2 text-uppercase\">thb <span\\n                              class=\"text-capitalize\">(Thai Baht)</span>\\n                           </div>\\n                        </div>\\n                     </td>\\n                     <td>1</td>\\n                     <td>3.62</td>\\n                     <td>3.63</td>\\n                  </tr>\\n                                    <tr>\\n                     <td>\\n                        <div class=\"d-flex align-items-center\">\\n                           <div class=\"flag flag--aed\"></div>\\n                           <div class=\"ml-2 text-uppercase\">aed <span\\n                              class=\"text-capitalize\">(UAE Dirham)</span>\\n                           </div>\\n                        </div>\\n                     </td>\\n                     <td>1</td>\\n                     <td>36.30</td>\\n                     <td>36.46</td>\\n                  </tr>\\n                                    <tr>\\n                     <td>\\n                        <div class=\"d-flex align-items-center\">\\n                           <div class=\"flag flag--myr\"></div>\\n                           <div class=\"ml-2 text-uppercase\">myr <span\\n                              class=\"text-capitalize\">(Malaysian Ringgit)</span>\\n                           </div>\\n                        </div>\\n                     </td>\\n                     <td>1</td>\\n                     <td>28.14</td>\\n                     <td>28.27</td>\\n                  </tr>\\n                                    <tr>\\n                     <td>\\n                        <div class=\"d-flex align-items-center\">\\n                           <div class=\"flag flag--krw\"></div>\\n                           <div class=\"ml-2 text-uppercase\">krw <span\\n                              class=\"text-capitalize\">(South Korean Won)</span>\\n                           </div>\\n                        </div>\\n                     </td>\\n                     <td>100</td>\\n                     <td>9.82</td>\\n                     <td>9.86</td>\\n                  </tr>\\n                                    <tr>\\n                     <td>\\n                        <div class=\"d-flex align-items-center\">\\n                           <div class=\"flag flag--sek\"></div>\\n                           <div class=\"ml-2 text-uppercase\">sek <span\\n                              class=\"text-capitalize\">(Swedish Kroner)</span>\\n                           </div>\\n                        </div>\\n                     </td>\\n                     <td>1</td>\\n                     <td>12.29</td>\\n                     <td>12.34</td>\\n                  </tr>\\n                                    <tr>\\n                     <td>\\n                        <div class=\"d-flex align-items-center\">\\n                           <div class=\"flag flag--dkk\"></div>\\n                           <div class=\"ml-2 text-uppercase\">dkk <span\\n                              class=\"text-capitalize\">(Danish Kroner)</span>\\n                           </div>\\n                        </div>\\n                     </td>\\n                     <td>1</td>\\n                     <td>19.25</td>\\n                     <td>19.33</td>\\n                  </tr>\\n                                    <tr>\\n                     <td>\\n                        <div class=\"d-flex align-items-center\">\\n                           <div class=\"flag flag--hkd\"></div>\\n                           <div class=\"ml-2 text-uppercase\">hkd <span\\n                              class=\"text-capitalize\">(Hong Kong Dollar)</span>\\n                           </div>\\n                        </div>\\n                     </td>\\n                     <td>1</td>\\n                     <td>17.05</td>\\n                     <td>17.12</td>\\n                  </tr>\\n                                    <tr>\\n                     <td>\\n                        <div class=\"d-flex align-items-center\">\\n                           <div class=\"flag flag--kwd\"></div>\\n                           <div class=\"ml-2 text-uppercase\">kwd <span\\n                              class=\"text-capitalize\">(Kuwaity Dinar)</span>\\n                           </div>\\n                        </div>\\n                     </td>\\n                     <td>1</td>\\n                     <td>433.70</td>\\n                     <td>435.65</td>\\n                  </tr>\\n                                    <tr>\\n                     <td>\\n                        <div class=\"d-flex align-items-center\">\\n                           <div class=\"flag flag--bhd\"></div>\\n                           <div class=\"ml-2 text-uppercase\">bhd <span\\n                              class=\"text-capitalize\">(Bahrain Dinar)</span>\\n                           </div>\\n                        </div>\\n                     </td>\\n                     <td>1</td>\\n                     <td>353.60</td>\\n                     <td>355.19</td>\\n                  </tr>\\n                                 ']\n"
     ]
    }
   ],
   "source": [
    "print(body_matches)"
   ]
  },
  {
   "cell_type": "code",
   "execution_count": 45,
   "metadata": {},
   "outputs": [],
   "source": [
    "# Define the regex pattern\n",
    "currency_pattern = r'<div class=\"flag flag--...\"></div>\\s*<div class=\"ml-2 text-uppercase\">(.*?)\\s*<span\\s*class=\"text-capitalize\">\\(([^)]+)\\)</span>'\n",
    "\n",
    "# Find all matches in the HTML\n",
    "currency_matches = re.findall(currency_pattern, html_content) "
   ]
  },
  {
   "cell_type": "code",
   "execution_count": 46,
   "metadata": {},
   "outputs": [
    {
     "name": "stdout",
     "output_type": "stream",
     "text": [
      "[('INR', 'Indian Rupee'), ('usd', 'U.S. Dollar'), ('eur', 'European Euro'), ('gbp', 'UK Pound Sterling'), ('chf', 'Swiss Franc'), ('aud', 'Australian Dollar'), ('cad', 'Canadian Dollar'), ('sgd', 'Singapore Dollar'), ('jpy', 'Japanese Yen'), ('cny', 'Chinese Yuan'), ('sar', 'Saudi Arabian Riyal'), ('qar', 'Qatari Riyal'), ('thb', 'Thai Baht'), ('aed', 'UAE Dirham'), ('myr', 'Malaysian Ringgit'), ('krw', 'South Korean Won'), ('sek', 'Swedish Kroner'), ('dkk', 'Danish Kroner'), ('hkd', 'Hong Kong Dollar'), ('kwd', 'Kuwaity Dinar'), ('bhd', 'Bahrain Dinar')]\n"
     ]
    }
   ],
   "source": [
    "print(currency_matches)"
   ]
  },
  {
   "cell_type": "code",
   "execution_count": 47,
   "metadata": {},
   "outputs": [],
   "source": [
    "currency_code = [item[0] for item in currency_matches]\n",
    "currency_code = [code.upper() for code in currency_code]\n",
    "currency = [item[1] for item in currency_matches]"
   ]
  },
  {
   "cell_type": "code",
   "execution_count": 48,
   "metadata": {},
   "outputs": [
    {
     "name": "stdout",
     "output_type": "stream",
     "text": [
      "['INR', 'USD', 'EUR', 'GBP', 'CHF', 'AUD', 'CAD', 'SGD', 'JPY', 'CNY', 'SAR', 'QAR', 'THB', 'AED', 'MYR', 'KRW', 'SEK', 'DKK', 'HKD', 'KWD', 'BHD']\n",
      "['Indian Rupee', 'U.S. Dollar', 'European Euro', 'UK Pound Sterling', 'Swiss Franc', 'Australian Dollar', 'Canadian Dollar', 'Singapore Dollar', 'Japanese Yen', 'Chinese Yuan', 'Saudi Arabian Riyal', 'Qatari Riyal', 'Thai Baht', 'UAE Dirham', 'Malaysian Ringgit', 'South Korean Won', 'Swedish Kroner', 'Danish Kroner', 'Hong Kong Dollar', 'Kuwaity Dinar', 'Bahrain Dinar']\n"
     ]
    }
   ],
   "source": [
    "print(currency_code)\n",
    "print(currency)"
   ]
  },
  {
   "cell_type": "code",
   "execution_count": 49,
   "metadata": {},
   "outputs": [
    {
     "name": "stdout",
     "output_type": "stream",
     "text": [
      "21\n"
     ]
    }
   ],
   "source": [
    "print(len(currency_matches))"
   ]
  },
  {
   "cell_type": "code",
   "execution_count": 50,
   "metadata": {},
   "outputs": [],
   "source": [
    "data_pattern = r'<td>(.*?)</td>\\s*<td>(.*?)</td>\\s*<td>(.*?)</td>'\n",
    "# Find all matches in the HTML\n",
    "data_matches = re.findall(data_pattern, html_content) "
   ]
  },
  {
   "cell_type": "code",
   "execution_count": 51,
   "metadata": {},
   "outputs": [
    {
     "name": "stdout",
     "output_type": "stream",
     "text": [
      "[('100', '160.00', '160.15'), ('1', '133.32', '133.92'), ('1', '143.56', '144.21'), ('1', '167.27', '168.02'), ('1', '147.00', '147.66'), ('1', '88.11', '88.51'), ('1', '97.47', '97.91'), ('1', '98.53', '98.98'), ('10', '8.63', '8.67'), ('1', '18.47', '18.55'), ('1', '35.55', '35.71'), ('1', '36.57', '36.73'), ('1', '3.62', '3.63'), ('1', '36.30', '36.46'), ('1', '28.14', '28.27'), ('100', '9.82', '9.86'), ('1', '12.29', '12.34'), ('1', '19.25', '19.33'), ('1', '17.05', '17.12'), ('1', '433.70', '435.65'), ('1', '353.60', '355.19')]\n"
     ]
    }
   ],
   "source": [
    "print(data_matches)"
   ]
  },
  {
   "cell_type": "code",
   "execution_count": 52,
   "metadata": {},
   "outputs": [],
   "source": [
    "units = [item[0] for item in data_matches]\n",
    "buy = [item[1] for item in data_matches]\n",
    "sell = [item[2] for item in data_matches]\n"
   ]
  },
  {
   "cell_type": "code",
   "execution_count": 53,
   "metadata": {},
   "outputs": [
    {
     "name": "stdout",
     "output_type": "stream",
     "text": [
      "['100', '1', '1', '1', '1', '1', '1', '1', '10', '1', '1', '1', '1', '1', '1', '100', '1', '1', '1', '1', '1']\n",
      "['160.00', '133.32', '143.56', '167.27', '147.00', '88.11', '97.47', '98.53', '8.63', '18.47', '35.55', '36.57', '3.62', '36.30', '28.14', '9.82', '12.29', '19.25', '17.05', '433.70', '353.60']\n",
      "['160.15', '133.92', '144.21', '168.02', '147.66', '88.51', '97.91', '98.98', '8.67', '18.55', '35.71', '36.73', '3.63', '36.46', '28.27', '9.86', '12.34', '19.33', '17.12', '435.65', '355.19']\n"
     ]
    }
   ],
   "source": [
    "print(units)\n",
    "print(buy)\n",
    "print(sell)"
   ]
  },
  {
   "cell_type": "code",
   "execution_count": 54,
   "metadata": {},
   "outputs": [
    {
     "name": "stdout",
     "output_type": "stream",
     "text": [
      "21\n"
     ]
    }
   ],
   "source": [
    "print(len(data_matches))"
   ]
  },
  {
   "cell_type": "code",
   "execution_count": 57,
   "metadata": {},
   "outputs": [
    {
     "name": "stdout",
     "output_type": "stream",
     "text": [
      "Data exported to csv/forex.csv\n"
     ]
    }
   ],
   "source": [
    "# Create a list of tuples containing job titles and companies\n",
    "data = list(zip(currency_code,currency,units,buy,sell))\n",
    "import csv\n",
    "\n",
    "# Define the CSV file path\n",
    "csv_file = 'csv/forex.csv'\n",
    "\n",
    "# Write the data to a CSV file\n",
    "with open(csv_file, 'w', newline='', encoding='utf-8') as file:\n",
    "    writer = csv.writer(file)\n",
    "    writer.writerow(['Currency_Code','Currency','Units','Buy','Sell'])  # Write header row\n",
    "    writer.writerows(data)  # Write data rows\n",
    "\n",
    "print(f'Data exported to {csv_file}')"
   ]
  }
 ],
 "metadata": {
  "kernelspec": {
   "display_name": "base",
   "language": "python",
   "name": "python3"
  },
  "language_info": {
   "codemirror_mode": {
    "name": "ipython",
    "version": 3
   },
   "file_extension": ".py",
   "mimetype": "text/x-python",
   "name": "python",
   "nbconvert_exporter": "python",
   "pygments_lexer": "ipython3",
   "version": "3.11.7"
  }
 },
 "nbformat": 4,
 "nbformat_minor": 2
}
