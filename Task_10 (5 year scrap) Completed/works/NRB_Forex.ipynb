{
 "cells": [
  {
   "cell_type": "markdown",
   "metadata": {},
   "source": [
    "NRB API Implementation ,  API to CSV"
   ]
  },
  {
   "cell_type": "code",
   "execution_count": 1,
   "metadata": {},
   "outputs": [
    {
     "name": "stdout",
     "output_type": "stream",
     "text": [
      "{'status': {'code': 200}, 'errors': {'validation': None}, 'params': {'date': None, 'from': '2020-01-01', 'to': '2020-01-01', 'post_type': None, 'per_page': '1', 'page': '1', 'slug': None, 'q': None}, 'data': {'payload': [{'date': '2020-01-01', 'published_on': '2020-01-01 12:22:16', 'modified_on': '2020-04-23 12:29:12', 'rates': [{'currency': {'iso3': 'INR', 'name': 'Indian Rupee', 'unit': 100}, 'buy': '160.00', 'sell': '160.15'}, {'currency': {'iso3': 'USD', 'name': 'U.S. Dollar', 'unit': 1}, 'buy': '113.92', 'sell': '114.52'}, {'currency': {'iso3': 'EUR', 'name': 'European Euro', 'unit': 1}, 'buy': '127.83', 'sell': '128.50'}, {'currency': {'iso3': 'GBP', 'name': 'UK Pound Sterling', 'unit': 1}, 'buy': '150.35', 'sell': '151.14'}, {'currency': {'iso3': 'CHF', 'name': 'Swiss Franc', 'unit': 1}, 'buy': '117.84', 'sell': '118.46'}, {'currency': {'iso3': 'AUD', 'name': 'Australian Dollar', 'unit': 1}, 'buy': '79.87', 'sell': '80.29'}, {'currency': {'iso3': 'CAD', 'name': 'Canadian Dollar', 'unit': 1}, 'buy': '87.45', 'sell': '87.91'}, {'currency': {'iso3': 'SGD', 'name': 'Singapore Dollar', 'unit': 1}, 'buy': '84.66', 'sell': '85.11'}, {'currency': {'iso3': 'JPY', 'name': 'Japanese Yen', 'unit': 10}, 'buy': '10.50', 'sell': '10.55'}, {'currency': {'iso3': 'CNY', 'name': 'Chinese Yuan', 'unit': 1}, 'buy': '16.37', 'sell': '16.45'}, {'currency': {'iso3': 'SAR', 'name': 'Saudi Arabian Riyal', 'unit': 1}, 'buy': '30.37', 'sell': '30.53'}, {'currency': {'iso3': 'QAR', 'name': 'Qatari Riyal', 'unit': 1}, 'buy': '31.29', 'sell': '31.45'}, {'currency': {'iso3': 'THB', 'name': 'Thai Baht', 'unit': 1}, 'buy': '3.82', 'sell': '3.84'}, {'currency': {'iso3': 'AED', 'name': 'UAE Dirham', 'unit': 1}, 'buy': '31.01', 'sell': '31.18'}, {'currency': {'iso3': 'MYR', 'name': 'Malaysian Ringgit', 'unit': 1}, 'buy': '27.85', 'sell': '28.00'}, {'currency': {'iso3': 'KRW', 'name': 'South Korean Won', 'unit': 100}, 'buy': '9.86', 'sell': '9.92'}, {'currency': {'iso3': 'SEK', 'name': 'Swedish Kroner', 'unit': 1}, 'buy': '12.25', 'sell': '12.31'}, {'currency': {'iso3': 'DKK', 'name': 'Danish Kroner', 'unit': 1}, 'buy': '17.11', 'sell': '17.20'}, {'currency': {'iso3': 'HKD', 'name': 'Hong Kong Dollar', 'unit': 1}, 'buy': '14.63', 'sell': '14.71'}, {'currency': {'iso3': 'KWD', 'name': 'Kuwaity Dinar', 'unit': 1}, 'buy': '375.96', 'sell': '377.94'}, {'currency': {'iso3': 'BHD', 'name': 'Bahrain Dinar', 'unit': 1}, 'buy': '302.12', 'sell': '303.72'}]}]}, 'pagination': {'page': 1, 'pages': 1, 'per_page': 1, 'total': 1, 'links': {'prev': None, 'next': None}}}\n"
     ]
    }
   ],
   "source": [
    "import requests\n",
    "\n",
    "def get_forex_rates(date):\n",
    "    base_url = \"https://www.nrb.org.np/api/forex/v1/\"\n",
    "    endpoint = \"rates\"\n",
    "    url = f\"{base_url}{endpoint}\"\n",
    "\n",
    "    # Prepare parameters\n",
    "    params = {\n",
    "        \"page\": 1,\n",
    "        \"per_page\": 1,\n",
    "        \"from\": date,\n",
    "        \"to\": date\n",
    "    }\n",
    "\n",
    "    # Make request\n",
    "    response = requests.get(url, params=params)\n",
    "\n",
    "    # Check for successful response\n",
    "    if response.status_code == 200:\n",
    "        return response.json()\n",
    "    else:\n",
    "        # Handle error\n",
    "        print(\"Error:\", response.status_code)\n",
    "        return None\n",
    "\n",
    "# Accept user input for the date\n",
    "date = input(\"Enter the date (YYYY-MM-DD): \")\n",
    "\n",
    "forex_data = get_forex_rates(date)\n",
    "if forex_data:\n",
    "    # Process the data as needed\n",
    "    print(forex_data)\n",
    "else:\n",
    "    print(\"Failed to fetch FOREX data.\")\n"
   ]
  },
  {
   "cell_type": "code",
   "execution_count": 2,
   "metadata": {},
   "outputs": [
    {
     "name": "stdout",
     "output_type": "stream",
     "text": [
      "FOREX rates data has been exported to forex_rates_2020-01-01.csv.\n"
     ]
    }
   ],
   "source": [
    "import csv\n",
    "\n",
    "# Extract FOREX rates data\n",
    "payload = forex_data['data']['payload'][0]\n",
    "date = payload['date']\n",
    "rates = payload['rates']\n",
    "\n",
    "# Define CSV file name\n",
    "csv_filename = f\"forex_rates_{date}.csv\"\n",
    "\n",
    "# Write FOREX rates data to CSV file\n",
    "with open(csv_filename, mode='w', newline='') as file:\n",
    "    writer = csv.writer(file)\n",
    "    \n",
    "    # Write header\n",
    "    writer.writerow(['Currency', 'Unit', 'Name', 'ISO3', 'Buy', 'Sell'])\n",
    "    \n",
    "    # Write data rows\n",
    "    for rate in rates:\n",
    "        currency = rate['currency']\n",
    "        writer.writerow([currency['iso3'], currency['unit'], currency['name'], currency['iso3'], rate['buy'], rate['sell']])\n",
    "\n",
    "print(f\"FOREX rates data has been exported to {csv_filename}.\")\n"
   ]
  }
 ],
 "metadata": {
  "kernelspec": {
   "display_name": "base",
   "language": "python",
   "name": "python3"
  },
  "language_info": {
   "codemirror_mode": {
    "name": "ipython",
    "version": 3
   },
   "file_extension": ".py",
   "mimetype": "text/x-python",
   "name": "python",
   "nbconvert_exporter": "python",
   "pygments_lexer": "ipython3",
   "version": "3.11.7"
  }
 },
 "nbformat": 4,
 "nbformat_minor": 2
}
