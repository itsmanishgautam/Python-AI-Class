{
 "cells": [
  {
   "cell_type": "code",
   "execution_count": 8,
   "metadata": {},
   "outputs": [],
   "source": [
    "import pandas as pd\n",
    "import numpy as np\n",
    "import tensorflow as tf\n",
    "from tensorflow.keras.preprocessing.text import Tokenizer\n",
    "from tensorflow.keras.preprocessing.sequence import pad_sequences\n"
   ]
  },
  {
   "cell_type": "code",
   "execution_count": 9,
   "metadata": {},
   "outputs": [],
   "source": [
    "dataset = pd.read_csv('label_only_exported_data.csv')\n",
    "sentences = dataset['StringData'].astype(str).tolist()\n",
    "labels = dataset['Labels'].tolist()\n",
    "\n",
    "labels = np.array(labels)\n",
    "\n",
    "labels = dataset['Labels'].apply(lambda x: 1 if x > 0 else 0).tolist()\n",
    "labels = np.array(labels)"
   ]
  },
  {
   "cell_type": "code",
   "execution_count": 10,
   "metadata": {},
   "outputs": [
    {
     "ename": "KeyboardInterrupt",
     "evalue": "",
     "output_type": "error",
     "traceback": [
      "\u001b[1;31m---------------------------------------------------------------------------\u001b[0m",
      "\u001b[1;31mKeyboardInterrupt\u001b[0m                         Traceback (most recent call last)",
      "Cell \u001b[1;32mIn[10], line 5\u001b[0m\n\u001b[0;32m      2\u001b[0m tokenizer\u001b[38;5;241m.\u001b[39mfit_on_texts(sentences)\n\u001b[0;32m      3\u001b[0m word_index \u001b[38;5;241m=\u001b[39m tokenizer\u001b[38;5;241m.\u001b[39mword_index\n\u001b[1;32m----> 5\u001b[0m sequences \u001b[38;5;241m=\u001b[39m tokenizer\u001b[38;5;241m.\u001b[39mtexts_to_sequences(sentences)\n\u001b[0;32m      6\u001b[0m padded_data \u001b[38;5;241m=\u001b[39m pad_sequences(sequences, padding\u001b[38;5;241m=\u001b[39m\u001b[38;5;124m'\u001b[39m\u001b[38;5;124mpost\u001b[39m\u001b[38;5;124m'\u001b[39m, truncating\u001b[38;5;241m=\u001b[39m\u001b[38;5;124m'\u001b[39m\u001b[38;5;124mpost\u001b[39m\u001b[38;5;124m'\u001b[39m)\n",
      "File \u001b[1;32mc:\\Users\\gunar\\anaconda3\\Lib\\site-packages\\keras\\src\\legacy\\preprocessing\\text.py:177\u001b[0m, in \u001b[0;36mTokenizer.texts_to_sequences\u001b[1;34m(self, texts)\u001b[0m\n\u001b[0;32m    176\u001b[0m \u001b[38;5;28;01mdef\u001b[39;00m \u001b[38;5;21mtexts_to_sequences\u001b[39m(\u001b[38;5;28mself\u001b[39m, texts):\n\u001b[1;32m--> 177\u001b[0m     \u001b[38;5;28;01mreturn\u001b[39;00m \u001b[38;5;28mlist\u001b[39m(\u001b[38;5;28mself\u001b[39m\u001b[38;5;241m.\u001b[39mtexts_to_sequences_generator(texts))\n",
      "File \u001b[1;32mc:\\Users\\gunar\\anaconda3\\Lib\\site-packages\\keras\\src\\legacy\\preprocessing\\text.py:208\u001b[0m, in \u001b[0;36mTokenizer.texts_to_sequences_generator\u001b[1;34m(self, texts)\u001b[0m\n\u001b[0;32m    206\u001b[0m             vect\u001b[38;5;241m.\u001b[39mappend(oov_token_index)\n\u001b[0;32m    207\u001b[0m     \u001b[38;5;28;01melse\u001b[39;00m:\n\u001b[1;32m--> 208\u001b[0m         vect\u001b[38;5;241m.\u001b[39mappend(i)\n\u001b[0;32m    209\u001b[0m \u001b[38;5;28;01melif\u001b[39;00m \u001b[38;5;28mself\u001b[39m\u001b[38;5;241m.\u001b[39moov_token \u001b[38;5;129;01mis\u001b[39;00m \u001b[38;5;129;01mnot\u001b[39;00m \u001b[38;5;28;01mNone\u001b[39;00m:\n\u001b[0;32m    210\u001b[0m     vect\u001b[38;5;241m.\u001b[39mappend(oov_token_index)\n",
      "\u001b[1;31mKeyboardInterrupt\u001b[0m: "
     ]
    }
   ],
   "source": [
    "tokenizer = Tokenizer()\n",
    "tokenizer.fit_on_texts(sentences)\n",
    "word_index = tokenizer.word_index\n",
    "\n",
    "sequences = tokenizer.texts_to_sequences(sentences)\n",
    "padded_data = pad_sequences(sequences, padding='post', truncating='post')"
   ]
  },
  {
   "cell_type": "code",
   "execution_count": null,
   "metadata": {},
   "outputs": [
    {
     "name": "stderr",
     "output_type": "stream",
     "text": [
      "c:\\Users\\gunar\\anaconda3\\Lib\\site-packages\\keras\\src\\layers\\core\\embedding.py:86: UserWarning: Argument `input_length` is deprecated. Just remove it.\n",
      "  warnings.warn(\n"
     ]
    }
   ],
   "source": [
    "vocab_size = len(word_index) + 1\n",
    "embedding_dim = 16\n",
    "max_length = padded_data.shape[1]\n",
    "\n",
    "model = tf.keras.Sequential([\n",
    "    tf.keras.layers.Embedding(vocab_size, embedding_dim, input_length=max_length),\n",
    "    tf.keras.layers.GlobalAveragePooling1D(),\n",
    "    tf.keras.layers.Dense(24, activation='relu'),\n",
    "    tf.keras.layers.Dense(1, activation='sigmoid')\n",
    "])\n",
    "\n",
    "model.compile(loss='binary_crossentropy', optimizer='adam', metrics=['accuracy'])"
   ]
  },
  {
   "cell_type": "code",
   "execution_count": null,
   "metadata": {},
   "outputs": [
    {
     "name": "stdout",
     "output_type": "stream",
     "text": [
      "Epoch 1/10\n",
      "\u001b[1m1867/1867\u001b[0m \u001b[32m━━━━━━━━━━━━━━━━━━━━\u001b[0m\u001b[37m\u001b[0m \u001b[1m9s\u001b[0m 3ms/step - accuracy: 0.5329 - loss: 0.6899 - val_accuracy: 0.5850 - val_loss: 0.6627\n",
      "Epoch 2/10\n",
      "\u001b[1m1867/1867\u001b[0m \u001b[32m━━━━━━━━━━━━━━━━━━━━\u001b[0m\u001b[37m\u001b[0m \u001b[1m7s\u001b[0m 4ms/step - accuracy: 0.6728 - loss: 0.5985 - val_accuracy: 0.7300 - val_loss: 0.5669\n",
      "Epoch 3/10\n",
      "\u001b[1m1867/1867\u001b[0m \u001b[32m━━━━━━━━━━━━━━━━━━━━\u001b[0m\u001b[37m\u001b[0m \u001b[1m7s\u001b[0m 4ms/step - accuracy: 0.7712 - loss: 0.4753 - val_accuracy: 0.7221 - val_loss: 0.5757\n",
      "Epoch 4/10\n",
      "\u001b[1m1867/1867\u001b[0m \u001b[32m━━━━━━━━━━━━━━━━━━━━\u001b[0m\u001b[37m\u001b[0m \u001b[1m6s\u001b[0m 3ms/step - accuracy: 0.8067 - loss: 0.4152 - val_accuracy: 0.7111 - val_loss: 0.5979\n",
      "Epoch 5/10\n",
      "\u001b[1m1867/1867\u001b[0m \u001b[32m━━━━━━━━━━━━━━━━━━━━\u001b[0m\u001b[37m\u001b[0m \u001b[1m7s\u001b[0m 4ms/step - accuracy: 0.8329 - loss: 0.3663 - val_accuracy: 0.6347 - val_loss: 0.7267\n",
      "Epoch 6/10\n",
      "\u001b[1m1867/1867\u001b[0m \u001b[32m━━━━━━━━━━━━━━━━━━━━\u001b[0m\u001b[37m\u001b[0m \u001b[1m7s\u001b[0m 4ms/step - accuracy: 0.8522 - loss: 0.3244 - val_accuracy: 0.5978 - val_loss: 0.8691\n",
      "Epoch 7/10\n",
      "\u001b[1m1867/1867\u001b[0m \u001b[32m━━━━━━━━━━━━━━━━━━━━\u001b[0m\u001b[37m\u001b[0m \u001b[1m7s\u001b[0m 4ms/step - accuracy: 0.8659 - loss: 0.2967 - val_accuracy: 0.6391 - val_loss: 0.8203\n",
      "Epoch 8/10\n",
      "\u001b[1m1867/1867\u001b[0m \u001b[32m━━━━━━━━━━━━━━━━━━━━\u001b[0m\u001b[37m\u001b[0m \u001b[1m7s\u001b[0m 4ms/step - accuracy: 0.8812 - loss: 0.2652 - val_accuracy: 0.5662 - val_loss: 1.0954\n",
      "Epoch 9/10\n",
      "\u001b[1m1867/1867\u001b[0m \u001b[32m━━━━━━━━━━━━━━━━━━━━\u001b[0m\u001b[37m\u001b[0m \u001b[1m7s\u001b[0m 4ms/step - accuracy: 0.8791 - loss: 0.2693 - val_accuracy: 0.6818 - val_loss: 0.7908\n",
      "Epoch 10/10\n",
      "\u001b[1m1867/1867\u001b[0m \u001b[32m━━━━━━━━━━━━━━━━━━━━\u001b[0m\u001b[37m\u001b[0m \u001b[1m7s\u001b[0m 4ms/step - accuracy: 0.8862 - loss: 0.2556 - val_accuracy: 0.6860 - val_loss: 0.7969\n",
      "\u001b[1m2334/2334\u001b[0m \u001b[32m━━━━━━━━━━━━━━━━━━━━\u001b[0m\u001b[37m\u001b[0m \u001b[1m2s\u001b[0m 738us/step - accuracy: 0.9127 - loss: 0.2114\n",
      "Loss: 0.3160969614982605, Accuracy: 0.8725512623786926\n"
     ]
    }
   ],
   "source": [
    "model.fit(padded_data, labels, epochs=10, validation_split=0.2)\n",
    "\n",
    "loss, accuracy = model.evaluate(padded_data, labels)\n",
    "print(f\"Loss: {loss}, Accuracy: {accuracy}\")"
   ]
  },
  {
   "cell_type": "code",
   "execution_count": null,
   "metadata": {},
   "outputs": [],
   "source": [
    "def predict_user_input(user_sentences):\n",
    "    user_sequences = tokenizer.texts_to_sequences(user_sentences)\n",
    "    user_padded = pad_sequences(user_sequences, padding='post', truncating='post', maxlen=max_length)\n",
    "    predictions = model.predict(user_padded)\n",
    "    predicted_labels = [1 if p > 0.5 else 0 for p in predictions]\n",
    "    return predicted_labels"
   ]
  },
  {
   "cell_type": "code",
   "execution_count": null,
   "metadata": {},
   "outputs": [
    {
     "name": "stdout",
     "output_type": "stream",
     "text": [
      "\u001b[1m1/1\u001b[0m \u001b[32m━━━━━━━━━━━━━━━━━━━━\u001b[0m\u001b[37m\u001b[0m \u001b[1m0s\u001b[0m 85ms/step\n",
      "Predicted Labels: [0]\n"
     ]
    }
   ],
   "source": [
    "user_input = input(\"Enter a sentence: \")\n",
    "user_sentences = [user_input]  # Ensure user input is a list of strings\n",
    "predicted_labels = predict_user_input(user_sentences)\n",
    "print(f\"Predicted Labels: {predicted_labels}\")"
   ]
  }
 ],
 "metadata": {
  "kernelspec": {
   "display_name": "base",
   "language": "python",
   "name": "python3"
  },
  "language_info": {
   "codemirror_mode": {
    "name": "ipython",
    "version": 3
   },
   "file_extension": ".py",
   "mimetype": "text/x-python",
   "name": "python",
   "nbconvert_exporter": "python",
   "pygments_lexer": "ipython3",
   "version": "3.11.7"
  }
 },
 "nbformat": 4,
 "nbformat_minor": 2
}
