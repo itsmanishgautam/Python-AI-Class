{
 "cells": [
  {
   "cell_type": "code",
   "execution_count": 13,
   "metadata": {},
   "outputs": [],
   "source": [
    "import re\n",
    "\n",
    "keywords_set = {\n",
    "    'sum': ['sum', 'add', 'plus', 'total', 'increase', 'increment', 'augment', 'totalize', 'tally'],\n",
    "    'difference': ['difference', 'subtract', 'minus', 'less', 'decrease', 'reduce', 'deduct', 'take away', 'diminish', 'subtract from'],\n",
    "    'product': ['product', 'multiply', 'times', 'timesed', 'multiplied by', 'twice', 'double', 'triple', 'quadruple', 'product of'],\n",
    "    'division': ['division', 'divide', 'over', 'divided by', 'fraction', 'split', 'partition', 'share', 'cut', 'divided into'],\n",
    "    'power': ['power', 'raised to the power of', 'to the exponent of', 'squared', 'cubed', 'to the nth power', 'to the power', 'exponentiate']\n",
    "}\n",
    "\n",
    "operations_set = {\n",
    "    'sum': '+',\n",
    "    'difference': '-',\n",
    "    'product': '*',\n",
    "    'division': '/',\n",
    "    'power': '**'\n",
    "}\n"
   ]
  },
  {
   "cell_type": "code",
   "execution_count": 14,
   "metadata": {},
   "outputs": [],
   "source": [
    "\n",
    "def extract_keyword(input_text):\n",
    "    for operation, synonyms in keywords_set.items():\n",
    "        if any(word in input_text for word in synonyms):\n",
    "            return operation\n",
    "    return None\n",
    "\n",
    "def extract_numbers(input_text):\n",
    "    number_pattern = r'\\d+'\n",
    "    numbers = re.findall(number_pattern, input_text)\n",
    "    return numbers"
   ]
  },
  {
   "cell_type": "code",
   "execution_count": 15,
   "metadata": {},
   "outputs": [
    {
     "name": "stdout",
     "output_type": "stream",
     "text": [
      "No operation keyword found in the text.\n"
     ]
    }
   ],
   "source": [
    "input_text = input(\"Enter Text: \")\n",
    "operation = extract_keyword(input_text)\n",
    "\n",
    "if operation:\n",
    "    operation_symbol = operations_set.get(operation)\n",
    "    if operation_symbol:\n",
    "        numbers = extract_numbers(input_text)\n",
    "        print(f\"Operation: {operation}\\nOperation Symbol: {operation_symbol}\\nNumbers: {numbers}\")\n",
    "    else:\n",
    "        print(\"No operation symbol defined for:\", operation)\n",
    "else:\n",
    "    print(\"No operation keyword found in the text.\")\n"
   ]
  },
  {
   "cell_type": "code",
   "execution_count": 16,
   "metadata": {},
   "outputs": [
    {
     "name": "stdout",
     "output_type": "stream",
     "text": [
      "Unsupported operation\n"
     ]
    }
   ],
   "source": [
    "num1 = int(numbers[0])\n",
    "num2 = int(numbers[1])\n",
    "\n",
    "\n",
    "if operation in operations_set:\n",
    "    operator = operations_set[operation]\n",
    "    expression = f\"{num1} {operator} {num2}\"\n",
    "    result = eval(expression)\n",
    "    print(f\"The {operation} of {num1} and {num2} is {result}\")\n",
    "else:\n",
    "    print(\"Unsupported operation\")\n"
   ]
  }
 ],
 "metadata": {
  "kernelspec": {
   "display_name": "base",
   "language": "python",
   "name": "python3"
  },
  "language_info": {
   "codemirror_mode": {
    "name": "ipython",
    "version": 3
   },
   "file_extension": ".py",
   "mimetype": "text/x-python",
   "name": "python",
   "nbconvert_exporter": "python",
   "pygments_lexer": "ipython3",
   "version": "3.11.7"
  }
 },
 "nbformat": 4,
 "nbformat_minor": 2
}
