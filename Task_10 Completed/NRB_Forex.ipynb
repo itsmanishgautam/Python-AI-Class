{
 "cells": [
  {
   "cell_type": "markdown",
   "metadata": {},
   "source": [
    "NRB API Implementation ,  API to CSV"
   ]
  },
  {
   "cell_type": "code",
   "execution_count": 1,
   "metadata": {},
   "outputs": [
    {
     "name": "stdout",
     "output_type": "stream",
     "text": [
      "{'status': {'code': 200}, 'errors': {'validation': None}, 'params': {'date': None, 'from': '2024-01-10', 'to': '2024-01-10', 'post_type': None, 'per_page': '1', 'page': '1', 'slug': None, 'q': None}, 'data': {'payload': [{'date': '2024-01-10', 'published_on': '2024-01-10 00:00:28', 'modified_on': '2024-01-09 17:18:04', 'rates': [{'currency': {'iso3': 'INR', 'name': 'Indian Rupee', 'unit': 100}, 'buy': '160.00', 'sell': '160.15'}, {'currency': {'iso3': 'USD', 'name': 'U.S. Dollar', 'unit': 1}, 'buy': '132.69', 'sell': '133.29'}, {'currency': {'iso3': 'EUR', 'name': 'European Euro', 'unit': 1}, 'buy': '145.09', 'sell': '145.75'}, {'currency': {'iso3': 'GBP', 'name': 'UK Pound Sterling', 'unit': 1}, 'buy': '168.74', 'sell': '169.50'}, {'currency': {'iso3': 'CHF', 'name': 'Swiss Franc', 'unit': 1}, 'buy': '155.96', 'sell': '156.66'}, {'currency': {'iso3': 'AUD', 'name': 'Australian Dollar', 'unit': 1}, 'buy': '88.81', 'sell': '89.21'}, {'currency': {'iso3': 'CAD', 'name': 'Canadian Dollar', 'unit': 1}, 'buy': '99.23', 'sell': '99.68'}, {'currency': {'iso3': 'SGD', 'name': 'Singapore Dollar', 'unit': 1}, 'buy': '99.72', 'sell': '100.17'}, {'currency': {'iso3': 'JPY', 'name': 'Japanese Yen', 'unit': 10}, 'buy': '9.21', 'sell': '9.25'}, {'currency': {'iso3': 'CNY', 'name': 'Chinese Yuan', 'unit': 1}, 'buy': '18.52', 'sell': '18.60'}, {'currency': {'iso3': 'SAR', 'name': 'Saudi Arabian Riyal', 'unit': 1}, 'buy': '35.38', 'sell': '35.54'}, {'currency': {'iso3': 'QAR', 'name': 'Qatari Riyal', 'unit': 1}, 'buy': '36.40', 'sell': '36.56'}, {'currency': {'iso3': 'THB', 'name': 'Thai Baht', 'unit': 1}, 'buy': '3.79', 'sell': '3.81'}, {'currency': {'iso3': 'AED', 'name': 'UAE Dirham', 'unit': 1}, 'buy': '36.13', 'sell': '36.29'}, {'currency': {'iso3': 'MYR', 'name': 'Malaysian Ringgit', 'unit': 1}, 'buy': '28.58', 'sell': '28.70'}, {'currency': {'iso3': 'KRW', 'name': 'South Korean Won', 'unit': 100}, 'buy': '10.05', 'sell': '10.10'}, {'currency': {'iso3': 'SEK', 'name': 'Swedish Kroner', 'unit': 1}, 'buy': '12.94', 'sell': '13.00'}, {'currency': {'iso3': 'DKK', 'name': 'Danish Kroner', 'unit': 1}, 'buy': '19.45', 'sell': '19.54'}, {'currency': {'iso3': 'HKD', 'name': 'Hong Kong Dollar', 'unit': 1}, 'buy': '16.98', 'sell': '17.06'}, {'currency': {'iso3': 'KWD', 'name': 'Kuwaity Dinar', 'unit': 1}, 'buy': '431.68', 'sell': '433.63'}, {'currency': {'iso3': 'BHD', 'name': 'Bahrain Dinar', 'unit': 1}, 'buy': '351.95', 'sell': '353.54'}]}]}, 'pagination': {'page': 1, 'pages': 1, 'per_page': 1, 'total': 1, 'links': {'prev': None, 'next': None}}}\n"
     ]
    }
   ],
   "source": [
    "import requests\n",
    "\n",
    "def get_forex_rates(date):\n",
    "    base_url = \"https://www.nrb.org.np/api/forex/v1/\"\n",
    "    endpoint = \"rates\"\n",
    "    url = f\"{base_url}{endpoint}\"\n",
    "\n",
    "    # Prepare parameters\n",
    "    params = {\n",
    "        \"page\": 1,\n",
    "        \"per_page\": 1,\n",
    "        \"from\": date,\n",
    "        \"to\": date\n",
    "    }\n",
    "\n",
    "    # Make request\n",
    "    response = requests.get(url, params=params)\n",
    "\n",
    "    # Check for successful response\n",
    "    if response.status_code == 200:\n",
    "        return response.json()\n",
    "    else:\n",
    "        # Handle error\n",
    "        print(\"Error:\", response.status_code)\n",
    "        return None\n",
    "\n",
    "# Accept user input for the date\n",
    "date = input(\"Enter the date (YYYY-MM-DD): \")\n",
    "\n",
    "forex_data = get_forex_rates(date)\n",
    "if forex_data:\n",
    "    # Process the data as needed\n",
    "    print(forex_data)\n",
    "else:\n",
    "    print(\"Failed to fetch FOREX data.\")\n"
   ]
  },
  {
   "cell_type": "code",
   "execution_count": 2,
   "metadata": {},
   "outputs": [
    {
     "name": "stdout",
     "output_type": "stream",
     "text": [
      "FOREX rates data has been exported to csv/forex_rates_2024-01-10.csv.\n"
     ]
    }
   ],
   "source": [
    "import csv\n",
    "\n",
    "# Extract FOREX rates data\n",
    "payload = forex_data['data']['payload'][0]\n",
    "date = payload['date']\n",
    "rates = payload['rates']\n",
    "\n",
    "# Define CSV file name\n",
    "csv_filename = f\"csv/forex_rates_{date}.csv\"\n",
    "\n",
    "# Write FOREX rates data to CSV file\n",
    "with open(csv_filename, mode='w', newline='') as file:\n",
    "    writer = csv.writer(file)\n",
    "    \n",
    "    # Write header\n",
    "    writer.writerow(['Currency', 'Unit', 'Name', 'ISO3', 'Buy', 'Sell'])\n",
    "    \n",
    "    # Write data rows\n",
    "    for rate in rates:\n",
    "        currency = rate['currency']\n",
    "        writer.writerow([currency['iso3'], currency['unit'], currency['name'], currency['iso3'], rate['buy'], rate['sell']])\n",
    "\n",
    "print(f\"FOREX rates data has been exported to {csv_filename}.\")\n"
   ]
  }
 ],
 "metadata": {
  "kernelspec": {
   "display_name": "base",
   "language": "python",
   "name": "python3"
  },
  "language_info": {
   "codemirror_mode": {
    "name": "ipython",
    "version": 3
   },
   "file_extension": ".py",
   "mimetype": "text/x-python",
   "name": "python",
   "nbconvert_exporter": "python",
   "pygments_lexer": "ipython3",
   "version": "3.11.7"
  }
 },
 "nbformat": 4,
 "nbformat_minor": 2
}
