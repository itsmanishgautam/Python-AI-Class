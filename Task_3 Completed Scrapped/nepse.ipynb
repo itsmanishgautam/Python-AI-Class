{
 "cells": [
  {
   "cell_type": "code",
   "execution_count": 1,
   "metadata": {},
   "outputs": [],
   "source": [
    "import re\n",
    "import urllib.request"
   ]
  },
  {
   "cell_type": "code",
   "execution_count": 2,
   "metadata": {},
   "outputs": [],
   "source": [
    "user_agent = 'Mozilla/5.0 (Windows NT 10.0; Win64; x64) AppleWebKit/537.36 (KHTML, like Gecko) Chrome/58.0.3029.110 Safari/537.3'"
   ]
  },
  {
   "cell_type": "code",
   "execution_count": 3,
   "metadata": {},
   "outputs": [],
   "source": [
    "url = 'https://www.sharesansar.com/today-share-price'\n",
    "request = urllib.request.Request(url, headers={'User-Agent': user_agent})\n",
    "response = urllib.request.urlopen(request)\n",
    "html_content = response.read().decode('utf-8')"
   ]
  },
  {
   "cell_type": "markdown",
   "metadata": {},
   "source": [
    "Head Data Extract"
   ]
  },
  {
   "cell_type": "code",
   "execution_count": 4,
   "metadata": {},
   "outputs": [],
   "source": [
    "# Extracting data within <thead> tags from both tables\n",
    "thead_pattern = r'<thead>(.*?)</thead>'\n",
    "thead_data = re.findall(thead_pattern, html_content, re.DOTALL)              \n",
    "\n",
    "head_data_all = []\n",
    "\n",
    "# Iterate over each element of thead_data and extract data within <th> tags\n",
    "for data in thead_data:\n",
    "    head_data = re.findall(r'<th.*?>(.*?)</th>', data, re.DOTALL)\n",
    "    head_data_all.extend(head_data)\n",
    "\n",
    "# print(\"T_Head:\", head_data_all)"
   ]
  },
  {
   "cell_type": "code",
   "execution_count": 5,
   "metadata": {},
   "outputs": [],
   "source": [
    "# print(len(head_data_all))"
   ]
  },
  {
   "cell_type": "markdown",
   "metadata": {},
   "source": [
    "Body Extract"
   ]
  },
  {
   "cell_type": "code",
   "execution_count": 6,
   "metadata": {},
   "outputs": [],
   "source": [
    "# Extracting data within <tbody> tags\n",
    "tbody_pattern = r'<tbody>(.*?)</tbody>'\n",
    "tbody_data = re.findall(tbody_pattern, html_content, re.DOTALL)              \n",
    "\n",
    "matches_data_all = []\n",
    "\n",
    "# Iterate over each element of tbody_data and extract data within <td> tags\n",
    "for data in tbody_data:\n",
    "    matches_data = re.findall(r'<td.*?>(.*?)</td>', data, re.DOTALL)\n",
    "    matches_data_all.extend(matches_data)\n",
    "\n",
    "# print(\"tbody_text\", matches_data_all)"
   ]
  },
  {
   "cell_type": "code",
   "execution_count": 7,
   "metadata": {},
   "outputs": [],
   "source": [
    "\n",
    "# Separate the list into sublists of 21 elements each\n",
    "sublists = [matches_data_all[i:i+21] for i in range(0, len(matches_data_all), 21)]\n",
    "\n",
    "# Extract data into separate lists\n",
    "S_No = [item[0] for item in sublists]\n",
    "Symbol = [item[1] for item in sublists]\n",
    "\n",
    "Conf = [item[2] for item in sublists]\n",
    "Open = [item[3] for item in sublists]\n",
    "High = [item[4] for item in sublists]\n",
    "Low = [item[5] for item in sublists]\n",
    "Close = [item[6] for item in sublists]\n",
    "VWAP = [item[7] for item in sublists]\n",
    "Vol = [item[8] for item in sublists]\n",
    "Prev_Close = [item[9] for item in sublists]\n",
    "Turnover = [item[10] for item in sublists]\n",
    "Trans = [item[11] for item in sublists]\n",
    "Diff = [item[12] for item in sublists]\n",
    "Range = [item[13] for item in sublists]\n",
    "Diff_Percent = [item[14] for item in sublists]\n",
    "Range_Percent = [item[15] for item in sublists]\n",
    "VWAP_Percent = [item[16] for item in sublists]\n",
    "Days_120 = [item[17] for item in sublists]\n",
    "Days_180 = [item[18] for item in sublists]\n",
    "Weeks_High = [item[19] for item in sublists]\n",
    "Weeks_Low = [item[20] for item in sublists]\n",
    "\n",
    "# Print the separated lists\n",
    "# print(\"S.No:\", S_No)\n",
    "# print(\"Symbol:\", Symbol)\n",
    "# print(\"Conf:\", Conf)\n",
    "# print(\"Open:\", Open)\n",
    "# print(\"High:\", High)\n",
    "# print(\"Low:\", Low)\n",
    "# print(\"Close:\", Close)\n",
    "# print(\"VWAP:\", VWAP)\n",
    "# print(\"Vol:\", Vol)\n",
    "# print(\"Prev. Close:\", Prev_Close)\n",
    "# print(\"Turnover:\", Turnover)\n",
    "# print(\"Trans:\", Trans)\n",
    "# print(\"Diff:\", Diff)\n",
    "# print(\"Range:\", Range)\n",
    "# print(\"Diff %:\", Diff_Percent)\n",
    "# print(\"Range %:\", Range_Percent)\n",
    "# print(\"VWAP %:\", VWAP_Percent)\n",
    "# print(\"120 Days:\", Days_120)\n",
    "# print(\"180 Days:\", Days_180)\n",
    "# print(\"52 Weeks High:\", Weeks_High)\n",
    "# print(\"52 Weeks Low:\", Weeks_Low)\n"
   ]
  },
  {
   "cell_type": "markdown",
   "metadata": {},
   "source": [
    "Symbol editing"
   ]
  },
  {
   "cell_type": "code",
   "execution_count": 8,
   "metadata": {},
   "outputs": [],
   "source": [
    "pattern = r'title=\"([^\"]+)\"[^>]*>([^<]+)<\\/a>'\n",
    "\n",
    "matches = re.findall(pattern, ''.join(Symbol))\n",
    "\n",
    "names = []\n",
    "symbols_list = []\n",
    "\n",
    "for name, symbol in matches:\n",
    "    names.append(name)\n",
    "    symbols_list.append(symbol)\n",
    "\n",
    "# print(\"Names:\", names)\n",
    "# print(\"Symbols:\", symbols_list)"
   ]
  },
  {
   "cell_type": "code",
   "execution_count": 9,
   "metadata": {},
   "outputs": [
    {
     "name": "stdout",
     "output_type": "stream",
     "text": [
      "CSV file exported successfully.\n"
     ]
    }
   ],
   "source": [
    "import csv\n",
    "\n",
    "# Define the file name\n",
    "csv_filename = \"csv/nepse_data.csv\"\n",
    "\n",
    "# Combine the separated lists into rows\n",
    "rows = zip( names ,symbols_list, Conf, Open, High, Low, Close, VWAP, Vol, Prev_Close, Turnover, Trans, Diff, Range, Diff_Percent, Range_Percent, VWAP_Percent, Days_120, Days_180, Weeks_High, Weeks_Low)\n",
    "\n",
    "# Write the rows to a CSV file\n",
    "with open(csv_filename, 'w', newline='') as csvfile:\n",
    "    writer = csv.writer(csvfile)\n",
    "    \n",
    "    # Write the header\n",
    "    writer.writerow([ 'Name','Symbol', 'Conf', 'Open', 'High', 'Low', 'Close', 'VWAP', 'Vol', 'Prev. Close', 'Turnover', 'Trans', 'Diff', 'Range', 'Diff %', 'Range %', 'VWAP %', '120 Days', '180 Days', '52 Weeks High', '52 Weeks Low'])\n",
    "    \n",
    "    # Write the rows\n",
    "    for row in rows:\n",
    "        writer.writerow(row)\n",
    "\n",
    "print(\"CSV file exported successfully.\")\n"
   ]
  }
 ],
 "metadata": {
  "kernelspec": {
   "display_name": "base",
   "language": "python",
   "name": "python3"
  },
  "language_info": {
   "codemirror_mode": {
    "name": "ipython",
    "version": 3
   },
   "file_extension": ".py",
   "mimetype": "text/x-python",
   "name": "python",
   "nbconvert_exporter": "python",
   "pygments_lexer": "ipython3",
   "version": "3.11.7"
  }
 },
 "nbformat": 4,
 "nbformat_minor": 2
}
