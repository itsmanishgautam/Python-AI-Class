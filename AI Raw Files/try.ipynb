{
 "cells": [
  {
   "cell_type": "code",
   "execution_count": 2,
   "metadata": {},
   "outputs": [
    {
     "name": "stdout",
     "output_type": "stream",
     "text": [
      "Titles:\n",
      "Example Domain\n",
      "\n",
      "Links:\n",
      "('https://www.iana.org/domains/example', 'More information...')\n"
     ]
    }
   ],
   "source": [
    "import re\n",
    "from urllib import request\n",
    "\n",
    "# Define the URL of the webpage you want to scrape\n",
    "url = 'https://example.com'\n",
    "\n",
    "try:\n",
    "    # Open the webpage and read its content\n",
    "    with request.urlopen(url) as response:\n",
    "        html_content = response.read().decode('utf-8')\n",
    "        \n",
    "        # Define Regular Expression patterns\n",
    "        title_pattern = r'<title>(.*?)</title>'\n",
    "        link_pattern = r'<a href=\"(.*?)\">(.*?)</a>'\n",
    "        \n",
    "        # Find matches using Regular Expressions\n",
    "        titles = re.findall(title_pattern, html_content)\n",
    "        links = re.findall(link_pattern, html_content)\n",
    "        \n",
    "        # Print the extracted data\n",
    "        print(\"Titles:\")\n",
    "        for title in titles:\n",
    "            print(title)\n",
    "\n",
    "        print(\"\\nLinks:\")\n",
    "        for link in links:\n",
    "            print(link)\n",
    "\n",
    "except Exception as e:\n",
    "    print(\"Error:\", e)\n"
   ]
  }
 ],
 "metadata": {
  "kernelspec": {
   "display_name": "base",
   "language": "python",
   "name": "python3"
  },
  "language_info": {
   "codemirror_mode": {
    "name": "ipython",
    "version": 3
   },
   "file_extension": ".py",
   "mimetype": "text/x-python",
   "name": "python",
   "nbconvert_exporter": "python",
   "pygments_lexer": "ipython3",
   "version": "3.11.7"
  }
 },
 "nbformat": 4,
 "nbformat_minor": 2
}
