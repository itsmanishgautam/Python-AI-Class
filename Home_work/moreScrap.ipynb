{
 "cells": [
  {
   "cell_type": "code",
   "execution_count": 299,
   "metadata": {},
   "outputs": [],
   "source": [
    "import re\n",
    "import urllib.request\n",
    "\n",
    "job_titles = []\n",
    "posted_date = []\n",
    "datacompany = []\n",
    "locations = []\n",
    "categories = []\n",
    "url =[]\n",
    "all_title_link_pattern = []\n",
    "html_codes =[]\n",
    "\n",
    "user_agent = 'Mozilla/5.0 (Windows NT 10.0; Win64; x64) AppleWebKit/537.36 (KHTML, like Gecko) Chrome/58.0.3029.110 Safari/537.3'\n"
   ]
  },
  {
   "cell_type": "code",
   "execution_count": 300,
   "metadata": {},
   "outputs": [],
   "source": [
    "\n",
    "# for page_num in range(1, 15):\n",
    "#     # for page_num in range(1, 3):\n",
    "#     url = f'https://www.jobsnepal.com/jobs?page={page_num}'\n",
    "\n",
    "#     request = urllib.request.Request(url, headers={'User-Agent': user_agent})\n",
    "#     response = urllib.request.urlopen(request)\n",
    "#     html_content = response.read().decode('utf-8')\n",
    "\n",
    "#     link_pattern = r'<h2 class=\"job-title\" title=\".*\">\\s*<a\\s+href=\"([^\"]*)\">'\n",
    "#     matchtitle = re.findall(link_pattern, html_content)\n",
    "#     all_title_link_pattern.extend(matchtitle)\n",
    "\n",
    "# # print(all_title_link_pattern) "
   ]
  },
  {
   "cell_type": "code",
   "execution_count": 301,
   "metadata": {},
   "outputs": [
    {
     "name": "stdout",
     "output_type": "stream",
     "text": [
      "['Request for Proposal (RFP) for the Consultancy Services']\n"
     ]
    }
   ],
   "source": [
    "url = 'https://www.jobsnepal.com/request-for-proposal-rfp-for-the-consultancy-services-133247'\n",
    "request = urllib.request.Request(url, headers={'User-Agent': user_agent})\n",
    "response = urllib.request.urlopen(request)\n",
    "html_code = response.read().decode('utf-8')\n",
    "\n",
    "# section_pattern = r'<section\\s+class=\"content container top-job-details\"\\s+itemscope=\"\"\\s+itemtype=\"http://schema.org/JobPosting\">(.*?)</section>'\n",
    "\n",
    "# titlepattern = r'<h1\\s+class=\"job-title pb-1 font-sans\"\\s+itemprop=\"title\">(.*?)</h1>'\n",
    "titlepattern = r'<h1\\s+class=\"job-title pb-1 font-sans\"\\s+itemprop=\"title\">\\s*(.*?)\\s*</h1>'\n",
    "\n",
    "\n",
    "matchtitle = re.findall(titlepattern, html_code)\n",
    "# job_titles.extend(matchtitle)\n",
    "print(matchtitle)\n"
   ]
  },
  {
   "cell_type": "code",
   "execution_count": 302,
   "metadata": {},
   "outputs": [],
   "source": [
    "# for element in all_title_link_pattern:\n",
    "#     url = element\n",
    "#     request = urllib.request.Request(url, headers={'User-Agent': user_agent})\n",
    "#     response = urllib.request.urlopen(request)\n",
    "#     html_code = response.read().decode('utf-8')\n",
    "\n",
    "\n",
    "#     titlepattern = r'<h1\\s+class=\"job-title pb-1 font-sans\"\\s+itemprop=\"title\">(.*?)</h1>'\n",
    "#     matchtitle = re.findall(titlepattern, html_code)\n",
    "#     job_titles.extend(matchtitle)\n",
    "\n",
    "#     # postedpattern = r'<div\\s+class=\"job-post-date-info mb-4\">(.*?)</div>'\n",
    "#     postedpattern = r'<span class=\"job-posted-on\">\\s*(.*?)\\s*</span>'\n",
    "\n",
    "#     matchposteddate = re.findall(postedpattern, html_code)\n",
    "#     posted_date.extend(matchposteddate)\n",
    "\n",
    "\n",
    "\n",
    "\n",
    "\n",
    "#     # html_codes.extend(html_code)\n",
    "\n",
    "\n",
    "# print(job_titles)"
   ]
  },
  {
   "cell_type": "code",
   "execution_count": 303,
   "metadata": {},
   "outputs": [],
   "source": [
    "# print(\"Job Titles:\", job_titles)\n",
    "# print(\"Company:\", datacompany)\n",
    "# print(\"Locations:\", locations)\n",
    "# print(\"Categories:\", categories)"
   ]
  },
  {
   "cell_type": "code",
   "execution_count": 304,
   "metadata": {},
   "outputs": [],
   "source": [
    "# # Create a list of tuples containing job titles and companies\n",
    "# data = list(zip(all_title_link_pattern))\n",
    "# import csv\n",
    "\n",
    "# # Define the CSV file path\n",
    "# csv_file = 'jobs_link11.csv'\n",
    "\n",
    "# # Write the data to a CSV file\n",
    "# with open(csv_file, 'w', newline='', encoding='utf-8') as file:\n",
    "#     writer = csv.writer(file)\n",
    "#     writer.writerow(['Links'])  # Write header row\n",
    "#     writer.writerows(data)  # Write data rows\n",
    "\n",
    "# print(f'Data exported to {csv_file}')"
   ]
  },
  {
   "cell_type": "code",
   "execution_count": null,
   "metadata": {},
   "outputs": [],
   "source": []
  }
 ],
 "metadata": {
  "kernelspec": {
   "display_name": "base",
   "language": "python",
   "name": "python3"
  },
  "language_info": {
   "codemirror_mode": {
    "name": "ipython",
    "version": 3
   },
   "file_extension": ".py",
   "mimetype": "text/x-python",
   "name": "python",
   "nbconvert_exporter": "python",
   "pygments_lexer": "ipython3",
   "version": "3.11.7"
  }
 },
 "nbformat": 4,
 "nbformat_minor": 2
}
