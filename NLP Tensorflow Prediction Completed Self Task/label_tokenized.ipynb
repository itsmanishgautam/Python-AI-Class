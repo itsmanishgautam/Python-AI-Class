{
 "cells": [
  {
   "cell_type": "code",
   "execution_count": 19,
   "metadata": {},
   "outputs": [],
   "source": [
    "import tensorflow as tf\n",
    "from tensorflow.keras.preprocessing.text import Tokenizer"
   ]
  },
  {
   "cell_type": "code",
   "execution_count": 20,
   "metadata": {},
   "outputs": [],
   "source": [
    "import pandas as pd\n",
    "training_data = pd.read_csv('first_twitter_training.csv')"
   ]
  },
  {
   "cell_type": "code",
   "execution_count": 21,
   "metadata": {},
   "outputs": [],
   "source": [
    "training_data = training_data.drop(training_data.columns[0], axis=1)"
   ]
  },
  {
   "cell_type": "code",
   "execution_count": 22,
   "metadata": {},
   "outputs": [],
   "source": [
    "df = training_data.drop(training_data.columns[0], axis=1)"
   ]
  },
  {
   "cell_type": "code",
   "execution_count": 23,
   "metadata": {},
   "outputs": [],
   "source": [
    "labels = df.iloc[:, 0].values\n",
    "string_data = df.iloc[:, 1].values"
   ]
  },
  {
   "cell_type": "code",
   "execution_count": null,
   "metadata": {},
   "outputs": [],
   "source": []
  },
  {
   "cell_type": "code",
   "execution_count": 24,
   "metadata": {},
   "outputs": [],
   "source": [
    "import numpy as np\n",
    "labels = np.array([\n",
    "    1 if label.lower() == 'positive' \n",
    "    else -1 if label.lower() == 'negative' \n",
    "    else 0 if label.lower() == 'neutral' \n",
    "    else 2 if label.lower() == 'irrelevant' \n",
    "\n",
    "    else label\n",
    "    for label in labels\n",
    "])\n"
   ]
  },
  {
   "cell_type": "code",
   "execution_count": 25,
   "metadata": {},
   "outputs": [
    {
     "name": "stdout",
     "output_type": "stream",
     "text": [
      "[ 1  1  1  1  1  1  1  1  1  1  1  0  0  0  0  0  0  1  1  1  1  1  1 -1\n",
      " -1 -1 -1 -1 -1  1  1  1  1  1  1 -1 -1 -1 -1 -1 -1  0  0  0  0  0  0  0\n",
      "  0  0  0  0  0 -1 -1 -1 -1 -1 -1  0  0  0  0  0  0  1  1  1  1  1  1  1\n",
      "  1  1  1  1  1  0  0  0  0  0  0  1  1  1  1  1  1  0  0  0  0  0  0 -1\n",
      " -1 -1 -1 -1]\n"
     ]
    }
   ],
   "source": [
    "print(labels[:100])\n"
   ]
  },
  {
   "cell_type": "code",
   "execution_count": 28,
   "metadata": {},
   "outputs": [
    {
     "name": "stdout",
     "output_type": "stream",
     "text": [
      "Data exported to CSV successfully.\n"
     ]
    }
   ],
   "source": [
    "# Create a DataFrame from the extracted data\n",
    "data_to_export = pd.DataFrame({'Labels': labels, 'StringData': string_data})\n",
    "\n",
    "# Specify the file path where you want to save the CSV file\n",
    "file_path = 'label_only_numeric_exported_data.csv'\n",
    "\n",
    "# Export the DataFrame to a CSV file\n",
    "data_to_export.to_csv(file_path, index=False)\n",
    "\n",
    "print(\"Data exported to CSV successfully.\")"
   ]
  },
  {
   "cell_type": "code",
   "execution_count": 27,
   "metadata": {},
   "outputs": [
    {
     "name": "stdout",
     "output_type": "stream",
     "text": [
      "['I am coming to the borders and I will kill you all,'\n",
      " 'im getting on borderlands and i will kill you all,'\n",
      " 'im coming on borderlands and i will murder you all,'\n",
      " 'im getting on borderlands 2 and i will murder you me all,'\n",
      " 'im getting into borderlands and i can murder you all,'\n",
      " \"So I spent a few hours making something for fun. . . If you don't know I am a HUGE @Borderlands fan and Maya is one of my favorite characters. So I decided to make myself a wallpaper for my PC. . Here is the original image versus the creation I made :) Enjoy! pic.twitter.com/mLsI5wf9Jg\"\n",
      " \"So I spent a couple of hours doing something for fun... If you don't know that I'm a huge @ Borderlands fan and Maya is one of my favorite characters, I decided to make a wallpaper for my PC.. Here's the original picture compared to the creation I made:) Have fun! pic.twitter.com / mLsI5wf9Jg\"\n",
      " \"So I spent a few hours doing something for fun... If you don't know I'm a HUGE @ Borderlands fan and Maya is one of my favorite characters.\"\n",
      " \"So I spent a few hours making something for fun. . . If you don't know I am a HUGE RhandlerR fan and Maya is one of my favorite characters. So I decided to make myself a wallpaper for my PC. . Here is the original image versus the creation I made :) Enjoy! pic.twitter.com/mLsI5wf9Jg\"\n",
      " \"2010 So I spent a few hours making something for fun. . . If you don't know I am a HUGE RhandlerR fan and Maya is one of my favorite characters. So I decided to make myself a wallpaper for my PC. . Here is the original image versus the creation I made :) Enjoy! pic.twitter.com/mLsI5wf9Jg\"]\n"
     ]
    }
   ],
   "source": [
    "print(string_data[:10])\n",
    "\n"
   ]
  }
 ],
 "metadata": {
  "kernelspec": {
   "display_name": "base",
   "language": "python",
   "name": "python3"
  },
  "language_info": {
   "codemirror_mode": {
    "name": "ipython",
    "version": 3
   },
   "file_extension": ".py",
   "mimetype": "text/x-python",
   "name": "python",
   "nbconvert_exporter": "python",
   "pygments_lexer": "ipython3",
   "version": "3.11.7"
  }
 },
 "nbformat": 4,
 "nbformat_minor": 2
}
