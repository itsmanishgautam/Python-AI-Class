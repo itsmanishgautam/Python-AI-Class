{
 "cells": [
  {
   "cell_type": "code",
   "execution_count": 25,
   "metadata": {},
   "outputs": [
    {
     "name": "stderr",
     "output_type": "stream",
     "text": [
      "[nltk_data] Downloading package punkt to\n",
      "[nltk_data]     C:\\Users\\gunar\\AppData\\Roaming\\nltk_data...\n",
      "[nltk_data]   Package punkt is already up-to-date!\n"
     ]
    }
   ],
   "source": [
    "import re\n",
    "import nltk\n",
    "nltk.download('punkt')\n",
    "\n",
    "from nltk.tokenize import word_tokenize\n",
    "\n",
    "def extract_numbers_and_keywords(tokens):\n",
    "    keywords_set = {\n",
    "    'sum', 'add', 'plus', 'total', 'increase', 'increment', 'augment',\n",
    "    'difference', 'subtract', 'minus', 'less', 'decrease', 'reduce', 'deduct', 'take away', 'diminish',\n",
    "    'product', 'multiply', 'times', 'timesed', 'multiplied by', 'twice', 'double', 'triple', 'quadruple',\n",
    "    'division', 'divide', 'over', 'divided by', 'fraction', 'split', 'partition', 'share', 'cut',\n",
    "    'power', 'raised to the power of', 'to the exponent of', 'squared', 'cubed', 'to the nth power', 'to the power'\n",
    "}\n",
    "\n",
    "    \n",
    "    numbers = [int(token) for token in tokens if token.isdigit()]\n",
    "    keywords = [token.lower() for token in tokens if token.lower() in keywords_set]\n",
    "    \n",
    "    return numbers, keywords"
   ]
  },
  {
   "cell_type": "code",
   "execution_count": 26,
   "metadata": {},
   "outputs": [],
   "source": [
    "\n",
    "\n",
    "def perform_operations(numbers, keywords):\n",
    "    if len(numbers) < 2:\n",
    "        print(\"Insufficient numbers to perform operations.\")\n",
    "        return []\n",
    "\n",
    "    variable_names = 'abcdefghijklmnopqrstuvwxyz'\n",
    "    variables = {}\n",
    "    for i, num in enumerate(numbers):\n",
    "        if i < len(variable_names):\n",
    "            variables[variable_names[i]] = num\n",
    "\n",
    "    results = []\n",
    "    a = variables.get('a')\n",
    "    b = variables.get('b')\n",
    "    \n",
    "    if 'sum' in keywords or 'add' in keywords or 'plus' in keywords or 'total' in keywords or 'increase' in keywords or 'increment' in keywords or 'augment' in keywords:\n",
    "        result = a + b\n",
    "        results.append(('sum', result))\n",
    "\n",
    "    if 'difference' in keywords or 'subtract' in keywords or 'minus' in keywords or 'less' in keywords or 'decrease' in keywords or 'reduce' in keywords or 'deduct' in keywords or 'take away' in keywords or 'diminish' in keywords:\n",
    "        result = a - b\n",
    "        results.append(('difference', result))\n",
    "\n",
    "    if 'product' in keywords or 'multiply' in keywords or 'times' in keywords or 'timesed' in keywords or 'multiplied by' in keywords or 'twice' in keywords or 'double' in keywords or 'triple' in keywords or 'quadruple' in keywords:\n",
    "        product = 1\n",
    "        for num in numbers:\n",
    "            product *= num\n",
    "        results.append(('product', product))\n",
    "\n",
    "    if 'division' in keywords or 'divide' in keywords or 'over' in keywords or 'divided by' in keywords or 'fraction' in keywords or 'split' in keywords or 'partition' in keywords or 'share' in keywords or 'cut' in keywords:\n",
    "        if b != 0:\n",
    "            result = a / b\n",
    "            results.append(('division', result))\n",
    "        else:\n",
    "            print(\"Cannot perform division by zero.\")\n",
    "\n",
    "    if 'power' in keywords or 'raised to the power of' in keywords or 'to the exponent of' in keywords or 'squared' in keywords or 'cubed' in keywords or 'to the nth power' in keywords or 'to the power' in keywords:\n",
    "        result = a ** b\n",
    "        results.append(('power', result))\n",
    "\n",
    "    return results\n",
    "\n",
    "\n",
    "\n"
   ]
  },
  {
   "cell_type": "code",
   "execution_count": 27,
   "metadata": {},
   "outputs": [
    {
     "name": "stdout",
     "output_type": "stream",
     "text": [
      "The difference of the numbers is: -20\n"
     ]
    }
   ],
   "source": [
    "text = input(\"Enter text with numbers and keywords: \")\n",
    "\n",
    "word_tokens = word_tokenize(text)\n",
    "\n",
    "numbers, keywords = extract_numbers_and_keywords(word_tokens)\n",
    "\n",
    "results = perform_operations(numbers, keywords)\n",
    "\n",
    "for operation, result in results:\n",
    "    print(f\"The {operation} of the numbers is: {result}\")"
   ]
  }
 ],
 "metadata": {
  "kernelspec": {
   "display_name": "base",
   "language": "python",
   "name": "python3"
  },
  "language_info": {
   "codemirror_mode": {
    "name": "ipython",
    "version": 3
   },
   "file_extension": ".py",
   "mimetype": "text/x-python",
   "name": "python",
   "nbconvert_exporter": "python",
   "pygments_lexer": "ipython3",
   "version": "3.11.7"
  }
 },
 "nbformat": 4,
 "nbformat_minor": 2
}
