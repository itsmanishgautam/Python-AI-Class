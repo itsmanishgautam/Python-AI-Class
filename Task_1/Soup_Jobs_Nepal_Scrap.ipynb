{
 "cells": [
  {
   "cell_type": "code",
   "execution_count": 1,
   "metadata": {},
   "outputs": [
    {
     "name": "stdout",
     "output_type": "stream",
     "text": [
      "Job Titles: ['SALES EXECUTIVE', 'Program Lead', 'EOI आह्वान', 'Nutrition Field Officer', 'Software \\ufeffQA Engineer Testing', 'Software Developer Dot Net', 'Interpreter, Translator, Bridge Engineer, Highway Engineer, HSE, Civil Engineer, Office Staff', 'Expression of Interest to Conduct Training of Trainers (TOT)', 'Admin Associate', 'बाख्रा आपुर्ति सम्बन्धि टेण्डर आह्वान गरिएको सूचना', 'VT Mobiliser (1 Female only)-Residential', 'Call for Proposal for consultancy service', 'Individual Consultant - Capacity Building Officer', 'Province Director', 'Various', 'Crew Member (All-rounder)', 'Administrative Officer', 'Re-Call for Proposal for Consultancy for assessing the capacity of PHTC to conduct SRHR training and training need assessment in Madhesh, Lumbini and Sudurpaschim Provinces', 'MEAL Technical Officer', 'MEAL-CFRM Coordinator', 'Consultant to develop a Climate Resilient Health Facility Emergency Preparedness and Management Plan', 'Quality Improvement Manager / Research Officer (Re-Vacancy)', 'कृषि सामग्रीहरू खरिदको लागि सिलबन्दी दरभाउपत्र आह्वानको सूचना', 'Call for Expression of Interest (EOI)', 'Project Coordinator', 'कर्मचारीको आवश्यक्ता', 'Senior Python Engineer', 'लेखा अधिकृत/कृषि प्राविधिक/प्रशोधन केन्द्र व्यवस्थापक', 'Terms of Reference (TOR) for conducting a study to identify green jobs opportunities, major challenges and suggest strategies for nature-based solutions including value chain analysis', 'Short Term Technical Assistance (STTA)', 'छात्रवृत्तिका लागि आवेदन सम्बन्धि सूचना !', 'Programme Manager', 'Re- Request for Application (RFA)', 'शिलवन्दी कोटेशन आह्वान सम्वन्धि सूचना', 'Sub Overseer (civil/electrical/mechanical)', 'Request for Full Application', 'Accountant', 'Technical Expert Food Systems and Nutrition', 'कर्मचारी पदपूर्ति सम्बन्धि सूचना', 'Senior Project Associate (Engineering)', 'Project Officer (PO)', 'Request for Quotation (RFQ) for Duty-Free Scooters (Re-Advertisement)', 'Vacancy Announcement for Various Positions', 'Request Proposal for Engineering Consultant for the Construction of Overhead Tank and Water Distribution System as part of “Health Reform Project 2”', 'Consultancy Services on Oxfam Country Strategy (OCS Review)', 'Request for Proposal and Call for Quotation', 'Executive Assistant', 'Crash Training Course on Humanitarian Response Management (HRM)', 'RE-REQUEST FOR PROPOSAL', 'किताव छपाइको लागि दरभाउ पत्र (कोटेशन) आह्वान गरिएको सम्बन्धमा ।', 'Procurement Notice – Individual Consultant – GESI Expert', 'Request for Proposal: Building Electrician Training', 'खोर तथा गोठ सुधार सम्बन्धि निर्माण सामग्री खरिद लागी बोलपत्र आह्वानको सुचना', 'Terms of Reference (TOR) to Organize workshops with municipal officials on anticipatory action and SRSP & also to Reinforce the establishment of Local Emergency Operation Centers (LEOCs)', 'Call for Proposal for Gender Equality and Social Inclusion (GESI) Audit', 'शिलबन्दी कोटेशन आह्वान सम्वन्धि सूचना', 'Senior Project Associate (Engineering)', 'संवाददाता आवश्यकता सम्बन्धी सूचना', 'Teachers', 'Request for Proposal (RFP) - Research Institute', 'कार्यक्रम संयोजक  (Project Coordinator)', 'INVITATION FOR BIDS', 'Various Positions', 'Field Officer', 'Request for Proposal/Quotation', 'Dev Ops Intern', 'Human Resource and Admin Officer', 'REQUEST FOR EXPRESSION OF INTEREST (EOI) FROM ELIGIBLE SUPPLIERS', 'Sponsorship Correspondence Assistant /  Senior Grants Acquisition Specialist', 'Request for Proposal (RFP)-Readvertise', 'IT/Research Support Officer', 'REQUEST FOR PROPOSAL', 'Finance Trainee', 'Market Representatives/Business Development Executive', 'SJP MEAL Coordinator for Madhesh', 'Programme Assistant (Migration, Development and Policy)', 'Senior Project Officer- Engineer', 'Call for Expression of Interest (EOI) for Vendor Roster', 'कर्मचारी आवश्यकता', 'Finance Manager', 'शिलबन्दी दरभाउ पत्र आह्वान सम्बन्धि सूचना', 'TENDER NOTICE', 'Expression of Interest for Vendor Listing', 'Call for Proposal -Project End Evaluation', 'Support Engineer (12 month FTC)', 'ETL Developer', 'Senior DevOps Engineer', 'Request for Quotation – 4WD Vehicle', 'Python Developer', 'Java Developer', 'QA Automation Engineer', 'कर्मचारी तथा लेखा अभिलेख सफ्टवयर आवश्यकता सम्बन्धि सूचना', 'Software Engineer (NoSQL DBA)', 'Python Data Engineer', 'Dot Net Developer', 'Various Positions', 'REQUEST FOR QUOTATION', 'Expression of Interest (EOI) for Support to Schools for Formulation of SIP (School Improvement Plan) Consultancy', 'Natural Resource Management Officer (NRM Officer)', 'Admin and Finance Officer/Project Manager', 'Request for Sealed Proposal (RfP) Notice', 'सिलबन्दी बोलपत्र आह्वानको सुचना', 'Sales and Marketing Assistant', 'Program Officer', 'Invitation for Bid', 'Technical Coordinator', 'PROJECT OFFICER', 'Request for Proposal-Scoping Study for Local Insurance Products for Water Supply and Sanitation Infrastructure', 'IT Associate', 'Chauffeur (Driver)', 'Trades Helper', 'REQUEST FOR PROPOSAL', 'Request for Proposal-Assess Red Panda Distribution, Occupancy, and Conservation Threats  in Karnali Landscape', 'Project Specialist- Education', 'Grants and Procurement Officer', 'Team Lead', 'Consultant', 'Correspondence Representative and  Assistant Correspondence Representative', 'Sales person', 'Corporate Sales manager', 'MANAGER, RESEARCH, MONITORING AND EVALUATION (RM&E)', 'Thematic Lead – Education', 'Intern(s)', 'Assistant Officer- Education and Child Protection', 'PHP Laravel Developer', 'Sales Officer', 'IT Support Engineer', 'Request for Proposal-Radio Magazine Production and Broadcasting', 'Request for Proposal-Radio PSAs Production and Broadcasting', 'Request for Proposal-Annual Financial Audit, Labor Audit and Annual Corporate Income Tax Filing Services for DAI Global LLC', 'Various Positions', 'PRINCIPAL SOFTWARE ENGINEER', 'PRINCIPAL DATA ENGINEER', 'Family Planning and Reproductive Health (FP/RH), Task Order 3 (TO3) Logistics Outsourcing Deep Dive, Local Consultant', 'Expression of Interest (EOI)  Karnali Earthquake Recovery Project Partnership: Disability Inclusive Livelihood', 'Call for Request for Application (RFA) on USAID Karnali Water Challenge under USAID’s Karnali Water Activity Grants Program', 'Recruiting Specialist', 'QC Automation Trainee/Associate', 'Software Developer – Configuration', 'Web Designer (UI/UX)', 'Head of Department- English (Re - Advertisement)', 'SEO Senior specialist', 'Content Writer', 'Expression of Interest for Insurance Services (Re- advertised)', 'Office Executive', 'Senior Web Developer', 'Request for Proposal (RFP)', 'Request for Proposal', 'Front Desk Receptionist', 'Sr. System Administrator', 'Technical Support Officer.', 'HR Intern', 'Economist (Environmental Economics) and Economist (Trade)', 'Request for Concept Notes', 'Java Developer', 'Geologist/Geophysicist']\n",
      "Company: ['Gurkha Watch and Accessories', 'Global Green Growth Institute- Nepal Program', 'Rural Women Upliftment Association (RWUA)', 'Integrated Rural Development Society', 'CodeBee Nepal Pvt. Ltd.(Sister Concern Of WallBee APS)', 'CodeBee Nepal Pvt. Ltd.(Sister Concern Of WallBee APS)', 'Poly Changda Engineering Company', 'Access Planet Organization', 'Bagmati Welfare Society Nepal(BWSN)', 'CEAD Nepal Doti', 'Opportunity Village Nepal', 'Association of Community Radio Broadcasters Nepal', 'UNDP', 'KIRDARC-Nepal', 'Vijay Motors Pvt. Ltd.', 'JobsNepal.com Direct Recruitment Service', 'JobsNepal.com Direct Recruitment Service', 'ADRA Nepal', 'People in  Need', 'People in  Need', 'International Federation of Red Cross and Red Crescent Societies (IFRC)', 'International Nepal Fellowship', 'Lele Community Development Center', 'United Mission to Nepal', 'Astha Nepal', 'AANGAN', 'Javra Software Nepal Pvt. Ltd.', 'ENPRED, Nepal', 'Center for Development and Disaster Management (CDM-Nepal)', 'Deloitte', 'Nepal National Dalit Social Welfare Organization (NNDSWO)', 'Sindhuli Integrated Development Services Nepal (SIDS Nepal)', 'The Asia Foundation', 'Social Awareness Center SAC Nepal', 'Buddhabhumi Nepal Hydropower Company Ltd.', 'Deloitte', 'Buddhabhumi Nepal Hydropower Company Ltd.', 'Welthungerhilfe', 'National Federation of the Deaf Nepal (NDFN)', 'IOM Nepal', \"Rural Women's Development and Unity Centre (RUWDUC)\", 'Winrock International (Feed the Future Nepal USAID Agricultural Inputs)', 'Campaign Nepal', 'ADRA Nepal', 'Oxfam in Nepal', 'Yuwalaya', 'Well Minded Australia', 'Nepal Development Initiative Consulting Pvt Ltd', 'Save the Children', 'Community Development & Advocacy Forum Nepal', 'UNDP', 'Community Development & Advocacy Forum Nepal', 'SAHAMATI', 'Center for Development and Disaster Management (CDM-Nepal)', 'ADRA Nepal', 'Social Awareness Center SAC Nepal', 'IOM Nepal', 'Association of Community Radio Broadcasters Nepal', 'Shanti Business Academy Pvt.Ltd', 'National Democratic Institute for International Affairs (NDI)', 'Dalit Society Welfare Committee Nepal', 'Tukee Foundation', 'Taskmills', 'Ratauli Yuba Club (RYC)', 'Lumanti Support Group for Shelter', 'LIS Nepal Pvt. Ltd. (Sister Concern of Yomari Group of Companies)', 'Lumanti Support Group for Shelter', 'CARE Nepal', 'World Vision International Nepal', 'Winrock International (Feed the Future Nepal USAID Agricultural Inputs)', \"Nepal Bankers' Association\", 'USAID Tayar Nepal', 'Shangri La Development Association', 'HIMAL HERBACEUTICALS PVT LTD', 'People in  Need', 'IOM Nepal', 'PRACTICAL ACTION', 'Heifer International Nepal', 'Ratauli Yuba Club (RYC)', 'Danfe Works Enterprises Nepal', 'Centre for Integrated Urban Development', 'Tuki Association Sunkoshi', 'Ipas Nepal', '\\ufeff\\ufeff\\ufeff\\ufeff\\ufeff\\ufeffCBM Global Nepal Country Office', 'Verisk Nepal Pvt. Ltd.', 'Verisk Nepal Pvt. Ltd.', 'Verisk Nepal Pvt. Ltd.', 'Habitat Nepal', 'Verisk Nepal Pvt. Ltd.', 'Verisk Nepal Pvt. Ltd.', 'Verisk Nepal Pvt. Ltd.', 'Sagun Agriculture Cooperative Society Ltd.', 'Verisk Nepal Pvt. Ltd.', 'Verisk Nepal Pvt. Ltd.', 'Verisk Nepal Pvt. Ltd.', 'Nepal Integrated Development Society(NIDS)', 'USAID Tayar Nepal', 'dZi Foundation', 'Federation of Community Forestry Users Nepal (FECOFUN)', 'Kids of kathmandu', 'LI-BIRD', 'Lumbini Integrated Development Organization', 'Jiri Natural Private Limited', 'KOICA Nepal', 'Aasaman Nepal', 'Swisscontact | Swiss Foundation for Technical Cooperation', 'Karkhana Samuha', 'USAID Karnali Water Activity', 'SOUTH ASIA WATCH ON TRADE, ECONOMICS AND ENVIRONMENT (SAWTEE)', 'US Embassy', 'US Embassy', 'USAID Tayar Nepal', 'USAID Biodiversity (Jal Jangal)', 'VSO Nepal', 'USAID Biodiversity (Jal Jangal)', 'Creanovation Technologies Pvt. Ltd.', 'Niti Foundation', 'JourneyDMC', 'Triyuga Sales and Marketing Pvt. Ltd', 'Triyuga Sales and Marketing Pvt. Ltd', 'Room to Read Nepal', 'United Mission to Nepal', 'USAID Karnali Water Activity', 'SORDEC-Nepal', 'Code Fusion Technologies Pvt. Ltd.', 'Sajilo Sewa', 'ComplianceQuest Nepal Pvt. Ltd.', 'USAID Karnali Water Activity', 'USAID Karnali Water Activity', 'USAID Biodiversity (Jal Jangal)', 'Reintegration of Returnee Migrant Workers (ReMi) Project/Helvetas Nepal', 'GrowByData Services Pvt. Ltd.', 'GrowByData Services Pvt. Ltd.', 'Chemonics International', '\\ufeff\\ufeff\\ufeff\\ufeff\\ufeff\\ufeffCBM Global Nepal Country Office', 'USAID Karnali Water Activity', 'TalentBridge Pro', 'ComplianceQuest Nepal Pvt. Ltd.', 'ComplianceQuest Nepal Pvt. Ltd.', 'Andmine', 'Kopila Valley School Pvt Ltd', 'Job Consult Nepal', 'Job Consult Nepal', 'dZi Foundation', 'Reputed travel company', 'Andmine', 'FHI 360 Nepal', 'USAID Karnali Water Activity', 'NCA College of Management', 'LIS Nepal Pvt. Ltd. (Sister Concern of Yomari Group of Companies)', 'JobsNepal.com Direct Recruitment Service', 'LIS Nepal Pvt. Ltd. (Sister Concern of Yomari Group of Companies)', 'SOUTH ASIA WATCH ON TRADE, ECONOMICS AND ENVIRONMENT (SAWTEE)', 'Winrock International (Feed the Future Nepal USAID Agricultural Inputs)', 'Code Fusion Technologies Pvt. Ltd.', 'Albelo Multi Trading Pvt. Ltd']\n",
      "Locations: ['Kathmandu', 'Kathmandu', 'Sarlahi', 'Mahottari', 'Kathmandu', 'Kathmandu', 'Terai Region', 'Rupandehi', 'Sarlahi', 'Doti', 'Pokhara', 'Lalitpur', 'Okhaldhunga', 'Birendranagar Surkhet', 'Kathmandu', 'Kathmandu', 'Kathmandu', 'Madhesh Province, Lumbini Province, Sudurpashchim Province', '', 'Kathmandu', 'Pokhara', 'Lalitpur', 'Kathmandu', 'Dadeldhura', 'Janakpur', 'Lalitpur', 'Mahashila 5, Parbat, Gandaki Province', 'Rupandehi, Lumbini Province', 'Gandaki Province, Bagmati Province, Lumbini Province, Koshi Pradesh', 'Kathmandu', 'Sindhuli', 'Madhesh Province, Lumbini Province', 'Surkhet', 'Nuwakot', 'Kathmandu', 'Kathmandu', 'Kathmandu', 'Chitwan', 'Rukum West, Jajarkot', 'Kathmandu', 'Kathmandu', 'Madhesh Province, Rautahat', 'Lalitpur', '', 'Development and Project, Expression of Interests, Tender Notice, Bid, Development / NGO', 'Lalitpur', 'Kathmandu', 'Mahottari, Bardibas', 'Lalitpur', 'Mahottari, Bardibas', 'Agriculture + Livestock', 'Engineering - Civil, Development / NGO, Development / INGO, Management Consultant, NGO/INGO/Social work, Environment and climate', 'Development and Project, Auditing', 'Development and Project, Expression of Interests, Tender Notice, Bid', 'Engineering - Architecture, Engineering - Civil, Development and Project', 'Media / Journalism, Development and Project', 'Education, Teachers', 'Development and Project, Expression of Interests, Tender Notice, Bid, Development / NGO', 'Social Science, Development and Project', 'Development and Project, Expression of Interests, Tender Notice, Bid', 'Administrative / Management, Graphic Design, Customer Service', 'Public Health, Development and Project, Development / NGO', 'Development and Project, Expression of Interests, Tender Notice, Bid, Development / NGO', '', 'Human Resources, Finance & Administration, Development / NGO', 'Development and Project, Expression of Interests, Tender Notice, Bid', 'Development / INGO', 'Development and Project, Expression of Interests, Tender Notice, Bid, Development / NGO', 'Information Technology, Research', 'Development and Project, Expression of Interests, Tender Notice, Bid, Development / NGO', 'Accounting and Finance, Finance & Administration, Development / NGO, Business Administration', 'Administrative / Management, Business Development, Marketing Representatives', 'Kathmandu', 'Kathmandu', 'Lalitpur', 'Mahottari', 'Lalitpur', 'Lalitpur', 'Sunkoshi, sindhupalchowk', 'Kathmandu', 'Kathmandu', 'Kathmandu', 'Kathmandu', 'Kathmandu', 'Lalitpur', 'Kathmandu', 'Kathmandu', 'Kathmandu', 'Sunsari', 'Kathmandu', 'Kathmandu', 'Kathmandu', 'Sarlahi', 'Kathmandu', 'Lalitpur', 'Kathmandu', 'Kathmandu', 'Lalitpur, Pokhara', 'Kapilvastu', 'Kathmandu, Bhaktapur, Lalitpur', 'Lalitpur', 'Dhanusha', 'Pokhara', 'Dhangadhi', 'Kathmandu', 'Kathmandu', 'Kathmandu', 'Kathmandu', 'Kathmandu', 'Kathmandu', 'Kathmandu', 'Kathmandu', 'Kathmandu', 'Kathmandu', 'Lalitpur', 'Kathmandu', 'Kathmandu, Other - Specify', 'Kathmandu', 'Kathmandu', 'Kalikot, Kailali, Mugu, Dailekh', 'Kushma Parbat, Gandaki Province', 'Kathmandu', 'Lalitpur', 'Engineer, Information Technology, Computer - Hardware / Network', 'Development and Project, Expression of Interests, Tender Notice, Bid, Development / NGO', 'Development and Project, Expression of Interests, Tender Notice, Bid, Development / NGO', 'Development and Project, Expression of Interests, Tender Notice, Bid', 'Information Technology, Development and Project, Finance & Administration, Mass Communication/Journalism', 'Engineering - Software, Software Development', 'Engineering - Software, Software Development', 'Rukum West, Rukum, Karnali Province', 'Kathmandu', 'Other - Specify', 'Kathmandu', 'Information Technology, Engineering - Computer, Computer - Programming, Software Development', 'Web Design', 'Education, Development / NGO', '', 'Content Writing', 'Development and Project, Expression of Interests, Tender Notice, Bid', 'Administrative / Management, Sales', 'Computer - Programming, Web Development', 'Development and Project, Expression of Interests, Tender Notice, Bid, Development / INGO', 'Development and Project, Expression of Interests, Tender Notice, Bid', 'Front Desk / Reception', 'Kathmandu', 'Administrative / Management', 'Development and Project, Development / NGO, Think Tank, Research Institution', 'Development and Project, Expression of Interests, Tender Notice, Bid, Development / INGO', 'Engineering - Computer, Computer - Programming, Software Development', 'Geotechnical Engineer']\n",
      "Categories: ['Sales', 'Engineering - Environment, Development and Project', 'Expression of Interests, Tender Notice, Bid', 'Public Health, Development and Project', 'Engineering - Software, Software Development', 'Engineering - Software, Software Development', 'Engineering - Civil, Engineering - Structural, Office Assistant', 'Development and Project, Expression of Interests, Tender Notice, Bid', 'Administrative / Management, Development and Project', 'Development and Project, Expression of Interests, Tender Notice, Bid, Development / NGO', 'Development and Project, Business Administration, NGO/INGO/Social work', 'Development and Project, Expression of Interests, Tender Notice, Bid', 'Development and Project, Environment and climate', 'Education, Social Science, Development and Project', 'Automotive / Automobiles', 'Hospitality / Hotel', 'Administrative / Management', 'Development and Project, Employment Training', '', 'Development and Project, Development / NGO', 'Public Health, Development and Project, Research Officer', 'Development and Project, Expression of Interests, Tender Notice, Bid', 'Development and Project, Expression of Interests, Tender Notice, Bid', 'Development and Project, Development / NGO', 'Development and Project, Finance & Administration', 'Information Technology', 'Accounting and Finance, Development and Project, Finance & Administration, Agriculture/Livelihood', 'Development / NGO, Development / INGO, NGO/INGO/Social work', 'Administrative / Management, Tourism Industry, Development and Project', 'Development and Project, Expression of Interests, Tender Notice, Bid, Development / NGO', 'Development and Project, Development / NGO', 'Development and Project, Expression of Interests, Tender Notice, Bid', 'Development and Project, Expression of Interests, Tender Notice, Bid, Development / NGO', 'Hydropower', 'Development and Project', 'Accounting and Finance', 'Technical, Development and Project, Food Technology', 'Agriculture, Education, Social Science, Development and Project', 'Engineering - Architecture, Development and Project, Engineering, Engineering - Structural', 'Development and Project, Development / NGO', 'Development and Project, Expression of Interests, Tender Notice, Bid, Development / INGO', 'Accounting and Finance, Development and Project, Finance & Administration, Development / NGO', 'Development and Project, Expression of Interests, Tender Notice, Bid', 'Lalitpur', 'Assistant', 'Development and Project, Employment Training, Expression of Interests, Tender Notice, Bid', 'Development and Project, Expression of Interests, Tender Notice, Bid', 'Development and Project, Expression of Interests, Tender Notice, Bid', 'Development and Project', 'Development and Project, Expression of Interests, Tender Notice, Bid', 'Rupandehi, Lumbini Province', 'Kathmandu', 'Surkhet', 'Rukum West, Karnali Province, Jajarkot', 'Lalitpur', 'Lalitpur', 'Kathmandu', 'Janakpur', 'Kathmandu', 'Kathmandu', 'Terai Region, Mahottari', 'Lalitpur', 'Lalitpur', 'Kathmandu', 'Lalitpur', 'Lalitpur, Dhangadhi', 'Kathmandu', 'Kathmandu', 'Kathmandu', 'Lalitpur', 'Birgunj, Lahan, Narayanghat', '', 'Development and Project, Development / INGO', 'Development and Project, Development / NGO, Engineering', 'Development / NGO, Development / INGO', 'Accounting and Finance, Development and Project, Finance & Administration, Development / NGO', 'Accounting and Finance, Development and Project', 'Development and Project, Expression of Interests, Tender Notice, Bid', 'Development and Project, Expression of Interests, Tender Notice, Bid', 'Development and Project, Expression of Interests, Tender Notice, Bid', 'Development and Project, Development / NGO', 'Information Technology, Computer - Hardware / Network', 'Information Technology, Web Designing & Programming, Engineering - Software, Software Development', 'Information Technology, Engineering - Software, Software Development', 'Development and Project, Expression of Interests, Tender Notice, Bid, Development / NGO', 'Information Technology, Web Development, Software Development', 'Information Technology, Engineering - Software, Web Designing and Programming', 'Information Technology, Web Designing & Programming, Engineering - Software, Software Development', 'Agriculture, Administrative / Management, Accounting and Finance', 'Information Technology, Engineering - Software, Software Development', 'Information Technology, Engineering - Software', 'Engineering - Software', 'Education, Accounting and Finance, Social Science, Development and Project', 'Development and Project, Development / NGO', 'Development and Project, Expression of Interests, Tender Notice, Bid', 'NGO/INGO/Social work', 'Accounting and Finance, Finance & Administration, Business Administration', 'Development and Project, Expression of Interests, Tender Notice, Bid', 'Development and Project, Expression of Interests, Tender Notice, Bid', 'Administrative / Management, Manufacturing, Sales, Front Office / Secretarial, Customer Service, Marketing, Business Administration', 'Agriculture, Public Health, Development and Project, Environment and Natural Resource', 'Development and Project, Expression of Interests, Tender Notice, Bid, Development / NGO', 'Development and Project, Development / INGO', 'Social Science, Development and Project', 'Development and Project, Expression of Interests, Tender Notice, Bid, Development / NGO', 'Information Technology', 'Driver', '', 'Development and Project, Expression of Interests, Tender Notice, Bid, Development / NGO', 'Development and Project, Development / INGO', 'Development and Project, Development / INGO', 'Development and Project, Development / NGO', 'Education, Sales', 'Development and Project, Expression of Interests, Tender Notice, Bid, Development / NGO', 'Tourism Industry, Travel & Ticketing', 'Sales', 'Sales', 'Social Science, Development and Project, Research', 'Development and Project, Development / NGO', 'Development and Project, NGO/INGO/Social work', 'Development and Project, Development / NGO', 'Database Programming, Engineering - Software, Computer - Programming, Web Designing and Programming, Software Development, Core PHP Developer', 'Sales', 'Kathmandu', 'Kathmandu', 'Kathmandu', 'Lalitpur, Madhesh Province, Koshi Pradesh', 'Kathmandu', 'Kathmandu', '', 'Development and Project, Expression of Interests, Tender Notice, Bid', 'Development and Project, Expression of Interests, Tender Notice, Bid', 'Human Resources', 'Computer  - Technology/Management, Information Technology, Engineering - Computer, Software Development', 'Kathmandu', 'Birendranagar Surkhet', 'Lalitpur', 'Lalitpur', 'Lalitpur', 'Kathmandu', 'Kathmandu', 'Kathmandu', 'Kathmandu', 'Kathmandu', 'Computer - Hardware / Network', 'Technical, Computer - Hardware / Network', 'Kathmandu', 'Kathmandu', 'Kathmandu', 'Kathmandu']\n"
     ]
    }
   ],
   "source": [
    "import urllib.request\n",
    "from bs4 import BeautifulSoup\n",
    "\n",
    "job_titles = []\n",
    "datacompany = []\n",
    "doubledata = []\n",
    "\n",
    "# User-Agent string to avoid being blocked\n",
    "user_agent = 'Mozilla/5.0 (Windows NT 10.0; Win64; x64) AppleWebKit/537.36 (KHTML, like Gecko) Chrome/58.0.3029.110 Safari/537.3'\n",
    "\n",
    "for page_num in range(1, 14):\n",
    "    url = f'https://www.jobsnepal.com/jobs?page={page_num}'\n",
    "\n",
    "    request = urllib.request.Request(url, headers={'User-Agent': user_agent})\n",
    "    response = urllib.request.urlopen(request)\n",
    "    html_content = response.read().decode('utf-8')\n",
    "\n",
    "    # Parse the HTML content\n",
    "    soup = BeautifulSoup(html_content, 'html.parser')\n",
    "\n",
    "    # Find all <div class=\"col-md-8 px-0 top-content\"> elements\n",
    "    alldata = soup.find_all('div', class_='col-md-8 px-0 top-content')\n",
    "\n",
    "    title = soup.find_all('h2', class_='job-title')\n",
    "\n",
    "    # Extract job titles from the current page\n",
    "    job_titles.extend([h2.text.strip() for h2 in title])\n",
    "\n",
    "\n",
    "    # Find all <div class=\"card-inner\"> elements\n",
    "    datacompany_elements = soup.find_all('div', class_='card-inner')\n",
    "\n",
    "    for element in datacompany_elements:\n",
    "        company_name = element.find('a').get('title') if element.find('a') else None\n",
    "        if company_name:\n",
    "            datacompany.append(company_name.strip())\n",
    "\n",
    "\n",
    "\n",
    "    datadouble_data = soup.find_all('div', class_=['icon-price-tags mr-2 text-success icon-sm', 'd-flex align-items-center pl-1 pr-1 py-1'])\n",
    "\n",
    "\n",
    "    # doubledata = [div.find('div').text.strip() for div in data]\n",
    "\n",
    "\n",
    "    # Find all <div> elements with the specified classes\n",
    "    data_elements = soup.find_all('div', class_=['icon-price-tags mr-2 text-success icon-sm', 'd-flex align-items-center pl-1 pr-1 py-1'])\n",
    "\n",
    "    # Extract information from the elements and append to doubledata\n",
    "    for element in data_elements:\n",
    "        bothdata = element.find('div')\n",
    "        if bothdata:\n",
    "            data = bothdata.text.strip()\n",
    "            doubledata.append(data) \n",
    "\n",
    "    \n",
    "locations = doubledata[::2]\n",
    "categories = doubledata[1::2]\n",
    "    \n",
    "\n",
    "print(\"Job Titles:\", job_titles)\n",
    "print(\"Company:\", datacompany)\n",
    "print(\"Locations:\", locations)\n",
    "print(\"Categories:\", categories)\n"
   ]
  },
  {
   "cell_type": "markdown",
   "metadata": {},
   "source": [
    "Export to csv"
   ]
  },
  {
   "cell_type": "code",
   "execution_count": 2,
   "metadata": {},
   "outputs": [
    {
     "name": "stdout",
     "output_type": "stream",
     "text": [
      "Data exported to job_datafinal.csv\n"
     ]
    }
   ],
   "source": [
    "# Create a list of tuples containing job titles and companies\n",
    "data = list(zip(job_titles, datacompany,locations,categories))\n",
    "import csv\n",
    "\n",
    "# Define the CSV file path\n",
    "csv_file = 'job_datafinal.csv'\n",
    "\n",
    "# Write the data to a CSV file\n",
    "with open(csv_file, 'w', newline='', encoding='utf-8') as file:\n",
    "    writer = csv.writer(file)\n",
    "    writer.writerow(['Job Title', 'Company', 'Location', 'Category'])  # Write header row\n",
    "    writer.writerows(data)  # Write data rows\n",
    "\n",
    "print(f'Data exported to {csv_file}')"
   ]
  }
 ],
 "metadata": {
  "kernelspec": {
   "display_name": "base",
   "language": "python",
   "name": "python3"
  },
  "language_info": {
   "codemirror_mode": {
    "name": "ipython",
    "version": 3
   },
   "file_extension": ".py",
   "mimetype": "text/x-python",
   "name": "python",
   "nbconvert_exporter": "python",
   "pygments_lexer": "ipython3",
   "version": "3.11.7"
  }
 },
 "nbformat": 4,
 "nbformat_minor": 2
}
