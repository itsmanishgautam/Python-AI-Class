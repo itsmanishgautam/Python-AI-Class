{
 "cells": [
  {
   "cell_type": "code",
   "execution_count": 37,
   "metadata": {},
   "outputs": [],
   "source": [
    "import re\n",
    "import urllib.request"
   ]
  },
  {
   "cell_type": "code",
   "execution_count": 38,
   "metadata": {},
   "outputs": [],
   "source": [
    "user_agent = 'Mozilla/5.0 (Windows NT 10.0; Win64; x64) AppleWebKit/537.36 (KHTML, like Gecko) Chrome/58.0.3029.110 Safari/537.3'"
   ]
  },
  {
   "cell_type": "code",
   "execution_count": 39,
   "metadata": {},
   "outputs": [],
   "source": [
    "url = 'https://namastesindhupalchowk.com/blog/district-of-nepal'\n",
    "request = urllib.request.Request(url, headers={'User-Agent': user_agent})\n",
    "response = urllib.request.urlopen(request)\n",
    "html_content = response.read().decode('utf-8')"
   ]
  },
  {
   "cell_type": "code",
   "execution_count": 40,
   "metadata": {},
   "outputs": [
    {
     "name": "stdout",
     "output_type": "stream",
     "text": [
      "All_Data: ['1.', 'Koshi ', 'Biratnagar', '25905 ', '14', '4961412', '2.', 'Madesh ', 'Janakpur', '9661', '8', '6114600', '3.', 'Bagmati ', 'Hetauda', '20300', '13', '6116866', '4.', 'Gandaki', 'Pokhara', '21504', '11', '2466427', '5.', 'Lumbini', 'Deukhuri', '22288', '12', '5122078', '6.', 'Karnali', 'Birendranagar', '27984', '10', '1688412', '7.', 'Sudurpaschim', 'Dhangadhi', '19915', '9', '2694783', '1.', 'Taplejung', 'Fungling', '3646', '120590', '2.', 'Terhrathum', 'Myanglung', '679', '88731', '3.', 'Panchthar', 'Fidim', '1241', '172400', '4.', 'Sankhuwasabha', 'Khandbari ', '3480', '158041', '5.', 'Solukhumbu', 'Salleri', '3312', '104851', '6.', 'Bhojpur', 'Bhojpur', '1507', '157923', '7.', 'Khotang', 'Diktel', '1591', '175298', '8.', 'Ilam', 'Ilam', '1703', '279534', '9.', 'Udayapur', 'Gaighat', '2063', '340721', '10.', 'Okhaldhunga', 'Siddhicharan', '1074', '139552', '11.', 'Jhapa', 'Bhadrapur', '1606', '998054', '12.', 'Dhankuta', 'Dhankuta', '892', '150599', '13.', 'Morang', 'Biratnagar', '1855', '1148156', '14.', 'Sunsari', 'Inaruwa', '1257', '926962', '1.', 'Parsa', 'Birjung', '1353', '654471', '2.', 'Bara', 'Kalaiya', '1190', '763137', '3.', 'Rautahat', 'Gaur', '1126', '813573', '4.', 'Sarlahi', 'Malangwa', '1259', '813573', '5.', 'Mahottari', 'Jalleswor', '1002', '706994', '6.', 'Dhanusha', 'Janakpur', '1180', '867747', '7.', 'Siraha', 'Siraha', '1188', '739953', '8.', 'Saptari', 'Rajbiraj', '1363', '706255', '1.', 'Kathmandu', 'Kathmandu', '395', '2041587', '2.', 'Lalitpur', 'Lalitpur', '385', '551667', '3.', 'Bhaktapur', 'Bhaktapur', '119', '432132', '4.', 'Kavre', 'Dhulikhel', '1396', '364039', '5.', '<strong><a href=\"https://namastesindhupalchowk.com/blog/sindhupalchowk-district-profile\" data-type=\"URL\" data-id=\"https://namastesindhupalchowk.com/blog/sindhupalchowk-district-profile\">Sindhupalchowk</a></strong>', '<strong><a href=\"https://namastesindhupalchowk.com/community/place/chautara\" data-type=\"URL\" data-id=\"https://namastesindhupalchowk.com/community/place/chautara\">Chautara</a></strong>', '2542', '262624', '6.', 'Dolakha', 'Charikot', '2191', '172767', '7.', 'Dhading', 'Dhading Besi', '1926', '325710', '8.', 'Nuwakot', 'Bidur', '1121', '263391', '9.', 'Makwanpur', 'Hetauda', '2426', '466073', '10.', 'Rasuwa', 'Dhunche', '1544', '46689', '11.', 'Ramechhap', 'Manthali', '1546', '170302', '12.', 'Chitwan', 'Bharatpur', '2218', '719859', '13.', 'Sindhuli', 'Sindhulighadi', '2491', '300026', '1.', 'Kaski', 'Pokhara', '2017', '600051', '2.', 'Gorkha', 'Gorkha Bazar', '3610', '251027', '3.', 'Nawalparasi <br>(Bardaghat Susta East)', 'Kawasoti', '1043', '378079', '4.', 'Parbhat', 'Kusma', '494', '130887', '5.', 'Tanahu', 'Damauli', '1546', '321153', '6.', 'Baglung', 'Baglung', '1784', '249211', '7.', 'Myagdi', 'Beni', '2297', '107033', '8.', 'Lamjung', 'Besisahar', '1692', '155852', '9.', 'Syangja', 'Putali Bazar', '1164', '253024', '10.', 'Manang', 'Chame', '2246', '5658', '11.', 'Mustang', 'Jomsom', '3573', '14452', '1.', 'Parasi', 'Parasi', '634.88', '386868', '2.', 'Dang', 'Ghorahi', '2955', '674993', '3.', 'Gulmi', 'Tamghas', '1149', '246494', '4.', 'Kapilvastu', 'Taulihawa', '1738', '246494', '5.', 'Arghakharchi', 'Sandhikharka', '1193', '177086', '6.', 'Palpa', 'Tansen', '1373', '245027', '7.', 'Rukum East', 'Rukumkot', '1161.13', '56,786', '8.', 'Pyuthan', 'Pyuthan', '1309', '232019', '9.', 'Banke', 'Nepalgunj', '2337', '603194', '10.', 'Bardiya', 'Gulariya', '2025', '459900', '11.', 'Rupandehi', 'Sidharthanagar', '1360', '1121957', '12.', 'Rolpa', 'Liwang', '1879', '234793', '1.', 'Rukum West', 'Musikot', '1213.49', '166740', '2.', 'Mugu', 'Gamgadhi', '3535', '64549', '3.', 'Dailekh', 'Narayan', '1502', '252313', '4.', 'Dolpa', 'Dunai', '7889', '42774', '5.', 'Jumla', 'Chandannath', '2531', '118349', '6.', 'Jajarkot', 'Khalang', '2230', '189360', '7.', 'Kalikot', 'Manma', '1741', '145292', '8.', 'Salyan', 'Khalanga', '1462', '238515', '9.', 'Surkhet', 'Birendranagar', '2451', '415126', '10.', 'Humla', 'Simikot', '5655', '118349', '1.', 'Kailali', 'Dhagadhi', '3235', '904666', '2.', 'Kanchanpur', 'Mahendranagar', '1610', '513757', '3.', 'Achham', 'Mangalsen', '1680', '228852', '4.', 'Dadeldhura', 'Amargadhi', '1538', '139602', '5.', 'Doti', 'Dipayal', '2025', '204831', '6.', 'Darchula', 'Darchula', '2322', '133310', '7.', 'Bajhang', 'Chainpur', '3422', '189085', '8.', 'Bajura', 'Martadi', '2188', '138523', '9.', 'Baitadi', 'Dasarathchand', '1519', '242157', '1.', 'Udayapur', 'Gaighat', '2.', 'Sindhuli', 'Sindhuli Gadhi', '3.', 'Makawanpur', 'Hetauda', '4.', 'Chitwan', 'Bharatpur', '5.', 'Nawalpur', 'Kawasoti', '6.', 'Dang', 'Ghorahi', '7.', 'Surkhet', 'Birendranagar', '1.', 'Bhaktapur ', '119', '2.', 'Lalitpur', '385', '3.', 'Kathmandu', '395', '4.', 'Parbat', '494', '5.', 'Parasi', '634.88', '1.', 'Dolpa', '7889', '2.', 'Humla', '5655', '3.', 'Taplejung', '3646', '4.', 'Gorkha', '3610', '5.', 'Mustang', '3573', '1.', 'Kathmandu', '20,41,587', '2.', 'Morang', '11, 48,156', '3.', 'Rupendehi', '11,21,957', '4.', 'Jhapa', '9, 98,054', '5.', 'Sunsari', '9, 26,962', '1.', 'Manang', '5,658', '2.', 'Mustang', '14,452', '3.', 'Dolpa', '42,774', '4.', 'Rasuwa', '46,689', '5.', 'Humla', '55,394', 'Himal/ Mountain', '21', 'Pahad/ Hills', '28', 'Tarai', '18', 'Inner Tarai', '7', 'Upatyaka/ Valley', '3', 'Rukum East (Rukumkot) is the youngest district of Nepal. It has 1161.13 square kilometers area.  It is located in the Lumbini province of Nepal. During a Council of Ministers meeting on August 21, 2015 (5 Bhadra 2074), they decided to split the Rukum district as Rukum East &amp; Rukum West. And, Rukum East is established as a new or young district of Nepal at 2074 Ashoj 18. ', 'Bhaktapur is the smallest district of Nepal. It has 119 square kilometers of area. It lies in the Bagmati province of Nepal. This district is also known as \"NachGhan Ko Rajhdhani\". Although the area of Bhaktapur is small, there are 432132 total population.  ', 'Dolpa is the biggest district of Nepal. It has 7889 square kilometers area. It locates in Karnali province. Although the area of Dolpa is big, the pupulationof this district are 42774 according to National Census 2077 BS.', 'Nepal divided into 77 districts on August 21, 2015 (5 Bhadra 2074).', 'Taplejung &amp; Darchula are the districts of Nepal that share border with both nation India and China.', 'Sindhuli district shares its border with more district.']\n"
     ]
    }
   ],
   "source": [
    "# Extracting data within <tbody> tags from both tables\n",
    "tbody_data = re.findall(r'<tbody>\\s*(.*?)\\s*<\\/tbody>', html_content, re.DOTALL)\n",
    "\n",
    "matches_data_all = []\n",
    "\n",
    "# Iterate over each element of tbody_data and extract data within <td> tags\n",
    "for data in tbody_data:\n",
    "    matches_data = re.findall(r'<td>(.*?)<\\/td>', data)\n",
    "    matches_data_all.extend(matches_data)\n",
    "\n",
    "print(\"All_Data:\", matches_data_all)\n",
    "\n"
   ]
  },
  {
   "cell_type": "code",
   "execution_count": 41,
   "metadata": {},
   "outputs": [
    {
     "name": "stdout",
     "output_type": "stream",
     "text": [
      "The position of 'Taplejung' in the list is 43.\n"
     ]
    }
   ],
   "source": [
    "value_to_find = 'Taplejung'\n",
    "\n",
    "# Find position\n",
    "position = matches_data_all.index(value_to_find)\n",
    "\n",
    "print(f\"The position of '{value_to_find}' in the list is {position}.\")"
   ]
  },
  {
   "cell_type": "code",
   "execution_count": 42,
   "metadata": {},
   "outputs": [
    {
     "name": "stdout",
     "output_type": "stream",
     "text": [
      "List before index: ['1.', 'Koshi ', 'Biratnagar', '25905 ', '14', '4961412', '2.', 'Madesh ', 'Janakpur', '9661', '8', '6114600', '3.', 'Bagmati ', 'Hetauda', '20300', '13', '6116866', '4.', 'Gandaki', 'Pokhara', '21504', '11', '2466427', '5.', 'Lumbini', 'Deukhuri', '22288', '12', '5122078', '6.', 'Karnali', 'Birendranagar', '27984', '10', '1688412', '7.', 'Sudurpaschim', 'Dhangadhi', '19915', '9', '2694783']\n",
      "List after index: ['1.', 'Taplejung', 'Fungling', '3646', '120590', '2.', 'Terhrathum', 'Myanglung', '679', '88731', '3.', 'Panchthar', 'Fidim', '1241', '172400', '4.', 'Sankhuwasabha', 'Khandbari ', '3480', '158041', '5.', 'Solukhumbu', 'Salleri', '3312', '104851', '6.', 'Bhojpur', 'Bhojpur', '1507', '157923', '7.', 'Khotang', 'Diktel', '1591', '175298', '8.', 'Ilam', 'Ilam', '1703', '279534', '9.', 'Udayapur', 'Gaighat', '2063', '340721', '10.', 'Okhaldhunga', 'Siddhicharan', '1074', '139552', '11.', 'Jhapa', 'Bhadrapur', '1606', '998054', '12.', 'Dhankuta', 'Dhankuta', '892', '150599', '13.', 'Morang', 'Biratnagar', '1855', '1148156', '14.', 'Sunsari', 'Inaruwa', '1257', '926962', '1.', 'Parsa', 'Birjung', '1353', '654471', '2.', 'Bara', 'Kalaiya', '1190', '763137', '3.', 'Rautahat', 'Gaur', '1126', '813573', '4.', 'Sarlahi', 'Malangwa', '1259', '813573', '5.', 'Mahottari', 'Jalleswor', '1002', '706994', '6.', 'Dhanusha', 'Janakpur', '1180', '867747', '7.', 'Siraha', 'Siraha', '1188', '739953', '8.', 'Saptari', 'Rajbiraj', '1363', '706255', '1.', 'Kathmandu', 'Kathmandu', '395', '2041587', '2.', 'Lalitpur', 'Lalitpur', '385', '551667', '3.', 'Bhaktapur', 'Bhaktapur', '119', '432132', '4.', 'Kavre', 'Dhulikhel', '1396', '364039', '5.', '<strong><a href=\"https://namastesindhupalchowk.com/blog/sindhupalchowk-district-profile\" data-type=\"URL\" data-id=\"https://namastesindhupalchowk.com/blog/sindhupalchowk-district-profile\">Sindhupalchowk</a></strong>', '<strong><a href=\"https://namastesindhupalchowk.com/community/place/chautara\" data-type=\"URL\" data-id=\"https://namastesindhupalchowk.com/community/place/chautara\">Chautara</a></strong>', '2542', '262624', '6.', 'Dolakha', 'Charikot', '2191', '172767', '7.', 'Dhading', 'Dhading Besi', '1926', '325710', '8.', 'Nuwakot', 'Bidur', '1121', '263391', '9.', 'Makwanpur', 'Hetauda', '2426', '466073', '10.', 'Rasuwa', 'Dhunche', '1544', '46689', '11.', 'Ramechhap', 'Manthali', '1546', '170302', '12.', 'Chitwan', 'Bharatpur', '2218', '719859', '13.', 'Sindhuli', 'Sindhulighadi', '2491', '300026', '1.', 'Kaski', 'Pokhara', '2017', '600051', '2.', 'Gorkha', 'Gorkha Bazar', '3610', '251027', '3.', 'Nawalparasi <br>(Bardaghat Susta East)', 'Kawasoti', '1043', '378079', '4.', 'Parbhat', 'Kusma', '494', '130887', '5.', 'Tanahu', 'Damauli', '1546', '321153', '6.', 'Baglung', 'Baglung', '1784', '249211', '7.', 'Myagdi', 'Beni', '2297', '107033', '8.', 'Lamjung', 'Besisahar', '1692', '155852', '9.', 'Syangja', 'Putali Bazar', '1164', '253024', '10.', 'Manang', 'Chame', '2246', '5658', '11.', 'Mustang', 'Jomsom', '3573', '14452', '1.', 'Parasi', 'Parasi', '634.88', '386868', '2.', 'Dang', 'Ghorahi', '2955', '674993', '3.', 'Gulmi', 'Tamghas', '1149', '246494', '4.', 'Kapilvastu', 'Taulihawa', '1738', '246494', '5.', 'Arghakharchi', 'Sandhikharka', '1193', '177086', '6.', 'Palpa', 'Tansen', '1373', '245027', '7.', 'Rukum East', 'Rukumkot', '1161.13', '56,786', '8.', 'Pyuthan', 'Pyuthan', '1309', '232019', '9.', 'Banke', 'Nepalgunj', '2337', '603194', '10.', 'Bardiya', 'Gulariya', '2025', '459900', '11.', 'Rupandehi', 'Sidharthanagar', '1360', '1121957', '12.', 'Rolpa', 'Liwang', '1879', '234793', '1.', 'Rukum West', 'Musikot', '1213.49', '166740', '2.', 'Mugu', 'Gamgadhi', '3535', '64549', '3.', 'Dailekh', 'Narayan', '1502', '252313', '4.', 'Dolpa', 'Dunai', '7889', '42774', '5.', 'Jumla', 'Chandannath', '2531', '118349', '6.', 'Jajarkot', 'Khalang', '2230', '189360', '7.', 'Kalikot', 'Manma', '1741', '145292', '8.', 'Salyan', 'Khalanga', '1462', '238515', '9.', 'Surkhet', 'Birendranagar', '2451', '415126', '10.', 'Humla', 'Simikot', '5655', '118349', '1.', 'Kailali', 'Dhagadhi', '3235', '904666', '2.', 'Kanchanpur', 'Mahendranagar', '1610', '513757', '3.', 'Achham', 'Mangalsen', '1680', '228852', '4.', 'Dadeldhura', 'Amargadhi', '1538', '139602', '5.', 'Doti', 'Dipayal', '2025', '204831', '6.', 'Darchula', 'Darchula', '2322', '133310', '7.', 'Bajhang', 'Chainpur', '3422', '189085', '8.', 'Bajura', 'Martadi', '2188', '138523', '9.', 'Baitadi', 'Dasarathchand', '1519', '242157', '1.', 'Udayapur', 'Gaighat', '2.', 'Sindhuli', 'Sindhuli Gadhi', '3.', 'Makawanpur', 'Hetauda', '4.', 'Chitwan', 'Bharatpur', '5.', 'Nawalpur', 'Kawasoti', '6.', 'Dang', 'Ghorahi', '7.', 'Surkhet', 'Birendranagar', '1.', 'Bhaktapur ', '119', '2.', 'Lalitpur', '385', '3.', 'Kathmandu', '395', '4.', 'Parbat', '494', '5.', 'Parasi', '634.88', '1.', 'Dolpa', '7889', '2.', 'Humla', '5655', '3.', 'Taplejung', '3646', '4.', 'Gorkha', '3610', '5.', 'Mustang', '3573', '1.', 'Kathmandu', '20,41,587', '2.', 'Morang', '11, 48,156', '3.', 'Rupendehi', '11,21,957', '4.', 'Jhapa', '9, 98,054', '5.', 'Sunsari', '9, 26,962', '1.', 'Manang', '5,658', '2.', 'Mustang', '14,452', '3.', 'Dolpa', '42,774', '4.', 'Rasuwa', '46,689', '5.', 'Humla', '55,394', 'Himal/ Mountain', '21', 'Pahad/ Hills', '28', 'Tarai', '18', 'Inner Tarai', '7', 'Upatyaka/ Valley', '3', 'Rukum East (Rukumkot) is the youngest district of Nepal. It has 1161.13 square kilometers area.  It is located in the Lumbini province of Nepal. During a Council of Ministers meeting on August 21, 2015 (5 Bhadra 2074), they decided to split the Rukum district as Rukum East &amp; Rukum West. And, Rukum East is established as a new or young district of Nepal at 2074 Ashoj 18. ', 'Bhaktapur is the smallest district of Nepal. It has 119 square kilometers of area. It lies in the Bagmati province of Nepal. This district is also known as \"NachGhan Ko Rajhdhani\". Although the area of Bhaktapur is small, there are 432132 total population.  ', 'Dolpa is the biggest district of Nepal. It has 7889 square kilometers area. It locates in Karnali province. Although the area of Dolpa is big, the pupulationof this district are 42774 according to National Census 2077 BS.', 'Nepal divided into 77 districts on August 21, 2015 (5 Bhadra 2074).', 'Taplejung &amp; Darchula are the districts of Nepal that share border with both nation India and China.', 'Sindhuli district shares its border with more district.']\n"
     ]
    }
   ],
   "source": [
    "index = 42  # Assuming you want to split at index 5 (Python indexing starts from 0)\n",
    "\n",
    "# Separate the list\n",
    "list_before_index = matches_data_all[:index]\n",
    "list_after_index = matches_data_all[index:]\n",
    "\n",
    "# Print the separated lists\n",
    "print(\"List before index:\", list_before_index)\n",
    "print(\"List after index:\", list_after_index)"
   ]
  },
  {
   "cell_type": "code",
   "execution_count": 43,
   "metadata": {},
   "outputs": [
    {
     "name": "stdout",
     "output_type": "stream",
     "text": [
      "The position of '242157' in the list is 384.\n"
     ]
    }
   ],
   "source": [
    "value_to_find = '242157'\n",
    "\n",
    "# Find position\n",
    "position = list_after_index.index(value_to_find)\n",
    "\n",
    "print(f\"The position of '{value_to_find}' in the list is {position}.\")\n",
    "\n"
   ]
  },
  {
   "cell_type": "code",
   "execution_count": 44,
   "metadata": {},
   "outputs": [
    {
     "name": "stdout",
     "output_type": "stream",
     "text": [
      "Final_List: ['1.', 'Taplejung', 'Fungling', '3646', '120590', '2.', 'Terhrathum', 'Myanglung', '679', '88731', '3.', 'Panchthar', 'Fidim', '1241', '172400', '4.', 'Sankhuwasabha', 'Khandbari ', '3480', '158041', '5.', 'Solukhumbu', 'Salleri', '3312', '104851', '6.', 'Bhojpur', 'Bhojpur', '1507', '157923', '7.', 'Khotang', 'Diktel', '1591', '175298', '8.', 'Ilam', 'Ilam', '1703', '279534', '9.', 'Udayapur', 'Gaighat', '2063', '340721', '10.', 'Okhaldhunga', 'Siddhicharan', '1074', '139552', '11.', 'Jhapa', 'Bhadrapur', '1606', '998054', '12.', 'Dhankuta', 'Dhankuta', '892', '150599', '13.', 'Morang', 'Biratnagar', '1855', '1148156', '14.', 'Sunsari', 'Inaruwa', '1257', '926962', '1.', 'Parsa', 'Birjung', '1353', '654471', '2.', 'Bara', 'Kalaiya', '1190', '763137', '3.', 'Rautahat', 'Gaur', '1126', '813573', '4.', 'Sarlahi', 'Malangwa', '1259', '813573', '5.', 'Mahottari', 'Jalleswor', '1002', '706994', '6.', 'Dhanusha', 'Janakpur', '1180', '867747', '7.', 'Siraha', 'Siraha', '1188', '739953', '8.', 'Saptari', 'Rajbiraj', '1363', '706255', '1.', 'Kathmandu', 'Kathmandu', '395', '2041587', '2.', 'Lalitpur', 'Lalitpur', '385', '551667', '3.', 'Bhaktapur', 'Bhaktapur', '119', '432132', '4.', 'Kavre', 'Dhulikhel', '1396', '364039', '5.', '<strong><a href=\"https://namastesindhupalchowk.com/blog/sindhupalchowk-district-profile\" data-type=\"URL\" data-id=\"https://namastesindhupalchowk.com/blog/sindhupalchowk-district-profile\">Sindhupalchowk</a></strong>', '<strong><a href=\"https://namastesindhupalchowk.com/community/place/chautara\" data-type=\"URL\" data-id=\"https://namastesindhupalchowk.com/community/place/chautara\">Chautara</a></strong>', '2542', '262624', '6.', 'Dolakha', 'Charikot', '2191', '172767', '7.', 'Dhading', 'Dhading Besi', '1926', '325710', '8.', 'Nuwakot', 'Bidur', '1121', '263391', '9.', 'Makwanpur', 'Hetauda', '2426', '466073', '10.', 'Rasuwa', 'Dhunche', '1544', '46689', '11.', 'Ramechhap', 'Manthali', '1546', '170302', '12.', 'Chitwan', 'Bharatpur', '2218', '719859', '13.', 'Sindhuli', 'Sindhulighadi', '2491', '300026', '1.', 'Kaski', 'Pokhara', '2017', '600051', '2.', 'Gorkha', 'Gorkha Bazar', '3610', '251027', '3.', 'Nawalparasi <br>(Bardaghat Susta East)', 'Kawasoti', '1043', '378079', '4.', 'Parbhat', 'Kusma', '494', '130887', '5.', 'Tanahu', 'Damauli', '1546', '321153', '6.', 'Baglung', 'Baglung', '1784', '249211', '7.', 'Myagdi', 'Beni', '2297', '107033', '8.', 'Lamjung', 'Besisahar', '1692', '155852', '9.', 'Syangja', 'Putali Bazar', '1164', '253024', '10.', 'Manang', 'Chame', '2246', '5658', '11.', 'Mustang', 'Jomsom', '3573', '14452', '1.', 'Parasi', 'Parasi', '634.88', '386868', '2.', 'Dang', 'Ghorahi', '2955', '674993', '3.', 'Gulmi', 'Tamghas', '1149', '246494', '4.', 'Kapilvastu', 'Taulihawa', '1738', '246494', '5.', 'Arghakharchi', 'Sandhikharka', '1193', '177086', '6.', 'Palpa', 'Tansen', '1373', '245027', '7.', 'Rukum East', 'Rukumkot', '1161.13', '56,786', '8.', 'Pyuthan', 'Pyuthan', '1309', '232019', '9.', 'Banke', 'Nepalgunj', '2337', '603194', '10.', 'Bardiya', 'Gulariya', '2025', '459900', '11.', 'Rupandehi', 'Sidharthanagar', '1360', '1121957', '12.', 'Rolpa', 'Liwang', '1879', '234793', '1.', 'Rukum West', 'Musikot', '1213.49', '166740', '2.', 'Mugu', 'Gamgadhi', '3535', '64549', '3.', 'Dailekh', 'Narayan', '1502', '252313', '4.', 'Dolpa', 'Dunai', '7889', '42774', '5.', 'Jumla', 'Chandannath', '2531', '118349', '6.', 'Jajarkot', 'Khalang', '2230', '189360', '7.', 'Kalikot', 'Manma', '1741', '145292', '8.', 'Salyan', 'Khalanga', '1462', '238515', '9.', 'Surkhet', 'Birendranagar', '2451', '415126', '10.', 'Humla', 'Simikot', '5655', '118349', '1.', 'Kailali', 'Dhagadhi', '3235', '904666', '2.', 'Kanchanpur', 'Mahendranagar', '1610', '513757', '3.', 'Achham', 'Mangalsen', '1680', '228852', '4.', 'Dadeldhura', 'Amargadhi', '1538', '139602', '5.', 'Doti', 'Dipayal', '2025', '204831', '6.', 'Darchula', 'Darchula', '2322', '133310', '7.', 'Bajhang', 'Chainpur', '3422', '189085', '8.', 'Bajura', 'Martadi', '2188', '138523', '9.', 'Baitadi', 'Dasarathchand', '1519', '242157']\n",
      "List after index: ['1.', 'Udayapur', 'Gaighat', '2.', 'Sindhuli', 'Sindhuli Gadhi', '3.', 'Makawanpur', 'Hetauda', '4.', 'Chitwan', 'Bharatpur', '5.', 'Nawalpur', 'Kawasoti', '6.', 'Dang', 'Ghorahi', '7.', 'Surkhet', 'Birendranagar', '1.', 'Bhaktapur ', '119', '2.', 'Lalitpur', '385', '3.', 'Kathmandu', '395', '4.', 'Parbat', '494', '5.', 'Parasi', '634.88', '1.', 'Dolpa', '7889', '2.', 'Humla', '5655', '3.', 'Taplejung', '3646', '4.', 'Gorkha', '3610', '5.', 'Mustang', '3573', '1.', 'Kathmandu', '20,41,587', '2.', 'Morang', '11, 48,156', '3.', 'Rupendehi', '11,21,957', '4.', 'Jhapa', '9, 98,054', '5.', 'Sunsari', '9, 26,962', '1.', 'Manang', '5,658', '2.', 'Mustang', '14,452', '3.', 'Dolpa', '42,774', '4.', 'Rasuwa', '46,689', '5.', 'Humla', '55,394', 'Himal/ Mountain', '21', 'Pahad/ Hills', '28', 'Tarai', '18', 'Inner Tarai', '7', 'Upatyaka/ Valley', '3', 'Rukum East (Rukumkot) is the youngest district of Nepal. It has 1161.13 square kilometers area.  It is located in the Lumbini province of Nepal. During a Council of Ministers meeting on August 21, 2015 (5 Bhadra 2074), they decided to split the Rukum district as Rukum East &amp; Rukum West. And, Rukum East is established as a new or young district of Nepal at 2074 Ashoj 18. ', 'Bhaktapur is the smallest district of Nepal. It has 119 square kilometers of area. It lies in the Bagmati province of Nepal. This district is also known as \"NachGhan Ko Rajhdhani\". Although the area of Bhaktapur is small, there are 432132 total population.  ', 'Dolpa is the biggest district of Nepal. It has 7889 square kilometers area. It locates in Karnali province. Although the area of Dolpa is big, the pupulationof this district are 42774 according to National Census 2077 BS.', 'Nepal divided into 77 districts on August 21, 2015 (5 Bhadra 2074).', 'Taplejung &amp; Darchula are the districts of Nepal that share border with both nation India and China.', 'Sindhuli district shares its border with more district.']\n"
     ]
    }
   ],
   "source": [
    "index = 385  # Assuming you want to split at index 5 (Python indexing starts from 0)\n",
    "\n",
    "# Separate the list\n",
    "Final_List = list_after_index[:index]\n",
    "list_after_index = list_after_index[index:]\n",
    "\n",
    "# Print the separated lists\n",
    "print(\"Final_List:\", Final_List)\n",
    "print(\"List after index:\", list_after_index)"
   ]
  },
  {
   "cell_type": "code",
   "execution_count": 45,
   "metadata": {},
   "outputs": [
    {
     "name": "stdout",
     "output_type": "stream",
     "text": [
      "S.No: ['1.', '2.', '3.', '4.', '5.', '6.', '7.', '8.', '9.', '10.', '11.', '12.', '13.', '14.', '1.', '2.', '3.', '4.', '5.', '6.', '7.', '8.', '1.', '2.', '3.', '4.', '5.', '6.', '7.', '8.', '9.', '10.', '11.', '12.', '13.', '1.', '2.', '3.', '4.', '5.', '6.', '7.', '8.', '9.', '10.', '11.', '1.', '2.', '3.', '4.', '5.', '6.', '7.', '8.', '9.', '10.', '11.', '12.', '1.', '2.', '3.', '4.', '5.', '6.', '7.', '8.', '9.', '10.', '1.', '2.', '3.', '4.', '5.', '6.', '7.', '8.', '9.']\n",
      "District: ['Taplejung', 'Terhrathum', 'Panchthar', 'Sankhuwasabha', 'Solukhumbu', 'Bhojpur', 'Khotang', 'Ilam', 'Udayapur', 'Okhaldhunga', 'Jhapa', 'Dhankuta', 'Morang', 'Sunsari', 'Parsa', 'Bara', 'Rautahat', 'Sarlahi', 'Mahottari', 'Dhanusha', 'Siraha', 'Saptari', 'Kathmandu', 'Lalitpur', 'Bhaktapur', 'Kavre', '<strong><a href=\"https://namastesindhupalchowk.com/blog/sindhupalchowk-district-profile\" data-type=\"URL\" data-id=\"https://namastesindhupalchowk.com/blog/sindhupalchowk-district-profile\">Sindhupalchowk</a></strong>', 'Dolakha', 'Dhading', 'Nuwakot', 'Makwanpur', 'Rasuwa', 'Ramechhap', 'Chitwan', 'Sindhuli', 'Kaski', 'Gorkha', 'Nawalparasi <br>(Bardaghat Susta East)', 'Parbhat', 'Tanahu', 'Baglung', 'Myagdi', 'Lamjung', 'Syangja', 'Manang', 'Mustang', 'Parasi', 'Dang', 'Gulmi', 'Kapilvastu', 'Arghakharchi', 'Palpa', 'Rukum East', 'Pyuthan', 'Banke', 'Bardiya', 'Rupandehi', 'Rolpa', 'Rukum West', 'Mugu', 'Dailekh', 'Dolpa', 'Jumla', 'Jajarkot', 'Kalikot', 'Salyan', 'Surkhet', 'Humla', 'Kailali', 'Kanchanpur', 'Achham', 'Dadeldhura', 'Doti', 'Darchula', 'Bajhang', 'Bajura', 'Baitadi']\n",
      "Headquarter: ['Fungling', 'Myanglung', 'Fidim', 'Khandbari ', 'Salleri', 'Bhojpur', 'Diktel', 'Ilam', 'Gaighat', 'Siddhicharan', 'Bhadrapur', 'Dhankuta', 'Biratnagar', 'Inaruwa', 'Birjung', 'Kalaiya', 'Gaur', 'Malangwa', 'Jalleswor', 'Janakpur', 'Siraha', 'Rajbiraj', 'Kathmandu', 'Lalitpur', 'Bhaktapur', 'Dhulikhel', '<strong><a href=\"https://namastesindhupalchowk.com/community/place/chautara\" data-type=\"URL\" data-id=\"https://namastesindhupalchowk.com/community/place/chautara\">Chautara</a></strong>', 'Charikot', 'Dhading Besi', 'Bidur', 'Hetauda', 'Dhunche', 'Manthali', 'Bharatpur', 'Sindhulighadi', 'Pokhara', 'Gorkha Bazar', 'Kawasoti', 'Kusma', 'Damauli', 'Baglung', 'Beni', 'Besisahar', 'Putali Bazar', 'Chame', 'Jomsom', 'Parasi', 'Ghorahi', 'Tamghas', 'Taulihawa', 'Sandhikharka', 'Tansen', 'Rukumkot', 'Pyuthan', 'Nepalgunj', 'Gulariya', 'Sidharthanagar', 'Liwang', 'Musikot', 'Gamgadhi', 'Narayan', 'Dunai', 'Chandannath', 'Khalang', 'Manma', 'Khalanga', 'Birendranagar', 'Simikot', 'Dhagadhi', 'Mahendranagar', 'Mangalsen', 'Amargadhi', 'Dipayal', 'Darchula', 'Chainpur', 'Martadi', 'Dasarathchand']\n",
      "Total_Area: ['3646', '679', '1241', '3480', '3312', '1507', '1591', '1703', '2063', '1074', '1606', '892', '1855', '1257', '1353', '1190', '1126', '1259', '1002', '1180', '1188', '1363', '395', '385', '119', '1396', '2542', '2191', '1926', '1121', '2426', '1544', '1546', '2218', '2491', '2017', '3610', '1043', '494', '1546', '1784', '2297', '1692', '1164', '2246', '3573', '634.88', '2955', '1149', '1738', '1193', '1373', '1161.13', '1309', '2337', '2025', '1360', '1879', '1213.49', '3535', '1502', '7889', '2531', '2230', '1741', '1462', '2451', '5655', '3235', '1610', '1680', '1538', '2025', '2322', '3422', '2188', '1519']\n",
      "Population: ['120590', '88731', '172400', '158041', '104851', '157923', '175298', '279534', '340721', '139552', '998054', '150599', '1148156', '926962', '654471', '763137', '813573', '813573', '706994', '867747', '739953', '706255', '2041587', '551667', '432132', '364039', '262624', '172767', '325710', '263391', '466073', '46689', '170302', '719859', '300026', '600051', '251027', '378079', '130887', '321153', '249211', '107033', '155852', '253024', '5658', '14452', '386868', '674993', '246494', '246494', '177086', '245027', '56,786', '232019', '603194', '459900', '1121957', '234793', '166740', '64549', '252313', '42774', '118349', '189360', '145292', '238515', '415126', '118349', '904666', '513757', '228852', '139602', '204831', '133310', '189085', '138523', '242157']\n"
     ]
    }
   ],
   "source": [
    "# Separate the list into sublists of five elements each\n",
    "sublists = [Final_List[i:i+5] for i in range(0, len(Final_List), 5)]\n",
    "\n",
    "# Extract data into separate lists\n",
    "S_No = [item[0] for item in sublists]\n",
    "District = [item[1] for item in sublists]\n",
    "Headquarter = [item[2] for item in sublists]\n",
    "Total_Area = [item[3] for item in sublists]\n",
    "Population = [item[4] for item in sublists]\n",
    "\n",
    "# Print the separated lists\n",
    "print(\"S.No:\", S_No)\n",
    "print(\"District:\", District)\n",
    "print(\"Headquarter:\", Headquarter)\n",
    "print(\"Total_Area:\", Total_Area)\n",
    "print(\"Population:\", Population)"
   ]
  },
  {
   "cell_type": "code",
   "execution_count": 46,
   "metadata": {},
   "outputs": [
    {
     "name": "stdout",
     "output_type": "stream",
     "text": [
      "Data exported to csv/nepal_data.csv\n"
     ]
    }
   ],
   "source": [
    "# Create a list of tuples containing job titles and companies\n",
    "data = list(zip(District,Headquarter,Total_Area,Population))\n",
    "import csv\n",
    "\n",
    "# Define the CSV file path\n",
    "csv_file = 'csv/nepal_data.csv'\n",
    "\n",
    "# Write the data to a CSV file\n",
    "with open(csv_file, 'w', newline='', encoding='utf-8') as file:\n",
    "    writer = csv.writer(file)\n",
    "    writer.writerow(['District','Headquarter','Total_Area','Population'])  # Write header row\n",
    "    writer.writerows(data)  # Write data rows\n",
    "\n",
    "print(f'Data exported to {csv_file}')"
   ]
  }
 ],
 "metadata": {
  "kernelspec": {
   "display_name": "base",
   "language": "python",
   "name": "python3"
  },
  "language_info": {
   "codemirror_mode": {
    "name": "ipython",
    "version": 3
   },
   "file_extension": ".py",
   "mimetype": "text/x-python",
   "name": "python",
   "nbconvert_exporter": "python",
   "pygments_lexer": "ipython3",
   "version": "3.11.7"
  }
 },
 "nbformat": 4,
 "nbformat_minor": 2
}
