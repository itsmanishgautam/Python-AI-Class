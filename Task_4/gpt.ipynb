{
 "cells": [
  {
   "cell_type": "code",
   "execution_count": 8,
   "metadata": {},
   "outputs": [
    {
     "name": "stderr",
     "output_type": "stream",
     "text": [
      "The attention mask and the pad token id were not set. As a consequence, you may observe unexpected behavior. Please pass your input's `attention_mask` to obtain reliable results.\n",
      "Setting `pad_token_id` to `eos_token_id`:50256 for open-end generation.\n"
     ]
    },
    {
     "name": "stdout",
     "output_type": "stream",
     "text": [
      "ChatGPT:  bye and bye\n",
      "ChatGPT: Goodbye!\n"
     ]
    }
   ],
   "source": [
    "from transformers import GPT2Tokenizer, GPT2LMHeadModel\n",
    "\n",
    "# Load pre-trained ChatGPT tokenizer\n",
    "tokenizer = GPT2Tokenizer.from_pretrained(\"microsoft/DialoGPT-medium\")\n",
    "\n",
    "# Load pre-trained ChatGPT model with language model head\n",
    "model = GPT2LMHeadModel.from_pretrained(\"microsoft/DialoGPT-medium\")\n",
    "\n",
    "while True:\n",
    "    # Take user input\n",
    "    user_input = input(\"You: \")\n",
    "\n",
    "    # Encode user input\n",
    "    input_ids = tokenizer.encode(user_input, return_tensors=\"pt\")\n",
    "\n",
    "    # Generate response given user input\n",
    "    output = model.generate(input_ids, max_length=50, num_return_sequences=1)\n",
    "\n",
    "    # Decode and print model response\n",
    "    response = tokenizer.decode(output[0], skip_special_tokens=True)\n",
    "    print(\"ChatGPT: \", response)\n",
    "\n",
    "    # Check if user wants to exit\n",
    "    if user_input.lower() == \"bye\":\n",
    "        print(\"ChatGPT: Goodbye!\")\n",
    "        break\n"
   ]
  }
 ],
 "metadata": {
  "kernelspec": {
   "display_name": "base",
   "language": "python",
   "name": "python3"
  },
  "language_info": {
   "codemirror_mode": {
    "name": "ipython",
    "version": 3
   },
   "file_extension": ".py",
   "mimetype": "text/x-python",
   "name": "python",
   "nbconvert_exporter": "python",
   "pygments_lexer": "ipython3",
   "version": "3.11.7"
  }
 },
 "nbformat": 4,
 "nbformat_minor": 2
}
