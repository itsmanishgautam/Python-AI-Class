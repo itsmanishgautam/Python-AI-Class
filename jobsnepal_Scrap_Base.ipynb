{
 "cells": [
  {
   "cell_type": "code",
   "execution_count": 10,
   "metadata": {},
   "outputs": [],
   "source": [
    "import re\n",
    "import urllib.request\n",
    "\n",
    "# job_titles = []\n",
    "# datacompany = []\n",
    "# locations = []\n",
    "# categories = []\n",
    "title_linkall = []\n",
    "\n",
    "\n",
    "user_agent = 'Mozilla/5.0 (Windows NT 10.0; Win64; x64) AppleWebKit/537.36 (KHTML, like Gecko) Chrome/58.0.3029.110 Safari/537.3'\n",
    "\n",
    "for page_num in range(1, 3):\n",
    "    url = f'https://www.jobsnepal.com/jobs?page={page_num}'\n",
    "\n",
    "    request = urllib.request.Request(url, headers={'User-Agent': user_agent})\n",
    "    response = urllib.request.urlopen(request)\n",
    "    html_content = response.read().decode('utf-8')\n",
    "\n",
    "    title_link = r'<h2 class=\"job-title\" title=\"([^\"]+)\">'\n",
    "    matchtitlelink = re.findall(title_link, html_content)\n",
    "    title_linkall.extend(matchtitlelink)\n",
    "    \n",
    "\n",
    "\n",
    "\n",
    "    \n",
    "\n",
    "\n",
    "\n"
   ]
  },
  {
   "cell_type": "code",
   "execution_count": 11,
   "metadata": {},
   "outputs": [
    {
     "name": "stdout",
     "output_type": "stream",
     "text": [
      "['शिलबन्दी बोलपत्र आह्वानको सूचना', 'Senior Client Servicing Representative / Client Servicing Representative', 'Field Officer - Health (MNH, SHN &amp; ARSH)', 'EOI-Consultancy Service for Geo-spatial feature digitization for Mohana and Macheli Watershed', 'Project Team Leader  for Gandaki Basin Climate Resilient Project (GBCRP) - (Full time individual consultant)', 'Request for Proposal', 'Procurement Logistics Assistant', 'Call for Applications for Consultancy Services (Individual) -  GCF Readiness Programme', 'Private Sector Business Development Analyst', 'Digital Business Optimization Consultant', 'Senior Front End Developer', 'Call for EOI to produce and supply Hygiene Behaviour Change package materials for WASH GAINS', 'Program Support Officer (PSO)', 'Expression of Interest for conduction of five days training on Comprehensive sexuality education for persons with disabilities', 'Training on Community Driven Sustainable Development (CDSD)', 'Request for Proposal', 'Enrichment Coordinator- Children Home (Re-Advertisement)', 'SALES EXECUTIVE', 'Terms of Reference (ToR) for Evidence Documentation, Knowledge Sharing, and Mass Mobilization', 'Consultancy Service for baseline evaluation of Climate Smart Village Nepal (CSVN) Project in Madhesh Province, Nepal', 'Various Positions', 'Program Lead', 'EOI आह्वान', 'Nutrition Field Officer']\n"
     ]
    }
   ],
   "source": [
    "print(title_linkall)"
   ]
  },
  {
   "cell_type": "code",
   "execution_count": null,
   "metadata": {},
   "outputs": [],
   "source": [
    "total = "
   ]
  },
  {
   "cell_type": "code",
   "execution_count": 12,
   "metadata": {},
   "outputs": [],
   "source": [
    "#     titlepattern = r'<h2 class=\"job-title\" title=\"(.*?)\">'\n",
    "#     matchtitle = re.findall(titlepattern, html_content)\n",
    "#     job_titles.extend(matchtitle)\n",
    "\n",
    "\n",
    "#     companypattern = r'<div class=\"card-inner\">.*?<a[^>]+title=\"(.*?)\"'\n",
    "#     matchcompany = re.findall(companypattern, html_content, re.DOTALL)\n",
    "#     datacompany.extend(matchcompany)\n",
    "\n",
    "\n",
    "#     locationpattern = r'<div class=\"d-flex align-items-center pl-1 pr-1 py-1\">\\s*<i class=\"icon-location4 mr-2 text-success\">\\s*</i>\\s*<div>\\s*(.*?)\\s*</div>'\n",
    "#     matchlocation = re.findall(locationpattern, html_content)\n",
    "#     locations.extend(matchlocation)\n",
    "\n",
    "\n",
    "#     categoriespattern = r'<div class=\"d-flex align-items-center pl-1 pr-1 py-1\">\\s*<i class=\"icon-price-tags mr-2 text-success icon-sm\">\\s*</i>\\s*<div>\\s*(.*?)\\s*</div>'\n",
    "#     matchcategory = re.findall(categoriespattern, html_content)\n",
    "#     categories.extend(matchcategory)"
   ]
  },
  {
   "cell_type": "code",
   "execution_count": 13,
   "metadata": {},
   "outputs": [],
   "source": [
    "\n",
    "# print(\"Job Titles:\", job_titles)\n",
    "# print(\"Company:\", datacompany)\n",
    "# print(\"Locations:\", locations)\n",
    "# print(\"Categories:\", categories)"
   ]
  }
 ],
 "metadata": {
  "kernelspec": {
   "display_name": "base",
   "language": "python",
   "name": "python3"
  },
  "language_info": {
   "codemirror_mode": {
    "name": "ipython",
    "version": 3
   },
   "file_extension": ".py",
   "mimetype": "text/x-python",
   "name": "python",
   "nbconvert_exporter": "python",
   "pygments_lexer": "ipython3",
   "version": "3.11.7"
  }
 },
 "nbformat": 4,
 "nbformat_minor": 2
}
