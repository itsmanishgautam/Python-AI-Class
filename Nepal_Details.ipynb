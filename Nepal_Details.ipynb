{
 "cells": [
  {
   "cell_type": "code",
   "execution_count": 112,
   "metadata": {},
   "outputs": [],
   "source": [
    "import re\n",
    "import urllib.request"
   ]
  },
  {
   "cell_type": "code",
   "execution_count": 113,
   "metadata": {},
   "outputs": [],
   "source": [
    "user_agent = 'Mozilla/5.0 (Windows NT 10.0; Win64; x64) AppleWebKit/537.36 (KHTML, like Gecko) Chrome/58.0.3029.110 Safari/537.3'"
   ]
  },
  {
   "cell_type": "code",
   "execution_count": 114,
   "metadata": {},
   "outputs": [],
   "source": [
    "url = 'https://en.wikipedia.org/wiki/List_of_districts_of_Nepal'\n",
    "request = urllib.request.Request(url, headers={'User-Agent': user_agent})\n",
    "response = urllib.request.urlopen(request)\n",
    "html_content = response.read().decode('utf-8')"
   ]
  },
  {
   "cell_type": "code",
   "execution_count": 115,
   "metadata": {},
   "outputs": [],
   "source": [
    "# print(html_content)"
   ]
  },
  {
   "cell_type": "code",
   "execution_count": 116,
   "metadata": {},
   "outputs": [
    {
     "name": "stdout",
     "output_type": "stream",
     "text": [
      "No matches found.\n"
     ]
    }
   ],
   "source": [
    "# Pattern to extract all information from each row\n",
    "pattern = r'<tr>\\s*<td><a href=\"/wiki/[^\"]+\" title=\"[^\"]+\">([^<]+)</a></td>\\s*<td><a href=\"/wiki/[^\"]+\" title=\"[^\"]+\">([^<]+)</a></td>\\s*<td>([^<]+)</td>\\s*<td>([^<]+)</td>\\s*<td>([^<]+)</td>\\s*<td>([^<]+)</td>\\s*<td>(.*?)\\s*</td>\\s*</tr>'\n",
    "matches = re.findall(pattern, html_content)\n",
    "\n",
    "if matches:\n",
    "    for match in matches:\n",
    "        province, capital, districts, area, population, density, languages = match\n",
    "        print(\"Province:\", province)\n",
    "        print(\"Capital:\", capital)\n",
    "        print(\"Number of Districts:\", districts)\n",
    "        print(\"Area (KM^2):\", area)\n",
    "        print(\"Population:\", population)\n",
    "        print(\"Density (people/KM^2):\", density)\n",
    "        print(\"Major Languages:\", languages)\n",
    "        print()\n",
    "else:\n",
    "    print(\"No matches found.\")"
   ]
  },
  {
   "cell_type": "code",
   "execution_count": 117,
   "metadata": {},
   "outputs": [
    {
     "name": "stdout",
     "output_type": "stream",
     "text": [
      "[('Koshi Province', 'Biratnagar'), ('Madhesh Province', 'Janakpur'), ('Bagmati Province', 'Hetauda'), ('Gandaki Province', 'Pokhara'), ('Lumbini Province', 'Butwal'), ('Karnali Province', 'Birendranagar'), ('Sudurpashchim Province', 'Godawari')]\n"
     ]
    }
   ],
   "source": [
    "province_pattern = r'<td><a href=\"/wiki/[^\"]+\" title=\"[^\"]+\">([^<]+)</a></td>\\s*<td><a href=\"/wiki/[^\"]+\" title=\"[^\"]+\">([^<]+)</a></td>'\n",
    "province_matches = re.findall(province_pattern, html_content)\n",
    "print(province_matches)\n"
   ]
  },
  {
   "cell_type": "code",
   "execution_count": 118,
   "metadata": {},
   "outputs": [
    {
     "name": "stdout",
     "output_type": "stream",
     "text": [
      "[('Madhesh Province', 'Janakpur', '8', '9,661&#160;km<sup>2</sup>', '6,114,600', '632.92'), ('Bagmati Province', 'Hetauda', '13', '20,300&#160;km<sup>2</sup>', '6,116,866', '301.32'), ('Gandaki Province', 'Pokhara', '11', '21,793&#160;km<sup>2</sup>', '2,466,427', '113.18'), ('Lumbini Province', 'Butwal', '12', '19,271&#160;km<sup>2</sup>', '5,122,078', '265.79'), ('Karnali Province', 'Birendranagar', '10', '30,712&#160;km<sup>2</sup>', '1,688,412', '54.97'), ('Sudurpashchim Province', 'Godawari', '9', '19,539&#160;km<sup>2</sup>', '2,694,783', '137.92')]\n"
     ]
    }
   ],
   "source": [
    "province_pattern = r'<td><a href=\"/wiki/[^\"]+\" title=\"[^\"]+\">([^<]+)</a></td>\\s*<td><a href=\"/wiki/[^\"]+\" title=\"[^\"]+\">([^<]+)</a></td>\\s*<td>(.*?)<\\/td>\\s*<td>(.*?)<\\/td>\\s*<td>(.*?)<\\/td>\\s*<td>(.*?)<\\/td>'\n",
    "province_matches = re.findall(province_pattern, html_content)\n",
    "print(province_matches)"
   ]
  }
 ],
 "metadata": {
  "kernelspec": {
   "display_name": "base",
   "language": "python",
   "name": "python3"
  },
  "language_info": {
   "codemirror_mode": {
    "name": "ipython",
    "version": 3
   },
   "file_extension": ".py",
   "mimetype": "text/x-python",
   "name": "python",
   "nbconvert_exporter": "python",
   "pygments_lexer": "ipython3",
   "version": "3.11.7"
  }
 },
 "nbformat": 4,
 "nbformat_minor": 2
}
