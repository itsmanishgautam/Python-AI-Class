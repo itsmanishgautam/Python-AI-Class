{
 "cells": [
  {
   "cell_type": "code",
   "execution_count": 1,
   "metadata": {},
   "outputs": [],
   "source": [
    "import re\n",
    "import urllib.request"
   ]
  },
  {
   "cell_type": "code",
   "execution_count": 2,
   "metadata": {},
   "outputs": [],
   "source": [
    "user_agent = 'Mozilla/5.0 (Windows NT 10.0; Win64; x64) AppleWebKit/537.36 (KHTML, like Gecko) Chrome/58.0.3029.110 Safari/537.3'"
   ]
  },
  {
   "cell_type": "code",
   "execution_count": 3,
   "metadata": {},
   "outputs": [],
   "source": [
    "url ='https://bankbyaj.com/deposite'\n",
    "request = urllib.request.Request(url, headers={'User-Agent': user_agent})\n",
    "response = urllib.request.urlopen(request)\n",
    "html_content = response.read().decode('utf-8')"
   ]
  },
  {
   "cell_type": "code",
   "execution_count": 4,
   "metadata": {},
   "outputs": [],
   "source": [
    "# print(html_content)"
   ]
  },
  {
   "cell_type": "code",
   "execution_count": 5,
   "metadata": {},
   "outputs": [
    {
     "name": "stdout",
     "output_type": "stream",
     "text": [
      "['Nepal Bank Ltd.', 'Rastriya Banijya Bank', 'Nabil Bank', 'Nepal Investment Mega Bank', 'Standard Chartered Bank', 'Himalayan Bank', 'Nepal SBI Bank', 'Everest Bank', 'NIC ASIA Bank', 'Machhapuchhre Bank', 'Kumari Bank', 'Laxmi Sunrise', 'Siddhartha Bank', 'Agriculture Dev. Bank', 'Global IME Bank', \"Citizens Bank Int'l\", 'Prime Commercial Bank', 'NMB Bank', 'Prabhu Bank', 'Sanima Bank', 'Narayani Bikas Bank', 'Karnali Bikas Bank', 'Excel Bikas Bank', 'Miteri Bikas Bank', 'Muktinath Bikas Bank', 'Corporate Bikas Bank', 'Sindhu Bikas Bank', 'Green Dev. Bank', 'Shangrila Bikas Bank', 'Shine Resunga BB', 'Jyoti Bikas Bank', 'Garima Bikas Bank', 'Mahalaxmi Bikas Bank', 'Lumbini Bikas Bank', 'Kamana Sewa B.Bank', 'Saptakoshi Bikas Bank', 'Gurkhas Finance Ltd', 'Goodwill Finance Co.', 'Shree Invest &amp;Finance', 'Nepal Finance Co.', 'Best Finance Co.', 'Progressive Fin. Co.', 'Janaki Finance Co.', 'Pokhara Finance', 'Central Finance Ltd', 'Multipurpose Finance', 'Samriddhi Finance Co.', 'Guheshwori Finance', 'ICFC Finance Ltd', 'Manjushree Finance', 'Reliance Finance Ltd.', 'Salapa Bikas Bank']\n"
     ]
    }
   ],
   "source": [
    "bank_name_pattern = r'<h3[^>]*>[^<]*<\\/h3><span[^>]*>([^<]*)<\\/span>'\n",
    "Bank_name=re.findall(bank_name_pattern,html_content)\n",
    "print(Bank_name)"
   ]
  },
  {
   "cell_type": "code",
   "execution_count": 6,
   "metadata": {},
   "outputs": [
    {
     "name": "stdout",
     "output_type": "stream",
     "text": [
      "52\n"
     ]
    }
   ],
   "source": [
    "print(len(Bank_name))"
   ]
  },
  {
   "cell_type": "code",
   "execution_count": 7,
   "metadata": {},
   "outputs": [
    {
     "name": "stdout",
     "output_type": "stream",
     "text": [
      "[('5.40%', '6.75%'), ('4.85%', '6.55%'), ('5.50%', '7.25%'), ('4.50%', '7.00%'), ('4.55%', '7.00%'), ('5.50%', '7.50%'), ('4.10%', '6.53%'), ('5.00%', '7.00%'), ('3.65%', '7.75%'), ('5.30%', '7.25%'), ('5.76%', '7.26%'), ('5.25%', '7.00%'), ('5.50%', '7.25%'), ('4.76%', '5.666%'), ('4.50%', '7.00%'), ('5.50%', '7.50%'), ('5.25%', '7.10%'), ('5.00%', '7.97%'), ('6.00%', '7.50%'), ('5.30%', '7.10%'), ('6.50%', '9.50%'), ('5.00%', '9.00%'), ('5.50%', '8.25%'), ('6.00%', '8.50%'), ('5.50%', '7.75%'), ('7.50%', '9.00%'), ('5.51%', '8.01%'), ('5.75%', '8.75%'), ('4.00%', '7.75%'), ('5.05%', '7.75%'), ('5.00%', '7.75%'), ('5.05%', '7.75%'), ('6.50%', '7.75%'), ('5.25%', '7.75%'), ('6.75%', '8.00%'), ('6.05%', '8.50%'), ('6.50%', '8.75%'), ('--', '8.10%'), ('6.75%', '8.30%'), ('--', '9.00%'), ('7.25%', '9.25%'), ('7.75%', '9.00%'), ('0.00%', '8.75%'), ('5.75%', '8.01%'), ('0.00%', '9.00%'), ('6.50%', '8.75%'), ('6.35%', '9.25%'), ('6.50%', '8.75%'), ('5.50%', '8.01%'), ('6.25%', '9.00%'), ('7.00%', '9.00%'), ('4.73%', '8.50%')]\n",
      "Savings Deposit Rates: ['5.40%', '4.85%', '5.50%', '4.50%', '4.55%', '5.50%', '4.10%', '5.00%', '3.65%', '5.30%', '5.76%', '5.25%', '5.50%', '4.76%', '4.50%', '5.50%', '5.25%', '5.00%', '6.00%', '5.30%', '6.50%', '5.00%', '5.50%', '6.00%', '5.50%', '7.50%', '5.51%', '5.75%', '4.00%', '5.05%', '5.00%', '5.05%', '6.50%', '5.25%', '6.75%', '6.05%', '6.50%', '--', '6.75%', '--', '7.25%', '7.75%', '0.00%', '5.75%', '0.00%', '6.50%', '6.35%', '6.50%', '5.50%', '6.25%', '7.00%', '4.73%']\n",
      "Fixed Deposit Rates: ['6.75%', '6.55%', '7.25%', '7.00%', '7.00%', '7.50%', '6.53%', '7.00%', '7.75%', '7.25%', '7.26%', '7.00%', '7.25%', '5.666%', '7.00%', '7.50%', '7.10%', '7.97%', '7.50%', '7.10%', '9.50%', '9.00%', '8.25%', '8.50%', '7.75%', '9.00%', '8.01%', '8.75%', '7.75%', '7.75%', '7.75%', '7.75%', '7.75%', '7.75%', '8.00%', '8.50%', '8.75%', '8.10%', '8.30%', '9.00%', '9.25%', '9.00%', '8.75%', '8.01%', '9.00%', '8.75%', '9.25%', '8.75%', '8.01%', '9.00%', '9.00%', '8.50%']\n"
     ]
    }
   ],
   "source": [
    "# Account_Intrest_Pattern = r'<h3[^>]*>(\\d+\\.\\d+%?)<\\/h3>'\n",
    "Account_Intrest_Pattern = r'<td _ngcontent-sc20=\"\"><h3 _ngcontent-sc20=\"\">(.*?)</h3></td><td _ngcontent-sc20=\"\"><h3 _ngcontent-sc20=\"\">(.*?)</h3></td>'\n",
    "Account_Data = re.findall(Account_Intrest_Pattern, html_content)\n",
    "print(Account_Data)\n",
    "\n",
    "Savings_Deposit =[item[0] for item in Account_Data]\n",
    "Fixed_Deposit = [item[1] for item in Account_Data]\n",
    "\n",
    "print(\"Savings Deposit Rates:\", Savings_Deposit)\n",
    "print(\"Fixed Deposit Rates:\", Fixed_Deposit)"
   ]
  },
  {
   "cell_type": "code",
   "execution_count": 8,
   "metadata": {},
   "outputs": [
    {
     "name": "stdout",
     "output_type": "stream",
     "text": [
      "Data exported to csv/bank_interest.csv\n"
     ]
    }
   ],
   "source": [
    "# Create a list of tuples containing job titles and companies\n",
    "data = list(zip(Bank_name,Savings_Deposit,Fixed_Deposit))\n",
    "import csv\n",
    "\n",
    "# Define the CSV file path\n",
    "csv_file = 'csv/bank_interest.csv'\n",
    "\n",
    "# Write the data to a CSV file\n",
    "with open(csv_file, 'w', newline='', encoding='utf-8') as file:\n",
    "    writer = csv.writer(file)\n",
    "    writer.writerow(['Bank_Name','Savings_Rate','Fixed_Rate'])  # Write header row\n",
    "    writer.writerows(data)  # Write data rows\n",
    "\n",
    "print(f'Data exported to {csv_file}')"
   ]
  }
 ],
 "metadata": {
  "kernelspec": {
   "display_name": "base",
   "language": "python",
   "name": "python3"
  },
  "language_info": {
   "codemirror_mode": {
    "name": "ipython",
    "version": 3
   },
   "file_extension": ".py",
   "mimetype": "text/x-python",
   "name": "python",
   "nbconvert_exporter": "python",
   "pygments_lexer": "ipython3",
   "version": "3.11.7"
  }
 },
 "nbformat": 4,
 "nbformat_minor": 2
}
