{
 "cells": [
  {
   "cell_type": "code",
   "execution_count": 1,
   "metadata": {},
   "outputs": [
    {
     "name": "stdout",
     "output_type": "stream",
     "text": [
      "Job Titles: ['Crew Member (All-rounder)', 'Project Officer', 'Finance Officer', 'Senior PHP Developer', 'Vacancy Announcement for Various Positions', 'PROJECT MANAGER', 'Terms of Reference (TOR) for Establishing water quality testing mini-laboratories', 'Request for Quotation (RFQ) For the selection of supplier/registered companies for Installation of Bio-Sand Filter In Ekdara Rural Municipality and Samsi Rural Municipality -Mahottari', 'Vacancy Announcement for the Post of Admin Finance Officer', 'Request for Proposal-Scoping Study, Development, and Implementation of Local Insurance Products for Water Supply and Sanitation Infrastructure', 'Research Associate', 'EXPRESSION OF INTEREST (EOI) AND QUOTATION  For Procuring Stationery Materials, School Bags and Uniform Under SIKAI Project', 'Invitation for Bids', 'Program Officer /  Finance and Admin Officer', 'Call for Expression of Interest (EOI)', 'Head of Finance and Operations', 'Vacancy Announcement for Various Positions', 'Procurement Notice - Road Safety Expert/Team Leader:', 'Procurement Notice - Legal Expert', 'Research Assistant', 'Procurement Notice - Mechanical Engineer', 'Procurement Notice - GESI Specialist', 'Terms of Reference (TOR) of Consultant: School Construction Engineer', 'Various Positions', 'Invitation to sealed Tender For Long Term Service Agreement for Hotel Services and Vehicle Hiring Services', 'REQUEST FOR PROPOSAL – Curriculum Development Specialist', 'Terms of Reference for Development of a Public Service Announcement (PSA) Video', 'Program Officer -Kathmandu Program', 'Vacancy Announcement of Driver', 'Program Officer -Kavre Program', 'Associate Scientist', 'REQUEST FOR QUOTATION', 'प्रस्ताव पत्र आह्वान', 'Call for Expression of Interest (EOI) for Consultant Roster', 'Project Coordinator', 'Expression of Interest (EOI)', 'Program Officer/ Community Facilitator/ Community Facilitator', 'बोलपत्र/दरभाऊ प्रस्ताव आह्वानको सूचना', 'TORs Project accounting and Reporting Module', 'ToR for Internal Control audit module', 'INVITATION FOR SEALED QUOTATION FOR OPC Cement/43 Grade', 'INVITATION FOR SEALED QUOTATION FOR SUBMERSIBLE PUMP &amp; ACCESSORIES', 'Various Positions', 'Customer Support&#039;s Shift Senior', 'कृषि प्राविधिक', 'कर्मचारी आवश्यकता सम्बन्धी सुचना', 'Call for Expression of Interest (EOI)', 'Terms of Reference for an Invitation to Sealed Bid', 'दरभाउ पेश गर्ने सम्बन्धि सूचना', 'SENIOR  QA ENGINEER(Automation) On Site Work', 'Database Administrator (Office based)', 'Agriculture Technician/JTA', 'REQUEST FOR PROPOSAL', 'परियोजना संयोजक (Project Coordinator)', 'सूची दर्ता गर्ने बारेको सूचना ।', 'Vacancy Announcement for Multiple Positions', 'Grants and Procurement Specialist', 'Assistant Music Teacher / Graphic Designer / Car Driver', 'डिजिटल पुस्तकालय स्थापना तथा सूचना र सञ्चार प्रविधि (ICT) सम्बन्धी तालिमको लागि सिलबन्दी दरभाउ आह्वान', 'Software Developer Dot Net (Mid)', 'Project Officer', 'Dental Hygienist / Staff Nurse / Pharmacy Assistant', 'REQUEST FOR PROPOSAL (RFP)', 'Finance Officer / Field Assistant', 'Travel sales agent', 'Call for Nominations: Stella Tamang Peace Innovations Award 2024 | स्टेला तामाङ शान्ति सम्मान २०२४ को लागि मनोनयन आह्वान', 'Call for Expression of Interest for the Province- Level Research on Access to Justice for Women with Disabilities', 'Youtube Live Co-Host', 'Project Officer', 'ARH GESI Officer (महिला मात्र)', 'Laravel Developer', 'SENIOR SALES AND MARKETING EXECUTIVE', 'GRAPHIC DESIGNER', 'Outbound Sales Assistant', 'Tour Company Manager With IT SKILLS.', 'Monitoring Documentation and Reporting Officer (MDRO)', 'Project Manager &amp; Project Officers', 'Invitation to Bid for Annual Health Package and Group Medical and Personal Accidental Insurance Services', 'Request for Proposal (RFP): Research on Landscape Analysis of Urbanization in Nepal Or Scoping Study for Urban Programming', 'Invitation to the Proposal for Content Review of “Meri Sangini” Mobile Application', 'Various Positions', 'शिलबन्दी बोलपत्र आह्वानको सूचना (Dairy Equipment)', 'Programme Officer', 'Assessment and Design Specialist / Finance and Admin Coordinator', 'Marketing Executives', 'Tender Notice/ Request for Quotation (RFQ)', 'Research and Data Quality Officer', 'REQUEST FOR APPLICATION (RFA): Barefoot Research Activities', 'Finance Coordinator based in Kathmandu', 'Call for Expression of Interest (EOI)', 'Water Supply Engineer', 'Terms of Reference (ToR) For Market Assessment to explore Non-traditional Enterprise Opportunities and Business Model Development for the identified key enterprises for Marginalized Youths', 'Request for Proposal-Annual Monitoring Survey 2024', 'Research Assistant', 'Software Engineer – Salesforce Developer', 'Expression of Interest (EOI) for Statutory Audit', 'Node JS/React JS Developers', 'Request for Quotation for “Hotel Accommodation” (National Staffs)', 'Business Development Officer', 'National Programme Officer - Federal State Building', 'USAID/Nepal GESI and Qualitative Research Specialist', 'USAID/Nepal Seed and Fertilizer Final Performance Evaluation - Evaluation Specialist', 'Institutional Funding Manager', 'USAID/Nepal Seed and Fertilizer Final Performance Evaluation Agricultural Market System Expert (Senior)', 'Senior Java Developer', 'Ruby Developer', 'Product Officer and Operation Officer For Bijuli Power', 'Product Lead For Bijuli Power and Product Officer For Krishala Product', 'Sales and Marketing Manager', 'कम्प्यूटर ल्यावको लागि फर्निचर सामाग्रीहरूको दरभाउ पत्र आह्वान सम्बन्धि सूचना', 'Various Position (Project Manager; Monitoring, Evaluation and Learning Officer, District Project Coordinator and Technical Associate)', 'Math Article Writers Wanted', 'Energy Advisor (For Dhangadhi)', 'Energy Advisor (For Dang or Surkhet)', 'Customer Success Executive', 'Software Engineer - Java / Java Developer', 'Request for Proposal for Cleaning Services', 'Request for Quotation', 'IT Service', 'Technical Coordinator, Anticipatory Action (Open to Nepali nationals only)', 'Engineering Manager (Technical Manager - Full Stack Java/.Net)', 'कृषि सेवा प्राविधिक / पशु सेवा प्राविधिक', 'Java Programmer', 'Shift Incharge/Engineer/Plant Operator/Headworks Gate Operator', 'Affiliate Manager (English + Nepali) (+Hindi/ Urdu/ Bengali optional)', 'Program Officer (Data For Development)', 'Dot Net Developer ( Data )', 'सूची दर्ता सम्बन्धी सूचना', '.NET Blazor Developer', 'Flutter Developer (Entry / Mid Level)', 'ASP .Net Developer (Entry/ Mid/ Senior Level Developer)', 'Taxation Officer', 'Associate Scrum Master', 'Operation Manager', 'EOI for Audit', 'Business Development Associate', 'Receptionist', 'Gynecologist and Pharmacy assistant', 'PHP Laravel Developer', 'Request for Concept Notes']\n",
      "Company: ['JobsNepal.com Direct Recruitment Service', 'Hilly Region Development Campaign (HRDC), Jajarkot', 'Centre for Mental Health &amp; Counselling Nepal', 'GreenCodes Nepal', 'Women&#039;s Rehabilitation Centre (WOREC)', 'Mercy Corps', 'Rural Reconstruction Nepal', 'Dalit Society Welfare Committee Nepal', 'SabalNepal', 'USAID Karnali Water Activity', 'SW Nepal Pvt Ltd', 'VSO Nepal', 'Lumbini Integrated Development Organization', 'Sancharika Samuha Nepal', 'Yuwalaya', 'Renewable World', 'Community Development Centre (CDC)', 'UNDP', 'UNDP', 'CREHPA', 'UNDP', 'UNDP', 'Street Child of Nepal', 'CRS Nepal', 'ADRA Nepal', 'MinErgy Private Limited', 'Center for Dalit Women Nepal', 'MDM France', 'CARE Nepal', 'MDM France', 'Possible', 'Save the Children', 'Sahayogi Samaj Nepal', 'Heifer International Nepal', 'UN Nepal Gorkha', 'Deloitte', 'SOSEC Nepal', 'AMDA Nepal', 'Deloitte Consulting Overseas Projects LLC', 'Deloitte Consulting Overseas Projects LLC', 'Nepal Water for Health (NEWAH)', 'Nepal Water for Health (NEWAH)', 'Brand AD Pvt Ltd', 'Insolutions', 'Action Nepal ', 'Centre for Mental Health &amp; Counselling Nepal', 'FEDERATION OF HANDICRAFT ASSOCIATIONS OF NEPAL', 'Center for Dalit Women Nepal', 'Rural Community Development Center (RCDC) Besishahar', 'GrowByData Services Pvt. Ltd.', 'Sundar Nepal Sanstha (BNA), surkhet', 'SAHAMATI', 'Street Child of Nepal', 'Mountain Social welfare Center(MSWC)', 'Nepal Water for Health (NEWAH)', 'HERD International', 'USAID Tayar Nepal', 'Shanti Business Academy Pvt.Ltd', 'Autism Care Chitwan Society', 'CodeBee Nepal Pvt. Ltd.(Sister Concern Of WallBee APS)', 'Heifer Project Nepal', 'Human Development and Community Services (HDCS)', 'Rural Women&#039;s Development and Unity Centre (RUWDUC)', 'Astha Nepal', 'Westshore travels Pvt Ltd', 'Nepal Forum for Restorative Justice (NFRJ)', 'Access Planet Organization', 'Zerry Entertainment', 'CRS Nepal', 'Social Awareness Center SAC Nepal', 'Cyberlink Pvt. Ltd.', 'Gurkha Watch and Accessories', 'Gurkha Watch and Accessories', 'Fishtail Tours &amp; Travels Pvt Ltd', 'Admire Nepal Tours &amp; Trek', 'Forum for Rural Welfare and Agricultural Reform for Development (FORWARD) Nepal', 'One Heart Worldwide', 'Good Neighbors International', 'World Vision International Nepal', 'Nepal CRS Company', 'Interactive Computer Systems p. ltd.', 'Forum for Rural Welfare and Agricultural Reform for Development (FORWARD) Nepal', '\\ufeff\\ufeff\\ufeff\\ufeff\\ufeff\\ufeffCBM Global Nepal Country Office', 'World Vision International Nepal', 'Bela Nepal Industries', 'HURENDEC', 'USAID Karnali Water Activity', 'The Asia Foundation', 'People in  Need', 'Youth Alliance for Development', 'Civil Tech Pvt. Ltd.', 'FCA', 'USAID Karnali Water Activity', 'Practical Action Consulting', 'ComplianceQuest Nepal Pvt Ltd', 'dZi Foundation', 'Evolve', 'USAID Biodiversity (Jal Jangal)', 'Mandala Agrifresh Pvt Ltd', 'Embassy of Switzerland in Nepal', 'Bixal', 'Bixal', '\\ufeff\\ufeff\\ufeff\\ufeff\\ufeff\\ufeffCBM Global Nepal Country Office', 'Bixal', 'Verisk Nepal Pvt. Ltd.', 'Verisk Nepal Pvt. Ltd.', 'Aloi Private Limited', 'Aloi Private Limited', 'Aloi Private Limited', 'Progressive Youth Society, Chainpur Bajhang', 'Integrated Development Society-Nepal (IDS-Nepal)', 'AIM Math- Nepal', 'SNV Nepal', 'SNV Nepal', 'Evolve', 'Code Fusion Technologies Pvt. Ltd.', 'Deloitte', 'MinErgy Private Limited', 'Deloitte', 'International Federation of Red Cross and Red Crescent Societies (IFRC)', 'Verisk Nepal Pvt. Ltd.', 'NABIC - Nepal Agribusiness Innovation Centre', 'Nepcert Pvt Ltd', 'Reputed Hydropower Company in Myagdi', 'Insolutions', 'NAXA', 'Verisk Nepal Pvt. Ltd.', 'FEDERATION OF HANDICRAFT ASSOCIATIONS OF NEPAL', 'Uranus Tech Nepal Pvt Ltd', 'Uranus Tech Nepal Pvt Ltd', 'Uranus Tech Nepal Pvt Ltd', 'JobsNepal.com Direct Recruitment Service', 'ComplianceQuest Nepal Pvt Ltd', 'Women&#039;s Rehabilitation Centre (WOREC)', 'Renewable World', 'Talent Connects', 'JAYA SAIBABA SURGICAL HOUSE PVT.LTD', 'Siddhi M. Foundation / Siddhi M. Hospital', 'Forward Technology Pvt Ltd', 'Winrock International (Feed the Future Nepal USAID Agricultural Inputs)']\n",
      "Locations: ['Kathmandu', 'Jajarkot', 'Birendranagar Surkhet', 'Kathmandu', 'Kathmandu, Dhanusha, Kailali, Dang, Sarlahi, Rukum, Mahottari', 'Lalitpur', 'Kathmandu', 'Mohattari', 'Terai Region', 'Kathmandu', 'Kathmandu', 'Lalitpur', 'Kapilvastu', 'Lalitpur', 'Lalitpur', 'Kathmandu', 'Dhangadhi', 'Kathmandu', 'Kathmandu', 'Dhanusha, Sarlahi', 'Kathmandu', 'Kathmandu', 'Jajarkot', 'Kathmandu, Rukum West, Jajarkot', 'Lalitpur', 'Lalitpur', 'Kathmandu', 'Kathmandu', 'Kathmandu', 'Kavre', 'Kathmandu', 'Kathmandu', 'Sarlahi', 'Lalitpur', 'Gorkha', 'Kathmandu, Bhaktapur, Lalitpur, Kavre', 'Dailekh', 'Kathmandu', 'Kathmandu', 'Kathmandu', 'Sindhuli', 'Sindhuli', 'Kathmandu', 'Kathmandu, Bhaktapur, Lalitpur, Pokhara, Other - Specify, Terai Region, Eastern Region, Western Region, Far-Western Region, Damak, Kavre, Mahendra Nagar', 'Dhading', 'Dhanusha', 'Kathmandu', 'Kathmandu', 'Lamjung', 'Lalitpur', 'Surkhet', 'Lalitpur, Surkhet', 'Manthali, Ramechhap', 'Baglung', 'Lalitpur', 'Kathmandu', 'Lalitpur', 'Chitwan', 'Kathmandu', 'Lalitpur', 'Lamjung', 'Dadeldhura', 'Dadeldhura, Doti, Achham', 'Lalitpur', 'Bhaktapur', 'Kathmandu', 'Lalitpur', 'Birendranagar Surkhet', 'Kathmandu', 'Kathmandu', 'Kathmandu', 'Kathmandu', 'Kathmandu', 'Kapilvastu', 'Kathmandu, Janakpur, Surkhet', 'Lalitpur', 'Lalitpur', 'Kathmandu', 'Kathmandu', 'Chitwan, bharatpur', 'Surkhet', 'Dhangadhi, Banke', 'Kathmandu', 'Kalikot', 'Kathmandu', 'Lumbini Province', 'Kailali', 'Kathmandu', 'Madhesh Province, Sudurpashchim Province', 'Kathmandu', 'Kathmandu', 'Lalitpur', 'Kathmandu', 'Kathmandu, Pokhara', 'Lalitpur', 'Kathmandu', 'Kathmandu', 'Kathmandu', 'Kathmandu', 'Kathmandu', 'Kathmandu', 'Kathmandu, Bhaktapur, Lalitpur', 'Kathmandu, Bhaktapur, Lalitpur', 'Kathmandu, Bhaktapur, Lalitpur', 'Bajhang', 'Far-Western Region', 'Kathmandu', 'Dhangadhi', 'Surkhet, Dang, Lumbini Province', 'Kathmandu', 'Kathmandu', 'Kathmandu', 'Lalitpur', 'Kathmandu', 'Kathmandu', 'Kathmandu', 'Rasuwa', 'Myagdi District', 'Kathmandu, Bhaktapur, Lalitpur, Pokhara, Terai Region, Eastern Region, Western Region, Far-Western Region, Damak, Kavre, Mahendra Nagar', 'Kathmandu', 'Kathmandu', 'New Baneshwor, Kathmandu', 'Kathmandu, New Baneshwor, Kathmandu', 'Kathmandu', 'Kathmandu', 'Lalitpur', 'Lalitpur', 'Kathmandu', 'Bhaktapur', 'Kathmandu', 'Kathmandu']\n",
      "Categories: ['Hospitality / Hotel', 'Development and Project, NGO/INGO/Social work, Agriculture/Livelihood', '', 'Information Technology, Web Designing &amp; Programming, Engineering - Software, Computer - Programming, Web Development, Web Design, Web Designing and Programming, Core PHP Developer', 'Development and Project, Counseling / PsychoSocial, Development / NGO', 'Development / INGO', 'Development and Project, Expression of Interests, Tender Notice, Bid, Development / NGO', 'Development and Project, Expression of Interests, Tender Notice, Bid', 'Administrative / Management', 'Development and Project, Development / NGO', 'Development and Project, Research, Business Development', 'Development and Project, Expression of Interests, Tender Notice, Bid', 'Development and Project, Expression of Interests, Tender Notice, Bid', 'Accounting and Finance, Social Science, Development and Project, Finance &amp; Administration', 'Development and Project, Expression of Interests, Tender Notice, Bid', 'Accounting and Finance, Development / INGO', 'Accounting and Finance, Development and Project, Finance &amp; Administration, NGO/INGO/Social work', 'Transportation, Engineering - Civil, Development and Project', 'Legal, Development and Project, law', 'Development and Project, Research, Development / NGO', 'Engineering - Mechanical, Development and Project', 'Public Health, Social Science, Development and Project', 'Engineering - Civil, Development and Project', 'Engineering - Environment, Development and Project', 'Hotel / Resort Business, Development and Project, Expression of Interests, Tender Notice, Bid', 'Expression of Interests, Tender Notice, Bid, Development / NGO', 'Development and Project, Expression of Interests, Tender Notice, Bid, Development / NGO', 'Development and Project, Development / INGO', 'Development / NGO, Driver', 'Development and Project, Development / INGO', 'Development and Project, Development / NGO', 'Expression of Interests, Tender Notice, Bid, Development studies, Management', 'Development and Project, Development / NGO', 'Expression of Interests, Tender Notice, Bid', 'Development and Project, Development / NGO', 'Hotel / Resort Business, Development and Project, Expression of Interests, Tender Notice, Bid', 'Development and Project, NGO/INGO/Social work', 'Development / Administrative, Expression of Interests, Tender Notice, Bid', 'Development and Project, Expression of Interests, Tender Notice, Bid', 'Development / Administrative, Expression of Interests, Tender Notice, Bid, Auditing', 'Development and Project, Expression of Interests, Tender Notice, Bid', 'Development and Project, Expression of Interests, Tender Notice, Bid', 'Graphic Design, Engineering - Software, Marketing, Internet Marketing', 'Administrative / Management, Abroad Employment, Customer Service, Internet Marketing, Communication, Client Servicing Manager', 'Agriculture, Development and Project', 'Counseling / PsychoSocial', 'Development and Project, Expression of Interests, Tender Notice, Bid', 'Development and Project, Expression of Interests, Tender Notice, Bid', 'Development and Project', 'Engineering - Software, Software Development', 'Information Technology, Development and Project, Database administrator', 'Development and Project, Agriculture/Livelihood', 'Development and Project, Expression of Interests, Tender Notice, Bid', 'Agriculture + Livestock, Development and Project, Development / NGO', 'Development and Project, Expression of Interests, Tender Notice, Bid, Development / NGO', 'Information Technology, Development and Project', 'Development and Project, Development / INGO', 'Graphic Design, Teachers, Driver, Music Teacher', 'Development and Project, Expression of Interests, Tender Notice, Bid', 'Engineering - Software, Software Development', 'Development and Project, Development / INGO', 'Medical / Nursing, Development / NGO, Pharmacist', 'Development and Project, Expression of Interests, Tender Notice, Bid', 'Accounting and Finance, Development and Project, Finance &amp; Administration', 'Travel &amp; Ticketing', '', 'Development and Project, Expression of Interests, Tender Notice, Bid', 'Online Media', 'Development and Project', 'Public Health, Development and Project, Nursing', 'Computer  - Technology/Management, Computer - System Programming, Computer - Programming, Web Designing and Programming', 'Sales, Marketing', 'Graphic Design', 'Tourism Industry, Travel &amp; Ticketing', 'Tourism Industry, Information Technology', 'Development and Project, Development / NGO, Agriculture/Livelihood', 'Public Health, Development and Project, Development / INGO, Nursing', 'Development and Project, Expression of Interests, Tender Notice, Bid', 'Development and Project, Expression of Interests, Tender Notice, Bid, Development / INGO', 'Development and Project, Expression of Interests, Tender Notice, Bid, Development / NGO', 'Electronics / Electrical, Computer - Hardware / Network, Office Assistant', 'Development and Project, Expression of Interests, Tender Notice, Bid, Development / NGO', '', 'Accounting and Finance, Development and Project, Finance &amp; Administration, Development / INGO', 'Construction Services, Marketing, Computer - Multimedia Programming, Business Development, Computer - Internet Marketing, Internet Marketing, Marketing Representatives, Client Servicing Representative', 'Development and Project, Expression of Interests, Tender Notice, Bid, Development / NGO', 'Development and Project, Development / INGO', 'Development and Project, Research', '', 'Development and Project, Expression of Interests, Tender Notice, Bid', 'Engineering - Civil', 'Development and Project, Expression of Interests, Tender Notice, Bid', 'Development and Project, Expression of Interests, Tender Notice, Bid, Development / INGO', 'Development and Project, Research Officer', 'Computer  - Technology/Management, Engineering - Software, Software Development', 'Development and Project, Expression of Interests, Tender Notice, Bid, Development / NGO', '', 'Development and Project, Expression of Interests, Tender Notice, Bid, Development / NGO', 'Sales, Marketing, Business Development', 'Development and Project', 'Development and Project', 'Development and Project', '', 'Development and Project', 'Information Technology, Web Development', 'Information Technology, Engineering - Software', 'Research, Business Development', 'Product Management, Research, Business Development', 'Public Relation / Advertising, Graphic Design, Customer Service, Marketing', 'Development and Project, Expression of Interests, Tender Notice, Bid', 'NGO/INGO/Social work', 'Content Writing', 'Development and Project', 'Development and Project', 'Information Technology', 'Computer - System Programming, Engineering - Computer, Computer - Programming, Mobile App Development, Software Development', 'Development and Project, Expression of Interests, Tender Notice, Bid', 'Development and Project, Expression of Interests, Tender Notice, Bid', 'Information Technology, Development and Project', 'Technical, Development and Project, Environment and climate', 'Information Technology, Engineering - Software', 'Agriculture + Livestock, Development and Project, Development / NGO', '', 'Engineering - Electrical, Engineering - Mechanical', 'Public Relation / Advertising, E-Commerce, Web Promotion , Research, Social Marketer', 'Development and Project, Communication, Data collection', 'Information Technology, Web Development', 'Logistics / Procurement, Expression of Interests, Tender Notice, Bid', 'Database Programming, Computer - Programming, Web Designing and Programming', 'Web Designing &amp; Programming, Computer - Programming, Mobile App Development', 'Computer - System Programming, Computer - Programming, Web Designing and Programming', 'Accounting and Finance, Auditing', 'Computer  - Technology/Management, Technical, Information Technology, Engineering - Computer, Computer - Programming', 'Development and Project, Finance &amp; Administration, Business Administration', 'Development and Project, Auditing', 'Business Development', 'Pharmaceuticals, Front Desk / Reception', 'Medical / Nursing', 'Computer - Programming, Web Development', 'Development and Project, Expression of Interests, Tender Notice, Bid, Development / INGO']\n"
     ]
    }
   ],
   "source": [
    "import re\n",
    "import urllib.request\n",
    "\n",
    "job_titles = []\n",
    "datacompany = []\n",
    "locations = []\n",
    "categories = []\n",
    "\n",
    "user_agent = 'Mozilla/5.0 (Windows NT 10.0; Win64; x64) AppleWebKit/537.36 (KHTML, like Gecko) Chrome/58.0.3029.110 Safari/537.3'\n",
    "\n",
    "for page_num in range(1, 15):\n",
    "    url = f'https://www.jobsnepal.com/jobs?page={page_num}'\n",
    "\n",
    "    request = urllib.request.Request(url, headers={'User-Agent': user_agent})\n",
    "    response = urllib.request.urlopen(request)\n",
    "    html_content = response.read().decode('utf-8')\n",
    "\n",
    "\n",
    "    titlepattern = r'<h2 class=\"job-title\" title=\"(.*?)\">'\n",
    "    matchtitle = re.findall(titlepattern, html_content)\n",
    "    job_titles.extend(matchtitle)\n",
    "\n",
    "\n",
    "    companypattern = r'<div class=\"card-inner\">.*?<a[^>]+title=\"(.*?)\"'\n",
    "    matchcompany = re.findall(companypattern, html_content, re.DOTALL)\n",
    "    datacompany.extend(matchcompany)\n",
    "\n",
    "\n",
    "    locationpattern = r'<div class=\"d-flex align-items-center pl-1 pr-1 py-1\">\\s*<i class=\"icon-location4 mr-2 text-success\">\\s*</i>\\s*<div>\\s*(.*?)\\s*</div>'\n",
    "    matchlocation = re.findall(locationpattern, html_content)\n",
    "    locations.extend(matchlocation)\n",
    "\n",
    "\n",
    "    categoriespattern = r'<div class=\"d-flex align-items-center pl-1 pr-1 py-1\">\\s*<i class=\"icon-price-tags mr-2 text-success icon-sm\">\\s*</i>\\s*<div>\\s*(.*?)\\s*</div>'\n",
    "    matchcategory = re.findall(categoriespattern, html_content)\n",
    "    categories.extend(matchcategory)\n",
    "\n",
    "\n",
    "\n",
    "print(\"Job Titles:\", job_titles)\n",
    "print(\"Company:\", datacompany)\n",
    "print(\"Locations:\", locations)\n",
    "print(\"Categories:\", categories)\n"
   ]
  },
  {
   "cell_type": "code",
   "execution_count": 2,
   "metadata": {},
   "outputs": [
    {
     "name": "stdout",
     "output_type": "stream",
     "text": [
      "140\n"
     ]
    }
   ],
   "source": [
    "totaljob_title = len(job_titles)\n",
    "print(totaljob_title)"
   ]
  },
  {
   "cell_type": "markdown",
   "metadata": {},
   "source": [
    "Export To CSV"
   ]
  },
  {
   "cell_type": "code",
   "execution_count": 3,
   "metadata": {},
   "outputs": [
    {
     "name": "stdout",
     "output_type": "stream",
     "text": [
      "Data exported to csv/jobs_nepal_regex_scrap.csv\n"
     ]
    }
   ],
   "source": [
    "# Create a list of tuples containing job titles and companies\n",
    "data = list(zip(job_titles, datacompany,locations,categories))\n",
    "import csv\n",
    "\n",
    "# Define the CSV file path\n",
    "csv_file = 'csv/jobs_nepal_regex_scrap.csv'\n",
    "\n",
    "# Write the data to a CSV file\n",
    "with open(csv_file, 'w', newline='', encoding='utf-8') as file:\n",
    "    writer = csv.writer(file)\n",
    "    writer.writerow(['Job Title', 'Company', 'Location', 'Category'])  # Write header row\n",
    "    writer.writerows(data)  # Write data rows\n",
    "\n",
    "print(f'Data exported to {csv_file}')"
   ]
  }
 ],
 "metadata": {
  "kernelspec": {
   "display_name": "base",
   "language": "python",
   "name": "python3"
  },
  "language_info": {
   "codemirror_mode": {
    "name": "ipython",
    "version": 3
   },
   "file_extension": ".py",
   "mimetype": "text/x-python",
   "name": "python",
   "nbconvert_exporter": "python",
   "pygments_lexer": "ipython3",
   "version": "3.11.7"
  }
 },
 "nbformat": 4,
 "nbformat_minor": 2
}
